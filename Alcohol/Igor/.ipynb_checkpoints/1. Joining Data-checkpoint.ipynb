{
 "cells": [
  {
   "cell_type": "code",
   "execution_count": 93,
   "metadata": {
    "ExecuteTime": {
     "end_time": "2020-03-14T11:29:42.889610Z",
     "start_time": "2020-03-14T11:29:42.885609Z"
    }
   },
   "outputs": [],
   "source": [
    "import numpy as np\n",
    "import pandas as pd"
   ]
  },
  {
   "cell_type": "code",
   "execution_count": 94,
   "metadata": {
    "ExecuteTime": {
     "end_time": "2020-03-14T11:29:43.321504Z",
     "start_time": "2020-03-14T11:29:42.891611Z"
    }
   },
   "outputs": [],
   "source": [
    "df = pd.read_csv('https://raw.githubusercontent.com/rfordatascience/tidytuesday/master/data/2018/2018-06-26/week13_alcohol_global.csv')"
   ]
  },
  {
   "cell_type": "code",
   "execution_count": 95,
   "metadata": {
    "ExecuteTime": {
     "end_time": "2020-03-14T11:29:43.347334Z",
     "start_time": "2020-03-14T11:29:43.326387Z"
    }
   },
   "outputs": [
    {
     "data": {
      "text/html": [
       "<div>\n",
       "<style scoped>\n",
       "    .dataframe tbody tr th:only-of-type {\n",
       "        vertical-align: middle;\n",
       "    }\n",
       "\n",
       "    .dataframe tbody tr th {\n",
       "        vertical-align: top;\n",
       "    }\n",
       "\n",
       "    .dataframe thead th {\n",
       "        text-align: right;\n",
       "    }\n",
       "</style>\n",
       "<table border=\"1\" class=\"dataframe\">\n",
       "  <thead>\n",
       "    <tr style=\"text-align: right;\">\n",
       "      <th></th>\n",
       "      <th>country</th>\n",
       "      <th>beer_servings</th>\n",
       "      <th>spirit_servings</th>\n",
       "      <th>wine_servings</th>\n",
       "      <th>total_litres_of_pure_alcohol</th>\n",
       "    </tr>\n",
       "  </thead>\n",
       "  <tbody>\n",
       "    <tr>\n",
       "      <td>0</td>\n",
       "      <td>Afghanistan</td>\n",
       "      <td>0</td>\n",
       "      <td>0</td>\n",
       "      <td>0</td>\n",
       "      <td>0.0</td>\n",
       "    </tr>\n",
       "    <tr>\n",
       "      <td>1</td>\n",
       "      <td>Albania</td>\n",
       "      <td>89</td>\n",
       "      <td>132</td>\n",
       "      <td>54</td>\n",
       "      <td>4.9</td>\n",
       "    </tr>\n",
       "    <tr>\n",
       "      <td>2</td>\n",
       "      <td>Algeria</td>\n",
       "      <td>25</td>\n",
       "      <td>0</td>\n",
       "      <td>14</td>\n",
       "      <td>0.7</td>\n",
       "    </tr>\n",
       "    <tr>\n",
       "      <td>3</td>\n",
       "      <td>Andorra</td>\n",
       "      <td>245</td>\n",
       "      <td>138</td>\n",
       "      <td>312</td>\n",
       "      <td>12.4</td>\n",
       "    </tr>\n",
       "    <tr>\n",
       "      <td>4</td>\n",
       "      <td>Angola</td>\n",
       "      <td>217</td>\n",
       "      <td>57</td>\n",
       "      <td>45</td>\n",
       "      <td>5.9</td>\n",
       "    </tr>\n",
       "  </tbody>\n",
       "</table>\n",
       "</div>"
      ],
      "text/plain": [
       "       country  beer_servings  spirit_servings  wine_servings  \\\n",
       "0  Afghanistan              0                0              0   \n",
       "1      Albania             89              132             54   \n",
       "2      Algeria             25                0             14   \n",
       "3      Andorra            245              138            312   \n",
       "4       Angola            217               57             45   \n",
       "\n",
       "   total_litres_of_pure_alcohol  \n",
       "0                           0.0  \n",
       "1                           4.9  \n",
       "2                           0.7  \n",
       "3                          12.4  \n",
       "4                           5.9  "
      ]
     },
     "execution_count": 95,
     "metadata": {},
     "output_type": "execute_result"
    }
   ],
   "source": [
    "df.head()"
   ]
  },
  {
   "cell_type": "code",
   "execution_count": 96,
   "metadata": {
    "ExecuteTime": {
     "end_time": "2020-03-14T11:29:43.356421Z",
     "start_time": "2020-03-14T11:29:43.350345Z"
    }
   },
   "outputs": [
    {
     "name": "stdout",
     "output_type": "stream",
     "text": [
      "<class 'pandas.core.frame.DataFrame'>\n",
      "RangeIndex: 193 entries, 0 to 192\n",
      "Data columns (total 5 columns):\n",
      "country                         193 non-null object\n",
      "beer_servings                   193 non-null int64\n",
      "spirit_servings                 193 non-null int64\n",
      "wine_servings                   193 non-null int64\n",
      "total_litres_of_pure_alcohol    193 non-null float64\n",
      "dtypes: float64(1), int64(3), object(1)\n",
      "memory usage: 7.7+ KB\n"
     ]
    }
   ],
   "source": [
    "df.info()"
   ]
  },
  {
   "cell_type": "code",
   "execution_count": 97,
   "metadata": {
    "ExecuteTime": {
     "end_time": "2020-03-14T11:29:43.363433Z",
     "start_time": "2020-03-14T11:29:43.357402Z"
    }
   },
   "outputs": [],
   "source": [
    "country_short = pd.read_csv('country_short.csv')"
   ]
  },
  {
   "cell_type": "code",
   "execution_count": 98,
   "metadata": {
    "ExecuteTime": {
     "end_time": "2020-03-14T11:29:43.375403Z",
     "start_time": "2020-03-14T11:29:43.366403Z"
    }
   },
   "outputs": [
    {
     "data": {
      "text/html": [
       "<div>\n",
       "<style scoped>\n",
       "    .dataframe tbody tr th:only-of-type {\n",
       "        vertical-align: middle;\n",
       "    }\n",
       "\n",
       "    .dataframe tbody tr th {\n",
       "        vertical-align: top;\n",
       "    }\n",
       "\n",
       "    .dataframe thead th {\n",
       "        text-align: right;\n",
       "    }\n",
       "</style>\n",
       "<table border=\"1\" class=\"dataframe\">\n",
       "  <thead>\n",
       "    <tr style=\"text-align: right;\">\n",
       "      <th></th>\n",
       "      <th>Name</th>\n",
       "      <th>Code</th>\n",
       "    </tr>\n",
       "  </thead>\n",
       "  <tbody>\n",
       "    <tr>\n",
       "      <td>0</td>\n",
       "      <td>Afghanistan</td>\n",
       "      <td>AF</td>\n",
       "    </tr>\n",
       "    <tr>\n",
       "      <td>1</td>\n",
       "      <td>Åland Islands</td>\n",
       "      <td>AX</td>\n",
       "    </tr>\n",
       "    <tr>\n",
       "      <td>2</td>\n",
       "      <td>Albania</td>\n",
       "      <td>AL</td>\n",
       "    </tr>\n",
       "    <tr>\n",
       "      <td>3</td>\n",
       "      <td>Algeria</td>\n",
       "      <td>DZ</td>\n",
       "    </tr>\n",
       "    <tr>\n",
       "      <td>4</td>\n",
       "      <td>American Samoa</td>\n",
       "      <td>AS</td>\n",
       "    </tr>\n",
       "  </tbody>\n",
       "</table>\n",
       "</div>"
      ],
      "text/plain": [
       "             Name Code\n",
       "0     Afghanistan   AF\n",
       "1   Åland Islands   AX\n",
       "2         Albania   AL\n",
       "3         Algeria   DZ\n",
       "4  American Samoa   AS"
      ]
     },
     "execution_count": 98,
     "metadata": {},
     "output_type": "execute_result"
    }
   ],
   "source": [
    "country_short.head()"
   ]
  },
  {
   "cell_type": "code",
   "execution_count": 99,
   "metadata": {
    "ExecuteTime": {
     "end_time": "2020-03-14T11:29:43.386404Z",
     "start_time": "2020-03-14T11:29:43.377403Z"
    }
   },
   "outputs": [
    {
     "data": {
      "text/html": [
       "<div>\n",
       "<style scoped>\n",
       "    .dataframe tbody tr th:only-of-type {\n",
       "        vertical-align: middle;\n",
       "    }\n",
       "\n",
       "    .dataframe tbody tr th {\n",
       "        vertical-align: top;\n",
       "    }\n",
       "\n",
       "    .dataframe thead th {\n",
       "        text-align: right;\n",
       "    }\n",
       "</style>\n",
       "<table border=\"1\" class=\"dataframe\">\n",
       "  <thead>\n",
       "    <tr style=\"text-align: right;\">\n",
       "      <th></th>\n",
       "      <th>Name</th>\n",
       "      <th>Code</th>\n",
       "    </tr>\n",
       "  </thead>\n",
       "  <tbody>\n",
       "    <tr>\n",
       "      <td>0</td>\n",
       "      <td>Afghanistan</td>\n",
       "      <td>AF</td>\n",
       "    </tr>\n",
       "    <tr>\n",
       "      <td>1</td>\n",
       "      <td>Åland Islands</td>\n",
       "      <td>AX</td>\n",
       "    </tr>\n",
       "    <tr>\n",
       "      <td>2</td>\n",
       "      <td>Albania</td>\n",
       "      <td>AL</td>\n",
       "    </tr>\n",
       "    <tr>\n",
       "      <td>3</td>\n",
       "      <td>Algeria</td>\n",
       "      <td>DZ</td>\n",
       "    </tr>\n",
       "    <tr>\n",
       "      <td>4</td>\n",
       "      <td>American Samoa</td>\n",
       "      <td>AS</td>\n",
       "    </tr>\n",
       "    <tr>\n",
       "      <td>...</td>\n",
       "      <td>...</td>\n",
       "      <td>...</td>\n",
       "    </tr>\n",
       "    <tr>\n",
       "      <td>244</td>\n",
       "      <td>Wallis and Futuna</td>\n",
       "      <td>WF</td>\n",
       "    </tr>\n",
       "    <tr>\n",
       "      <td>245</td>\n",
       "      <td>Western Sahara</td>\n",
       "      <td>EH</td>\n",
       "    </tr>\n",
       "    <tr>\n",
       "      <td>246</td>\n",
       "      <td>Yemen</td>\n",
       "      <td>YE</td>\n",
       "    </tr>\n",
       "    <tr>\n",
       "      <td>247</td>\n",
       "      <td>Zambia</td>\n",
       "      <td>ZM</td>\n",
       "    </tr>\n",
       "    <tr>\n",
       "      <td>248</td>\n",
       "      <td>Zimbabwe</td>\n",
       "      <td>ZW</td>\n",
       "    </tr>\n",
       "  </tbody>\n",
       "</table>\n",
       "<p>249 rows × 2 columns</p>\n",
       "</div>"
      ],
      "text/plain": [
       "                  Name Code\n",
       "0          Afghanistan   AF\n",
       "1        Åland Islands   AX\n",
       "2              Albania   AL\n",
       "3              Algeria   DZ\n",
       "4       American Samoa   AS\n",
       "..                 ...  ...\n",
       "244  Wallis and Futuna   WF\n",
       "245     Western Sahara   EH\n",
       "246              Yemen   YE\n",
       "247             Zambia   ZM\n",
       "248           Zimbabwe   ZW\n",
       "\n",
       "[249 rows x 2 columns]"
      ]
     },
     "execution_count": 99,
     "metadata": {},
     "output_type": "execute_result"
    }
   ],
   "source": [
    "country_short"
   ]
  },
  {
   "cell_type": "code",
   "execution_count": 100,
   "metadata": {
    "ExecuteTime": {
     "end_time": "2020-03-14T11:29:43.391403Z",
     "start_time": "2020-03-14T11:29:43.388405Z"
    }
   },
   "outputs": [],
   "source": [
    "df['country'] = df['country'].str.replace('&', 'and')"
   ]
  },
  {
   "cell_type": "code",
   "execution_count": 101,
   "metadata": {
    "ExecuteTime": {
     "end_time": "2020-03-14T11:29:43.404405Z",
     "start_time": "2020-03-14T11:29:43.393406Z"
    }
   },
   "outputs": [],
   "source": [
    "df_2 = df.merge(country_short,\n",
    "        how = 'left',\n",
    "        left_on='country',\n",
    "        right_on='Name').drop(columns='Name')"
   ]
  },
  {
   "cell_type": "code",
   "execution_count": 102,
   "metadata": {
    "ExecuteTime": {
     "end_time": "2020-03-14T11:29:43.410406Z",
     "start_time": "2020-03-14T11:29:43.406403Z"
    }
   },
   "outputs": [],
   "source": [
    "df_2.set_index('country', inplace=True)"
   ]
  },
  {
   "cell_type": "code",
   "execution_count": 103,
   "metadata": {
    "ExecuteTime": {
     "end_time": "2020-03-14T11:32:47.542835Z",
     "start_time": "2020-03-14T11:29:43.411403Z"
    },
    "scrolled": false
   },
   "outputs": [
    {
     "name": "stdout",
     "output_type": "stream",
     "text": [
      "Bolivia: BO\n",
      "Bosnia-Herzegovina: BA\n",
      "Brunei: BN\n",
      "Cote d'Ivoire: CI\n",
      "Cabo Verde: CV\n",
      "North Korea: KP\n",
      "DR Congo: CD\n",
      "Iran: IR\n",
      "Laos: LA\n",
      "Micronesia: FM\n",
      "Namibia: NA\n",
      "South Korea: KR\n",
      "Moldova: MD\n",
      "St. Kitts and Nevis: KN\n",
      "St. Lucia: LC\n",
      "St. Vincent and the Grenadines: VC\n",
      "Syria: SY\n",
      "Macedonia: MK\n",
      "Tanzania: TZ\n",
      "USA: US\n",
      "Venezuela: VE\n",
      "Vietnam: VN\n"
     ]
    }
   ],
   "source": [
    "for country in df_2[df_2['Code'].isna()].index:\n",
    "    name = input(country +': ')\n",
    "    df_2.at[country, 'Code'] = name"
   ]
  },
  {
   "cell_type": "code",
   "execution_count": 104,
   "metadata": {
    "ExecuteTime": {
     "end_time": "2020-03-14T11:32:47.558811Z",
     "start_time": "2020-03-14T11:32:47.544835Z"
    }
   },
   "outputs": [],
   "source": [
    "continents = pd.read_csv('continents.csv')\n",
    "continents = continents[['Two_Letter_Country_Code', 'Three_Letter_Country_Code', 'Continent_Name', 'Continent_Code']]"
   ]
  },
  {
   "cell_type": "code",
   "execution_count": 105,
   "metadata": {
    "ExecuteTime": {
     "end_time": "2020-03-14T11:32:47.563813Z",
     "start_time": "2020-03-14T11:32:47.560813Z"
    }
   },
   "outputs": [],
   "source": [
    "continents.at[152, 'Two_Letter_Country_Code'] = 'NA'"
   ]
  },
  {
   "cell_type": "code",
   "execution_count": 106,
   "metadata": {
    "ExecuteTime": {
     "end_time": "2020-03-14T11:32:47.573813Z",
     "start_time": "2020-03-14T11:32:47.565822Z"
    }
   },
   "outputs": [],
   "source": [
    "df_3 = df_2.reset_index().merge(continents, \n",
    "          how = 'left',\n",
    "          left_on='Code',\n",
    "          right_on='Two_Letter_Country_Code').drop(columns='Two_Letter_Country_Code')"
   ]
  },
  {
   "cell_type": "code",
   "execution_count": 107,
   "metadata": {
    "ExecuteTime": {
     "end_time": "2020-03-14T11:32:47.585124Z",
     "start_time": "2020-03-14T11:32:47.575814Z"
    }
   },
   "outputs": [
    {
     "data": {
      "text/html": [
       "<div>\n",
       "<style scoped>\n",
       "    .dataframe tbody tr th:only-of-type {\n",
       "        vertical-align: middle;\n",
       "    }\n",
       "\n",
       "    .dataframe tbody tr th {\n",
       "        vertical-align: top;\n",
       "    }\n",
       "\n",
       "    .dataframe thead th {\n",
       "        text-align: right;\n",
       "    }\n",
       "</style>\n",
       "<table border=\"1\" class=\"dataframe\">\n",
       "  <thead>\n",
       "    <tr style=\"text-align: right;\">\n",
       "      <th></th>\n",
       "      <th>country</th>\n",
       "      <th>beer_servings</th>\n",
       "      <th>spirit_servings</th>\n",
       "      <th>wine_servings</th>\n",
       "      <th>total_litres_of_pure_alcohol</th>\n",
       "      <th>Code</th>\n",
       "      <th>Three_Letter_Country_Code</th>\n",
       "      <th>Continent_Name</th>\n",
       "      <th>Continent_Code</th>\n",
       "    </tr>\n",
       "  </thead>\n",
       "  <tbody>\n",
       "  </tbody>\n",
       "</table>\n",
       "</div>"
      ],
      "text/plain": [
       "Empty DataFrame\n",
       "Columns: [country, beer_servings, spirit_servings, wine_servings, total_litres_of_pure_alcohol, Code, Three_Letter_Country_Code, Continent_Name, Continent_Code]\n",
       "Index: []"
      ]
     },
     "execution_count": 107,
     "metadata": {},
     "output_type": "execute_result"
    }
   ],
   "source": [
    "df_3[df_3['Continent_Name'].isna()]"
   ]
  },
  {
   "cell_type": "code",
   "execution_count": 108,
   "metadata": {
    "ExecuteTime": {
     "end_time": "2020-03-14T11:32:47.604079Z",
     "start_time": "2020-03-14T11:32:47.587067Z"
    }
   },
   "outputs": [
    {
     "data": {
      "text/html": [
       "<div>\n",
       "<style scoped>\n",
       "    .dataframe tbody tr th:only-of-type {\n",
       "        vertical-align: middle;\n",
       "    }\n",
       "\n",
       "    .dataframe tbody tr th {\n",
       "        vertical-align: top;\n",
       "    }\n",
       "\n",
       "    .dataframe thead th {\n",
       "        text-align: right;\n",
       "    }\n",
       "</style>\n",
       "<table border=\"1\" class=\"dataframe\">\n",
       "  <thead>\n",
       "    <tr style=\"text-align: right;\">\n",
       "      <th></th>\n",
       "      <th>country</th>\n",
       "      <th>beer_servings</th>\n",
       "      <th>spirit_servings</th>\n",
       "      <th>wine_servings</th>\n",
       "      <th>total_litres_of_pure_alcohol</th>\n",
       "      <th>Code</th>\n",
       "      <th>Three_Letter_Country_Code</th>\n",
       "      <th>Continent_Name</th>\n",
       "      <th>Continent_Code</th>\n",
       "    </tr>\n",
       "  </thead>\n",
       "  <tbody>\n",
       "    <tr>\n",
       "      <td>0</td>\n",
       "      <td>Afghanistan</td>\n",
       "      <td>0</td>\n",
       "      <td>0</td>\n",
       "      <td>0</td>\n",
       "      <td>0.0</td>\n",
       "      <td>AF</td>\n",
       "      <td>AFG</td>\n",
       "      <td>Asia</td>\n",
       "      <td>AS</td>\n",
       "    </tr>\n",
       "    <tr>\n",
       "      <td>1</td>\n",
       "      <td>Albania</td>\n",
       "      <td>89</td>\n",
       "      <td>132</td>\n",
       "      <td>54</td>\n",
       "      <td>4.9</td>\n",
       "      <td>AL</td>\n",
       "      <td>ALB</td>\n",
       "      <td>Europe</td>\n",
       "      <td>EU</td>\n",
       "    </tr>\n",
       "    <tr>\n",
       "      <td>2</td>\n",
       "      <td>Algeria</td>\n",
       "      <td>25</td>\n",
       "      <td>0</td>\n",
       "      <td>14</td>\n",
       "      <td>0.7</td>\n",
       "      <td>DZ</td>\n",
       "      <td>DZA</td>\n",
       "      <td>Africa</td>\n",
       "      <td>AF</td>\n",
       "    </tr>\n",
       "    <tr>\n",
       "      <td>3</td>\n",
       "      <td>Andorra</td>\n",
       "      <td>245</td>\n",
       "      <td>138</td>\n",
       "      <td>312</td>\n",
       "      <td>12.4</td>\n",
       "      <td>AD</td>\n",
       "      <td>AND</td>\n",
       "      <td>Europe</td>\n",
       "      <td>EU</td>\n",
       "    </tr>\n",
       "    <tr>\n",
       "      <td>4</td>\n",
       "      <td>Angola</td>\n",
       "      <td>217</td>\n",
       "      <td>57</td>\n",
       "      <td>45</td>\n",
       "      <td>5.9</td>\n",
       "      <td>AO</td>\n",
       "      <td>AGO</td>\n",
       "      <td>Africa</td>\n",
       "      <td>AF</td>\n",
       "    </tr>\n",
       "    <tr>\n",
       "      <td>...</td>\n",
       "      <td>...</td>\n",
       "      <td>...</td>\n",
       "      <td>...</td>\n",
       "      <td>...</td>\n",
       "      <td>...</td>\n",
       "      <td>...</td>\n",
       "      <td>...</td>\n",
       "      <td>...</td>\n",
       "      <td>...</td>\n",
       "    </tr>\n",
       "    <tr>\n",
       "      <td>195</td>\n",
       "      <td>Venezuela</td>\n",
       "      <td>333</td>\n",
       "      <td>100</td>\n",
       "      <td>3</td>\n",
       "      <td>7.7</td>\n",
       "      <td>VE</td>\n",
       "      <td>VEN</td>\n",
       "      <td>South America</td>\n",
       "      <td>SA</td>\n",
       "    </tr>\n",
       "    <tr>\n",
       "      <td>196</td>\n",
       "      <td>Vietnam</td>\n",
       "      <td>111</td>\n",
       "      <td>2</td>\n",
       "      <td>1</td>\n",
       "      <td>2.0</td>\n",
       "      <td>VN</td>\n",
       "      <td>VNM</td>\n",
       "      <td>Asia</td>\n",
       "      <td>AS</td>\n",
       "    </tr>\n",
       "    <tr>\n",
       "      <td>197</td>\n",
       "      <td>Yemen</td>\n",
       "      <td>6</td>\n",
       "      <td>0</td>\n",
       "      <td>0</td>\n",
       "      <td>0.1</td>\n",
       "      <td>YE</td>\n",
       "      <td>YEM</td>\n",
       "      <td>Asia</td>\n",
       "      <td>AS</td>\n",
       "    </tr>\n",
       "    <tr>\n",
       "      <td>198</td>\n",
       "      <td>Zambia</td>\n",
       "      <td>32</td>\n",
       "      <td>19</td>\n",
       "      <td>4</td>\n",
       "      <td>2.5</td>\n",
       "      <td>ZM</td>\n",
       "      <td>ZMB</td>\n",
       "      <td>Africa</td>\n",
       "      <td>AF</td>\n",
       "    </tr>\n",
       "    <tr>\n",
       "      <td>199</td>\n",
       "      <td>Zimbabwe</td>\n",
       "      <td>64</td>\n",
       "      <td>18</td>\n",
       "      <td>4</td>\n",
       "      <td>4.7</td>\n",
       "      <td>ZW</td>\n",
       "      <td>ZWE</td>\n",
       "      <td>Africa</td>\n",
       "      <td>AF</td>\n",
       "    </tr>\n",
       "  </tbody>\n",
       "</table>\n",
       "<p>200 rows × 9 columns</p>\n",
       "</div>"
      ],
      "text/plain": [
       "         country  beer_servings  spirit_servings  wine_servings  \\\n",
       "0    Afghanistan              0                0              0   \n",
       "1        Albania             89              132             54   \n",
       "2        Algeria             25                0             14   \n",
       "3        Andorra            245              138            312   \n",
       "4         Angola            217               57             45   \n",
       "..           ...            ...              ...            ...   \n",
       "195    Venezuela            333              100              3   \n",
       "196      Vietnam            111                2              1   \n",
       "197        Yemen              6                0              0   \n",
       "198       Zambia             32               19              4   \n",
       "199     Zimbabwe             64               18              4   \n",
       "\n",
       "     total_litres_of_pure_alcohol Code Three_Letter_Country_Code  \\\n",
       "0                             0.0   AF                       AFG   \n",
       "1                             4.9   AL                       ALB   \n",
       "2                             0.7   DZ                       DZA   \n",
       "3                            12.4   AD                       AND   \n",
       "4                             5.9   AO                       AGO   \n",
       "..                            ...  ...                       ...   \n",
       "195                           7.7   VE                       VEN   \n",
       "196                           2.0   VN                       VNM   \n",
       "197                           0.1   YE                       YEM   \n",
       "198                           2.5   ZM                       ZMB   \n",
       "199                           4.7   ZW                       ZWE   \n",
       "\n",
       "    Continent_Name Continent_Code  \n",
       "0             Asia             AS  \n",
       "1           Europe             EU  \n",
       "2           Africa             AF  \n",
       "3           Europe             EU  \n",
       "4           Africa             AF  \n",
       "..             ...            ...  \n",
       "195  South America             SA  \n",
       "196           Asia             AS  \n",
       "197           Asia             AS  \n",
       "198         Africa             AF  \n",
       "199         Africa             AF  \n",
       "\n",
       "[200 rows x 9 columns]"
      ]
     },
     "execution_count": 108,
     "metadata": {},
     "output_type": "execute_result"
    }
   ],
   "source": [
    "df_3"
   ]
  },
  {
   "cell_type": "code",
   "execution_count": 148,
   "metadata": {
    "ExecuteTime": {
     "end_time": "2020-03-14T11:57:01.639535Z",
     "start_time": "2020-03-14T11:57:01.626533Z"
    }
   },
   "outputs": [],
   "source": [
    "pop = pd.read_csv('pop.csv', delimiter=';').drop(columns='Country Name')\n",
    "pop.rename(columns={'2018': 'pop_2018', '1998': 'pop_1998'}, inplace=True)"
   ]
  },
  {
   "cell_type": "code",
   "execution_count": 149,
   "metadata": {
    "ExecuteTime": {
     "end_time": "2020-03-14T11:57:02.316067Z",
     "start_time": "2020-03-14T11:57:02.311052Z"
    }
   },
   "outputs": [],
   "source": [
    "pop['Population_diff'] = (pop['pop_2018'] - pop['pop_1998'])/ pop['pop_1998']"
   ]
  },
  {
   "cell_type": "code",
   "execution_count": 150,
   "metadata": {
    "ExecuteTime": {
     "end_time": "2020-03-14T11:57:04.657234Z",
     "start_time": "2020-03-14T11:57:04.643410Z"
    }
   },
   "outputs": [],
   "source": [
    "df_4 = df_3.merge(pop,\n",
    "          how='left',\n",
    "          left_on='Three_Letter_Country_Code',\n",
    "          right_on='Country Code').drop(columns='Country Code')"
   ]
  },
  {
   "cell_type": "code",
   "execution_count": 171,
   "metadata": {
    "ExecuteTime": {
     "end_time": "2020-03-14T12:03:13.024917Z",
     "start_time": "2020-03-14T12:03:13.014421Z"
    }
   },
   "outputs": [],
   "source": [
    "gdp = pd.read_csv('gdp.csv', delimiter=';').drop(columns='Country Name')\n",
    "gdp.rename(columns={'2018': 'gdp_2018', '1998': 'gdp_1998'}, inplace=True)"
   ]
  },
  {
   "cell_type": "code",
   "execution_count": 172,
   "metadata": {
    "ExecuteTime": {
     "end_time": "2020-03-14T12:03:16.017760Z",
     "start_time": "2020-03-14T12:03:16.006763Z"
    }
   },
   "outputs": [
    {
     "data": {
      "text/html": [
       "<div>\n",
       "<style scoped>\n",
       "    .dataframe tbody tr th:only-of-type {\n",
       "        vertical-align: middle;\n",
       "    }\n",
       "\n",
       "    .dataframe tbody tr th {\n",
       "        vertical-align: top;\n",
       "    }\n",
       "\n",
       "    .dataframe thead th {\n",
       "        text-align: right;\n",
       "    }\n",
       "</style>\n",
       "<table border=\"1\" class=\"dataframe\">\n",
       "  <thead>\n",
       "    <tr style=\"text-align: right;\">\n",
       "      <th></th>\n",
       "      <th>Country Code</th>\n",
       "      <th>gdp_1998</th>\n",
       "      <th>gdp_2018</th>\n",
       "    </tr>\n",
       "  </thead>\n",
       "  <tbody>\n",
       "    <tr>\n",
       "      <td>0</td>\n",
       "      <td>ABW</td>\n",
       "      <td>1.665101e+09</td>\n",
       "      <td>NaN</td>\n",
       "    </tr>\n",
       "    <tr>\n",
       "      <td>1</td>\n",
       "      <td>AFG</td>\n",
       "      <td>NaN</td>\n",
       "      <td>1.936297e+10</td>\n",
       "    </tr>\n",
       "    <tr>\n",
       "      <td>2</td>\n",
       "      <td>AGO</td>\n",
       "      <td>6.506230e+09</td>\n",
       "      <td>1.057510e+11</td>\n",
       "    </tr>\n",
       "    <tr>\n",
       "      <td>3</td>\n",
       "      <td>ALB</td>\n",
       "      <td>2.545967e+09</td>\n",
       "      <td>1.510250e+10</td>\n",
       "    </tr>\n",
       "    <tr>\n",
       "      <td>4</td>\n",
       "      <td>AND</td>\n",
       "      <td>1.211932e+09</td>\n",
       "      <td>3.236544e+09</td>\n",
       "    </tr>\n",
       "    <tr>\n",
       "      <td>...</td>\n",
       "      <td>...</td>\n",
       "      <td>...</td>\n",
       "      <td>...</td>\n",
       "    </tr>\n",
       "    <tr>\n",
       "      <td>259</td>\n",
       "      <td>XKX</td>\n",
       "      <td>NaN</td>\n",
       "      <td>7.938991e+09</td>\n",
       "    </tr>\n",
       "    <tr>\n",
       "      <td>260</td>\n",
       "      <td>Rep.</td>\n",
       "      <td>6.838557e+09</td>\n",
       "      <td>2.681870e+10</td>\n",
       "    </tr>\n",
       "    <tr>\n",
       "      <td>261</td>\n",
       "      <td>ZAF</td>\n",
       "      <td>1.377748e+11</td>\n",
       "      <td>3.682889e+11</td>\n",
       "    </tr>\n",
       "    <tr>\n",
       "      <td>262</td>\n",
       "      <td>ZMB</td>\n",
       "      <td>3.537683e+09</td>\n",
       "      <td>2.672007e+10</td>\n",
       "    </tr>\n",
       "    <tr>\n",
       "      <td>263</td>\n",
       "      <td>ZWE</td>\n",
       "      <td>6.401968e+09</td>\n",
       "      <td>3.100052e+10</td>\n",
       "    </tr>\n",
       "  </tbody>\n",
       "</table>\n",
       "<p>264 rows × 3 columns</p>\n",
       "</div>"
      ],
      "text/plain": [
       "    Country Code      gdp_1998      gdp_2018\n",
       "0            ABW  1.665101e+09           NaN\n",
       "1            AFG           NaN  1.936297e+10\n",
       "2            AGO  6.506230e+09  1.057510e+11\n",
       "3            ALB  2.545967e+09  1.510250e+10\n",
       "4            AND  1.211932e+09  3.236544e+09\n",
       "..           ...           ...           ...\n",
       "259          XKX           NaN  7.938991e+09\n",
       "260         Rep.  6.838557e+09  2.681870e+10\n",
       "261          ZAF  1.377748e+11  3.682889e+11\n",
       "262          ZMB  3.537683e+09  2.672007e+10\n",
       "263          ZWE  6.401968e+09  3.100052e+10\n",
       "\n",
       "[264 rows x 3 columns]"
      ]
     },
     "execution_count": 172,
     "metadata": {},
     "output_type": "execute_result"
    }
   ],
   "source": [
    "gdp"
   ]
  },
  {
   "cell_type": "code",
   "execution_count": 173,
   "metadata": {
    "ExecuteTime": {
     "end_time": "2020-03-14T12:03:17.253337Z",
     "start_time": "2020-03-14T12:03:17.241305Z"
    }
   },
   "outputs": [
    {
     "data": {
      "text/plain": [
       "0      1.665101e+09\n",
       "1               NaN\n",
       "2      6.506230e+09\n",
       "3      2.545967e+09\n",
       "4      1.211932e+09\n",
       "           ...     \n",
       "259             NaN\n",
       "260    6.838557e+09\n",
       "261    1.377748e+11\n",
       "262    3.537683e+09\n",
       "263    6.401968e+09\n",
       "Name: gdp_1998, Length: 264, dtype: float64"
      ]
     },
     "execution_count": 173,
     "metadata": {},
     "output_type": "execute_result"
    }
   ],
   "source": [
    "gdp['gdp_1998']"
   ]
  },
  {
   "cell_type": "code",
   "execution_count": 174,
   "metadata": {
    "ExecuteTime": {
     "end_time": "2020-03-14T12:03:19.531180Z",
     "start_time": "2020-03-14T12:03:19.526210Z"
    }
   },
   "outputs": [],
   "source": [
    "gdp['GDP_diff'] = (gdp['gdp_2018'] - gdp['gdp_1998'])/ gdp['gdp_1998']"
   ]
  },
  {
   "cell_type": "code",
   "execution_count": 175,
   "metadata": {
    "ExecuteTime": {
     "end_time": "2020-03-14T12:03:38.386588Z",
     "start_time": "2020-03-14T12:03:38.376593Z"
    }
   },
   "outputs": [],
   "source": [
    "df_5 = df_4.merge(pop,\n",
    "          how='left',\n",
    "          left_on='Three_Letter_Country_Code',\n",
    "          right_on='Country Code').drop(columns='Country Code')"
   ]
  },
  {
   "cell_type": "code",
   "execution_count": 176,
   "metadata": {
    "ExecuteTime": {
     "end_time": "2020-03-14T12:09:32.370630Z",
     "start_time": "2020-03-14T12:09:31.844830Z"
    }
   },
   "outputs": [],
   "source": [
    "region = pd.read_csv('https://raw.githubusercontent.com/lukes/ISO-3166-Countries-with-Regional-Codes/master/all/all.csv')\n",
    "region = region[['alpha-3', 'sub-region']]"
   ]
  },
  {
   "cell_type": "code",
   "execution_count": 179,
   "metadata": {
    "ExecuteTime": {
     "end_time": "2020-03-14T12:10:46.638845Z",
     "start_time": "2020-03-14T12:10:46.602493Z"
    }
   },
   "outputs": [
    {
     "data": {
      "text/html": [
       "<div>\n",
       "<style scoped>\n",
       "    .dataframe tbody tr th:only-of-type {\n",
       "        vertical-align: middle;\n",
       "    }\n",
       "\n",
       "    .dataframe tbody tr th {\n",
       "        vertical-align: top;\n",
       "    }\n",
       "\n",
       "    .dataframe thead th {\n",
       "        text-align: right;\n",
       "    }\n",
       "</style>\n",
       "<table border=\"1\" class=\"dataframe\">\n",
       "  <thead>\n",
       "    <tr style=\"text-align: right;\">\n",
       "      <th></th>\n",
       "      <th>country</th>\n",
       "      <th>beer_servings</th>\n",
       "      <th>spirit_servings</th>\n",
       "      <th>wine_servings</th>\n",
       "      <th>total_litres_of_pure_alcohol</th>\n",
       "      <th>Code</th>\n",
       "      <th>Three_Letter_Country_Code</th>\n",
       "      <th>Continent_Name</th>\n",
       "      <th>Continent_Code</th>\n",
       "      <th>pop_1998_x</th>\n",
       "      <th>pop_2018_x</th>\n",
       "      <th>Population_diff_x</th>\n",
       "      <th>pop_1998_y</th>\n",
       "      <th>pop_2018_y</th>\n",
       "      <th>Population_diff_y</th>\n",
       "      <th>sub-region</th>\n",
       "    </tr>\n",
       "  </thead>\n",
       "  <tbody>\n",
       "    <tr>\n",
       "      <td>0</td>\n",
       "      <td>Afghanistan</td>\n",
       "      <td>0</td>\n",
       "      <td>0</td>\n",
       "      <td>0</td>\n",
       "      <td>0.0</td>\n",
       "      <td>AF</td>\n",
       "      <td>AFG</td>\n",
       "      <td>Asia</td>\n",
       "      <td>AS</td>\n",
       "      <td>19737765.0</td>\n",
       "      <td>37172386.0</td>\n",
       "      <td>0.883313</td>\n",
       "      <td>19737765.0</td>\n",
       "      <td>37172386.0</td>\n",
       "      <td>0.883313</td>\n",
       "      <td>Southern Asia</td>\n",
       "    </tr>\n",
       "    <tr>\n",
       "      <td>1</td>\n",
       "      <td>Albania</td>\n",
       "      <td>89</td>\n",
       "      <td>132</td>\n",
       "      <td>54</td>\n",
       "      <td>4.9</td>\n",
       "      <td>AL</td>\n",
       "      <td>ALB</td>\n",
       "      <td>Europe</td>\n",
       "      <td>EU</td>\n",
       "      <td>3128530.0</td>\n",
       "      <td>2866376.0</td>\n",
       "      <td>-0.083795</td>\n",
       "      <td>3128530.0</td>\n",
       "      <td>2866376.0</td>\n",
       "      <td>-0.083795</td>\n",
       "      <td>Southern Europe</td>\n",
       "    </tr>\n",
       "    <tr>\n",
       "      <td>2</td>\n",
       "      <td>Algeria</td>\n",
       "      <td>25</td>\n",
       "      <td>0</td>\n",
       "      <td>14</td>\n",
       "      <td>0.7</td>\n",
       "      <td>DZ</td>\n",
       "      <td>DZA</td>\n",
       "      <td>Africa</td>\n",
       "      <td>AF</td>\n",
       "      <td>30192754.0</td>\n",
       "      <td>42228429.0</td>\n",
       "      <td>0.398628</td>\n",
       "      <td>30192754.0</td>\n",
       "      <td>42228429.0</td>\n",
       "      <td>0.398628</td>\n",
       "      <td>Northern Africa</td>\n",
       "    </tr>\n",
       "    <tr>\n",
       "      <td>3</td>\n",
       "      <td>Andorra</td>\n",
       "      <td>245</td>\n",
       "      <td>138</td>\n",
       "      <td>312</td>\n",
       "      <td>12.4</td>\n",
       "      <td>AD</td>\n",
       "      <td>AND</td>\n",
       "      <td>Europe</td>\n",
       "      <td>EU</td>\n",
       "      <td>64142.0</td>\n",
       "      <td>77006.0</td>\n",
       "      <td>0.200555</td>\n",
       "      <td>64142.0</td>\n",
       "      <td>77006.0</td>\n",
       "      <td>0.200555</td>\n",
       "      <td>Southern Europe</td>\n",
       "    </tr>\n",
       "    <tr>\n",
       "      <td>4</td>\n",
       "      <td>Angola</td>\n",
       "      <td>217</td>\n",
       "      <td>57</td>\n",
       "      <td>45</td>\n",
       "      <td>5.9</td>\n",
       "      <td>AO</td>\n",
       "      <td>AGO</td>\n",
       "      <td>Africa</td>\n",
       "      <td>AF</td>\n",
       "      <td>15359601.0</td>\n",
       "      <td>30809762.0</td>\n",
       "      <td>1.005896</td>\n",
       "      <td>15359601.0</td>\n",
       "      <td>30809762.0</td>\n",
       "      <td>1.005896</td>\n",
       "      <td>Sub-Saharan Africa</td>\n",
       "    </tr>\n",
       "    <tr>\n",
       "      <td>...</td>\n",
       "      <td>...</td>\n",
       "      <td>...</td>\n",
       "      <td>...</td>\n",
       "      <td>...</td>\n",
       "      <td>...</td>\n",
       "      <td>...</td>\n",
       "      <td>...</td>\n",
       "      <td>...</td>\n",
       "      <td>...</td>\n",
       "      <td>...</td>\n",
       "      <td>...</td>\n",
       "      <td>...</td>\n",
       "      <td>...</td>\n",
       "      <td>...</td>\n",
       "      <td>...</td>\n",
       "      <td>...</td>\n",
       "    </tr>\n",
       "    <tr>\n",
       "      <td>195</td>\n",
       "      <td>Venezuela</td>\n",
       "      <td>333</td>\n",
       "      <td>100</td>\n",
       "      <td>3</td>\n",
       "      <td>7.7</td>\n",
       "      <td>VE</td>\n",
       "      <td>VEN</td>\n",
       "      <td>South America</td>\n",
       "      <td>SA</td>\n",
       "      <td>NaN</td>\n",
       "      <td>NaN</td>\n",
       "      <td>NaN</td>\n",
       "      <td>NaN</td>\n",
       "      <td>NaN</td>\n",
       "      <td>NaN</td>\n",
       "      <td>Latin America and the Caribbean</td>\n",
       "    </tr>\n",
       "    <tr>\n",
       "      <td>196</td>\n",
       "      <td>Vietnam</td>\n",
       "      <td>111</td>\n",
       "      <td>2</td>\n",
       "      <td>1</td>\n",
       "      <td>2.0</td>\n",
       "      <td>VN</td>\n",
       "      <td>VNM</td>\n",
       "      <td>Asia</td>\n",
       "      <td>AS</td>\n",
       "      <td>78115710.0</td>\n",
       "      <td>95540395.0</td>\n",
       "      <td>0.223062</td>\n",
       "      <td>78115710.0</td>\n",
       "      <td>95540395.0</td>\n",
       "      <td>0.223062</td>\n",
       "      <td>South-eastern Asia</td>\n",
       "    </tr>\n",
       "    <tr>\n",
       "      <td>197</td>\n",
       "      <td>Yemen</td>\n",
       "      <td>6</td>\n",
       "      <td>0</td>\n",
       "      <td>0</td>\n",
       "      <td>0.1</td>\n",
       "      <td>YE</td>\n",
       "      <td>YEM</td>\n",
       "      <td>Asia</td>\n",
       "      <td>AS</td>\n",
       "      <td>NaN</td>\n",
       "      <td>NaN</td>\n",
       "      <td>NaN</td>\n",
       "      <td>NaN</td>\n",
       "      <td>NaN</td>\n",
       "      <td>NaN</td>\n",
       "      <td>Western Asia</td>\n",
       "    </tr>\n",
       "    <tr>\n",
       "      <td>198</td>\n",
       "      <td>Zambia</td>\n",
       "      <td>32</td>\n",
       "      <td>19</td>\n",
       "      <td>4</td>\n",
       "      <td>2.5</td>\n",
       "      <td>ZM</td>\n",
       "      <td>ZMB</td>\n",
       "      <td>Africa</td>\n",
       "      <td>AF</td>\n",
       "      <td>9866476.0</td>\n",
       "      <td>17351822.0</td>\n",
       "      <td>0.758665</td>\n",
       "      <td>9866476.0</td>\n",
       "      <td>17351822.0</td>\n",
       "      <td>0.758665</td>\n",
       "      <td>Sub-Saharan Africa</td>\n",
       "    </tr>\n",
       "    <tr>\n",
       "      <td>199</td>\n",
       "      <td>Zimbabwe</td>\n",
       "      <td>64</td>\n",
       "      <td>18</td>\n",
       "      <td>4</td>\n",
       "      <td>4.7</td>\n",
       "      <td>ZW</td>\n",
       "      <td>ZWE</td>\n",
       "      <td>Africa</td>\n",
       "      <td>AF</td>\n",
       "      <td>11747072.0</td>\n",
       "      <td>14439018.0</td>\n",
       "      <td>0.229159</td>\n",
       "      <td>11747072.0</td>\n",
       "      <td>14439018.0</td>\n",
       "      <td>0.229159</td>\n",
       "      <td>Sub-Saharan Africa</td>\n",
       "    </tr>\n",
       "  </tbody>\n",
       "</table>\n",
       "<p>200 rows × 16 columns</p>\n",
       "</div>"
      ],
      "text/plain": [
       "         country  beer_servings  spirit_servings  wine_servings  \\\n",
       "0    Afghanistan              0                0              0   \n",
       "1        Albania             89              132             54   \n",
       "2        Algeria             25                0             14   \n",
       "3        Andorra            245              138            312   \n",
       "4         Angola            217               57             45   \n",
       "..           ...            ...              ...            ...   \n",
       "195    Venezuela            333              100              3   \n",
       "196      Vietnam            111                2              1   \n",
       "197        Yemen              6                0              0   \n",
       "198       Zambia             32               19              4   \n",
       "199     Zimbabwe             64               18              4   \n",
       "\n",
       "     total_litres_of_pure_alcohol Code Three_Letter_Country_Code  \\\n",
       "0                             0.0   AF                       AFG   \n",
       "1                             4.9   AL                       ALB   \n",
       "2                             0.7   DZ                       DZA   \n",
       "3                            12.4   AD                       AND   \n",
       "4                             5.9   AO                       AGO   \n",
       "..                            ...  ...                       ...   \n",
       "195                           7.7   VE                       VEN   \n",
       "196                           2.0   VN                       VNM   \n",
       "197                           0.1   YE                       YEM   \n",
       "198                           2.5   ZM                       ZMB   \n",
       "199                           4.7   ZW                       ZWE   \n",
       "\n",
       "    Continent_Name Continent_Code  pop_1998_x  pop_2018_x  Population_diff_x  \\\n",
       "0             Asia             AS  19737765.0  37172386.0           0.883313   \n",
       "1           Europe             EU   3128530.0   2866376.0          -0.083795   \n",
       "2           Africa             AF  30192754.0  42228429.0           0.398628   \n",
       "3           Europe             EU     64142.0     77006.0           0.200555   \n",
       "4           Africa             AF  15359601.0  30809762.0           1.005896   \n",
       "..             ...            ...         ...         ...                ...   \n",
       "195  South America             SA         NaN         NaN                NaN   \n",
       "196           Asia             AS  78115710.0  95540395.0           0.223062   \n",
       "197           Asia             AS         NaN         NaN                NaN   \n",
       "198         Africa             AF   9866476.0  17351822.0           0.758665   \n",
       "199         Africa             AF  11747072.0  14439018.0           0.229159   \n",
       "\n",
       "     pop_1998_y  pop_2018_y  Population_diff_y  \\\n",
       "0    19737765.0  37172386.0           0.883313   \n",
       "1     3128530.0   2866376.0          -0.083795   \n",
       "2    30192754.0  42228429.0           0.398628   \n",
       "3       64142.0     77006.0           0.200555   \n",
       "4    15359601.0  30809762.0           1.005896   \n",
       "..          ...         ...                ...   \n",
       "195         NaN         NaN                NaN   \n",
       "196  78115710.0  95540395.0           0.223062   \n",
       "197         NaN         NaN                NaN   \n",
       "198   9866476.0  17351822.0           0.758665   \n",
       "199  11747072.0  14439018.0           0.229159   \n",
       "\n",
       "                          sub-region  \n",
       "0                      Southern Asia  \n",
       "1                    Southern Europe  \n",
       "2                    Northern Africa  \n",
       "3                    Southern Europe  \n",
       "4                 Sub-Saharan Africa  \n",
       "..                               ...  \n",
       "195  Latin America and the Caribbean  \n",
       "196               South-eastern Asia  \n",
       "197                     Western Asia  \n",
       "198               Sub-Saharan Africa  \n",
       "199               Sub-Saharan Africa  \n",
       "\n",
       "[200 rows x 16 columns]"
      ]
     },
     "execution_count": 179,
     "metadata": {},
     "output_type": "execute_result"
    }
   ],
   "source": [
    "df_5.merge(region,\n",
    "          how='left',\n",
    "          left_on='Three_Letter_Country_Code',\n",
    "          right_on='alpha-3').drop(columns='alpha-3')"
   ]
  },
  {
   "cell_type": "code",
   "execution_count": 181,
   "metadata": {
    "ExecuteTime": {
     "end_time": "2020-03-14T12:19:56.139992Z",
     "start_time": "2020-03-14T12:19:55.826282Z"
    }
   },
   "outputs": [],
   "source": [
    "religion = pd.read_excel('religion.xlsx')"
   ]
  },
  {
   "cell_type": "code",
   "execution_count": 184,
   "metadata": {
    "ExecuteTime": {
     "end_time": "2020-03-14T12:21:26.732737Z",
     "start_time": "2020-03-14T12:21:26.709736Z"
    }
   },
   "outputs": [
    {
     "data": {
      "text/html": [
       "<div>\n",
       "<style scoped>\n",
       "    .dataframe tbody tr th:only-of-type {\n",
       "        vertical-align: middle;\n",
       "    }\n",
       "\n",
       "    .dataframe tbody tr th {\n",
       "        vertical-align: top;\n",
       "    }\n",
       "\n",
       "    .dataframe thead th {\n",
       "        text-align: right;\n",
       "    }\n",
       "</style>\n",
       "<table border=\"1\" class=\"dataframe\">\n",
       "  <thead>\n",
       "    <tr style=\"text-align: right;\">\n",
       "      <th></th>\n",
       "      <th>Country</th>\n",
       "      <th>Christians</th>\n",
       "      <th>Muslims</th>\n",
       "      <th>Unaffiliated</th>\n",
       "      <th>Hindus</th>\n",
       "      <th>Buddhists</th>\n",
       "      <th>Folk Religions</th>\n",
       "      <th>Other Religions</th>\n",
       "      <th>Jews</th>\n",
       "    </tr>\n",
       "  </thead>\n",
       "  <tbody>\n",
       "    <tr>\n",
       "      <td>0</td>\n",
       "      <td>All Countries</td>\n",
       "      <td>2,168,330,000</td>\n",
       "      <td>1,599,700,000</td>\n",
       "      <td>1,131,150,000</td>\n",
       "      <td>1,032,210,000</td>\n",
       "      <td>487,760,000</td>\n",
       "      <td>404,690,000</td>\n",
       "      <td>58,150,000</td>\n",
       "      <td>13,860,000</td>\n",
       "    </tr>\n",
       "    <tr>\n",
       "      <td>1</td>\n",
       "      <td>All Countries</td>\n",
       "      <td>266,630,000</td>\n",
       "      <td>3,480,000</td>\n",
       "      <td>59,040,000</td>\n",
       "      <td>2,250,000</td>\n",
       "      <td>3,860,000</td>\n",
       "      <td>1,020,000</td>\n",
       "      <td>2,200,000</td>\n",
       "      <td>6,040,000</td>\n",
       "    </tr>\n",
       "    <tr>\n",
       "      <td>2</td>\n",
       "      <td>All Countries</td>\n",
       "      <td>531,280,000</td>\n",
       "      <td>840,000</td>\n",
       "      <td>45,390,000</td>\n",
       "      <td>660,000</td>\n",
       "      <td>410,000</td>\n",
       "      <td>10,040,000</td>\n",
       "      <td>990,000</td>\n",
       "      <td>470,000</td>\n",
       "    </tr>\n",
       "    <tr>\n",
       "      <td>3</td>\n",
       "      <td>All Countries</td>\n",
       "      <td>553,280,000</td>\n",
       "      <td>43,470,000</td>\n",
       "      <td>139,890,000</td>\n",
       "      <td>1,380,000</td>\n",
       "      <td>1,350,000</td>\n",
       "      <td>870,000</td>\n",
       "      <td>890,000</td>\n",
       "      <td>1,420,000</td>\n",
       "    </tr>\n",
       "    <tr>\n",
       "      <td>4</td>\n",
       "      <td>All Countries</td>\n",
       "      <td>12,710,000</td>\n",
       "      <td>317,070,000</td>\n",
       "      <td>2,100,000</td>\n",
       "      <td>1,720,000</td>\n",
       "      <td>500,000</td>\n",
       "      <td>1,060,000</td>\n",
       "      <td>230,000</td>\n",
       "      <td>5,630,000</td>\n",
       "    </tr>\n",
       "    <tr>\n",
       "      <td>...</td>\n",
       "      <td>...</td>\n",
       "      <td>...</td>\n",
       "      <td>...</td>\n",
       "      <td>...</td>\n",
       "      <td>...</td>\n",
       "      <td>...</td>\n",
       "      <td>...</td>\n",
       "      <td>...</td>\n",
       "      <td>...</td>\n",
       "    </tr>\n",
       "    <tr>\n",
       "      <td>1200</td>\n",
       "      <td>Zimbabwe</td>\n",
       "      <td>16,230,000</td>\n",
       "      <td>200,000</td>\n",
       "      <td>1,430,000</td>\n",
       "      <td>&lt;10,000</td>\n",
       "      <td>&lt;10,000</td>\n",
       "      <td>930,000</td>\n",
       "      <td>50,000</td>\n",
       "      <td>&lt;10,000</td>\n",
       "    </tr>\n",
       "    <tr>\n",
       "      <td>1201</td>\n",
       "      <td>South Sudan</td>\n",
       "      <td>12,750,000</td>\n",
       "      <td>1,300,000</td>\n",
       "      <td>100,000</td>\n",
       "      <td>&lt;10,000</td>\n",
       "      <td>&lt;10,000</td>\n",
       "      <td>6,930,000</td>\n",
       "      <td>&lt;10,000</td>\n",
       "      <td>&lt;10,000</td>\n",
       "    </tr>\n",
       "    <tr>\n",
       "      <td>1202</td>\n",
       "      <td>Curacao</td>\n",
       "      <td>170,000</td>\n",
       "      <td>&lt;10,000</td>\n",
       "      <td>&lt;10,000</td>\n",
       "      <td>&lt;10,000</td>\n",
       "      <td>&lt;10,000</td>\n",
       "      <td>&lt;10,000</td>\n",
       "      <td>&lt;10,000</td>\n",
       "      <td>&lt;10,000</td>\n",
       "    </tr>\n",
       "    <tr>\n",
       "      <td>1203</td>\n",
       "      <td>Sint Maarten</td>\n",
       "      <td>60,000</td>\n",
       "      <td>&lt;10,000</td>\n",
       "      <td>&lt;10,000</td>\n",
       "      <td>&lt;10,000</td>\n",
       "      <td>&lt;10,000</td>\n",
       "      <td>&lt;10,000</td>\n",
       "      <td>&lt;10,000</td>\n",
       "      <td>&lt;10,000</td>\n",
       "    </tr>\n",
       "    <tr>\n",
       "      <td>1204</td>\n",
       "      <td>Caribbean Netherlands</td>\n",
       "      <td>20,000</td>\n",
       "      <td>&lt;10,000</td>\n",
       "      <td>&lt;10,000</td>\n",
       "      <td>&lt;10,000</td>\n",
       "      <td>&lt;10,000</td>\n",
       "      <td>&lt;10,000</td>\n",
       "      <td>&lt;10,000</td>\n",
       "      <td>&lt;10,000</td>\n",
       "    </tr>\n",
       "  </tbody>\n",
       "</table>\n",
       "<p>1205 rows × 9 columns</p>\n",
       "</div>"
      ],
      "text/plain": [
       "                    Country        Christians           Muslims  \\\n",
       "0             All Countries     2,168,330,000     1,599,700,000   \n",
       "1             All Countries       266,630,000         3,480,000   \n",
       "2             All Countries       531,280,000           840,000   \n",
       "3             All Countries       553,280,000        43,470,000   \n",
       "4             All Countries        12,710,000       317,070,000   \n",
       "...                     ...               ...               ...   \n",
       "1200               Zimbabwe        16,230,000           200,000   \n",
       "1201            South Sudan        12,750,000         1,300,000   \n",
       "1202                Curacao           170,000           <10,000   \n",
       "1203           Sint Maarten            60,000           <10,000   \n",
       "1204  Caribbean Netherlands            20,000           <10,000   \n",
       "\n",
       "          Unaffiliated            Hindus         Buddhists    Folk Religions  \\\n",
       "0        1,131,150,000     1,032,210,000       487,760,000       404,690,000   \n",
       "1           59,040,000         2,250,000         3,860,000         1,020,000   \n",
       "2           45,390,000           660,000           410,000        10,040,000   \n",
       "3          139,890,000         1,380,000         1,350,000           870,000   \n",
       "4            2,100,000         1,720,000           500,000         1,060,000   \n",
       "...                ...               ...               ...               ...   \n",
       "1200         1,430,000           <10,000           <10,000           930,000   \n",
       "1201           100,000           <10,000           <10,000         6,930,000   \n",
       "1202           <10,000           <10,000           <10,000           <10,000   \n",
       "1203           <10,000           <10,000           <10,000           <10,000   \n",
       "1204           <10,000           <10,000           <10,000           <10,000   \n",
       "\n",
       "       Other Religions              Jews  \n",
       "0           58,150,000        13,860,000  \n",
       "1            2,200,000         6,040,000  \n",
       "2              990,000           470,000  \n",
       "3              890,000         1,420,000  \n",
       "4              230,000         5,630,000  \n",
       "...                ...               ...  \n",
       "1200            50,000           <10,000  \n",
       "1201           <10,000           <10,000  \n",
       "1202           <10,000           <10,000  \n",
       "1203           <10,000           <10,000  \n",
       "1204           <10,000           <10,000  \n",
       "\n",
       "[1205 rows x 9 columns]"
      ]
     },
     "execution_count": 184,
     "metadata": {},
     "output_type": "execute_result"
    }
   ],
   "source": [
    "religion.drop(columns=['row_number', 'level', 'Nation_fk', 'Year', 'Region', 'All Religions'])"
   ]
  }
 ],
 "metadata": {
  "kernelspec": {
   "display_name": "Python 3",
   "language": "python",
   "name": "python3"
  },
  "language_info": {
   "codemirror_mode": {
    "name": "ipython",
    "version": 3
   },
   "file_extension": ".py",
   "mimetype": "text/x-python",
   "name": "python",
   "nbconvert_exporter": "python",
   "pygments_lexer": "ipython3",
   "version": "3.7.4"
  },
  "toc": {
   "base_numbering": 1,
   "nav_menu": {},
   "number_sections": true,
   "sideBar": true,
   "skip_h1_title": false,
   "title_cell": "Table of Contents",
   "title_sidebar": "Contents",
   "toc_cell": false,
   "toc_position": {},
   "toc_section_display": true,
   "toc_window_display": false
  },
  "varInspector": {
   "cols": {
    "lenName": 16,
    "lenType": 16,
    "lenVar": 40
   },
   "kernels_config": {
    "python": {
     "delete_cmd_postfix": "",
     "delete_cmd_prefix": "del ",
     "library": "var_list.py",
     "varRefreshCmd": "print(var_dic_list())"
    },
    "r": {
     "delete_cmd_postfix": ") ",
     "delete_cmd_prefix": "rm(",
     "library": "var_list.r",
     "varRefreshCmd": "cat(var_dic_list()) "
    }
   },
   "types_to_exclude": [
    "module",
    "function",
    "builtin_function_or_method",
    "instance",
    "_Feature"
   ],
   "window_display": false
  }
 },
 "nbformat": 4,
 "nbformat_minor": 2
}

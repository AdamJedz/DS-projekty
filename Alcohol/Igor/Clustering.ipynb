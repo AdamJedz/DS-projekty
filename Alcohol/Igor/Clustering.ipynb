{
 "cells": [
  {
   "cell_type": "code",
   "execution_count": 4,
   "metadata": {
    "ExecuteTime": {
     "end_time": "2020-03-16T13:08:50.859681Z",
     "start_time": "2020-03-16T13:08:50.846680Z"
    }
   },
   "outputs": [],
   "source": [
    "import pandas as pd\n",
    "import numpy as np\n",
    "import seaborn as sns\n",
    "from sklearn.cluster import KMeans, SpectralClustering, DBSCAN\n",
    "from sklearn.decomposition import PCA\n",
    "from sklearn.preprocessing import StandardScaler"
   ]
  },
  {
   "cell_type": "code",
   "execution_count": 10,
   "metadata": {
    "ExecuteTime": {
     "end_time": "2020-03-16T13:10:30.905542Z",
     "start_time": "2020-03-16T13:10:30.891544Z"
    }
   },
   "outputs": [],
   "source": [
    "df = pd.read_csv('prepared_to_analysis.csv', keep_default_na=False)"
   ]
  },
  {
   "cell_type": "code",
   "execution_count": 11,
   "metadata": {
    "ExecuteTime": {
     "end_time": "2020-03-16T13:10:31.745763Z",
     "start_time": "2020-03-16T13:10:31.722758Z"
    }
   },
   "outputs": [
    {
     "data": {
      "text/html": [
       "<div>\n",
       "<style scoped>\n",
       "    .dataframe tbody tr th:only-of-type {\n",
       "        vertical-align: middle;\n",
       "    }\n",
       "\n",
       "    .dataframe tbody tr th {\n",
       "        vertical-align: top;\n",
       "    }\n",
       "\n",
       "    .dataframe thead th {\n",
       "        text-align: right;\n",
       "    }\n",
       "</style>\n",
       "<table border=\"1\" class=\"dataframe\">\n",
       "  <thead>\n",
       "    <tr style=\"text-align: right;\">\n",
       "      <th></th>\n",
       "      <th>country</th>\n",
       "      <th>beer_servings</th>\n",
       "      <th>spirit_servings</th>\n",
       "      <th>wine_servings</th>\n",
       "      <th>total_litres_of_pure_alcohol</th>\n",
       "      <th>Code</th>\n",
       "      <th>Three_Letter_Country_Code</th>\n",
       "      <th>Continent_Name</th>\n",
       "      <th>Continent_Code</th>\n",
       "      <th>pop_1998</th>\n",
       "      <th>pop_2018</th>\n",
       "      <th>Population_diff</th>\n",
       "      <th>gdp_1998</th>\n",
       "      <th>gdp_2018</th>\n",
       "      <th>GDP_diff</th>\n",
       "      <th>sub-region</th>\n",
       "      <th>Religion</th>\n",
       "      <th>latitude</th>\n",
       "      <th>longitude</th>\n",
       "    </tr>\n",
       "  </thead>\n",
       "  <tbody>\n",
       "    <tr>\n",
       "      <td>109</td>\n",
       "      <td>Namibia</td>\n",
       "      <td>376</td>\n",
       "      <td>3</td>\n",
       "      <td>1</td>\n",
       "      <td>6.8</td>\n",
       "      <td>NA</td>\n",
       "      <td>NAM</td>\n",
       "      <td>Africa</td>\n",
       "      <td>AF</td>\n",
       "      <td>Small population</td>\n",
       "      <td>Small population</td>\n",
       "      <td>Population increase</td>\n",
       "      <td>Poor</td>\n",
       "      <td>Poor</td>\n",
       "      <td>Average growth</td>\n",
       "      <td>Sub-Saharan Africa</td>\n",
       "      <td>Christians</td>\n",
       "      <td>-22.95764</td>\n",
       "      <td>18.49041</td>\n",
       "    </tr>\n",
       "  </tbody>\n",
       "</table>\n",
       "</div>"
      ],
      "text/plain": [
       "     country  beer_servings  spirit_servings  wine_servings  \\\n",
       "109  Namibia            376                3              1   \n",
       "\n",
       "     total_litres_of_pure_alcohol Code Three_Letter_Country_Code  \\\n",
       "109                           6.8   NA                       NAM   \n",
       "\n",
       "    Continent_Name Continent_Code          pop_1998          pop_2018  \\\n",
       "109         Africa             AF  Small population  Small population   \n",
       "\n",
       "         Population_diff gdp_1998 gdp_2018        GDP_diff  \\\n",
       "109  Population increase     Poor     Poor  Average growth   \n",
       "\n",
       "             sub-region    Religion  latitude  longitude  \n",
       "109  Sub-Saharan Africa  Christians -22.95764   18.49041  "
      ]
     },
     "execution_count": 11,
     "metadata": {},
     "output_type": "execute_result"
    }
   ],
   "source": [
    "df[df['country'] == 'Namibia']"
   ]
  },
  {
   "cell_type": "markdown",
   "metadata": {},
   "source": [
    "# Scaling Data"
   ]
  },
  {
   "cell_type": "code",
   "execution_count": 12,
   "metadata": {
    "ExecuteTime": {
     "end_time": "2020-03-16T13:11:42.979391Z",
     "start_time": "2020-03-16T13:11:42.970145Z"
    }
   },
   "outputs": [],
   "source": [
    "scaler = StandardScaler()"
   ]
  },
  {
   "cell_type": "code",
   "execution_count": 14,
   "metadata": {
    "ExecuteTime": {
     "end_time": "2020-03-16T13:12:45.815287Z",
     "start_time": "2020-03-16T13:12:45.804233Z"
    }
   },
   "outputs": [],
   "source": [
    "scaled_values = scaler.fit_transform(df[['beer_servings', 'spirit_servings', 'wine_servings', 'total_litres_of_pure_alcohol']])"
   ]
  },
  {
   "cell_type": "markdown",
   "metadata": {},
   "source": [
    "# Clustering"
   ]
  },
  {
   "cell_type": "markdown",
   "metadata": {
    "ExecuteTime": {
     "end_time": "2020-03-16T13:14:38.150114Z",
     "start_time": "2020-03-16T13:14:38.139114Z"
    }
   },
   "source": [
    "I decided to use three different clustering algorithms and for every one check 5 and 7 cluster options"
   ]
  },
  {
   "cell_type": "markdown",
   "metadata": {},
   "source": [
    "## KMeans"
   ]
  },
  {
   "cell_type": "code",
   "execution_count": 17,
   "metadata": {
    "ExecuteTime": {
     "end_time": "2020-03-16T13:16:30.584728Z",
     "start_time": "2020-03-16T13:16:30.539732Z"
    }
   },
   "outputs": [],
   "source": [
    "kmeans5 = KMeans(n_clusters=5, random_state=0)\n",
    "kmeans5.fit(scaled_values)\n",
    "df['Kmeans_5'] = kmeans5.labels_"
   ]
  },
  {
   "cell_type": "code",
   "execution_count": 18,
   "metadata": {
    "ExecuteTime": {
     "end_time": "2020-03-16T13:16:51.792571Z",
     "start_time": "2020-03-16T13:16:51.723574Z"
    }
   },
   "outputs": [],
   "source": [
    "kmeans7 = KMeans(n_clusters=7, random_state=0)\n",
    "kmeans7.fit(scaled_values)\n",
    "df['Kmeans_7'] = kmeans7.labels_"
   ]
  },
  {
   "cell_type": "markdown",
   "metadata": {},
   "source": [
    "## Spectral Clustering"
   ]
  },
  {
   "cell_type": "code",
   "execution_count": 20,
   "metadata": {
    "ExecuteTime": {
     "end_time": "2020-03-16T13:19:15.258573Z",
     "start_time": "2020-03-16T13:19:15.178566Z"
    }
   },
   "outputs": [],
   "source": [
    "spectral_5 = SpectralClustering(n_clusters=5, random_state=0)\n",
    "spectral_5.fit(scaled_values)\n",
    "df['Spectral_5'] = spectral_5.labels_"
   ]
  },
  {
   "cell_type": "code",
   "execution_count": 21,
   "metadata": {
    "ExecuteTime": {
     "end_time": "2020-03-16T13:19:29.904569Z",
     "start_time": "2020-03-16T13:19:29.804556Z"
    }
   },
   "outputs": [],
   "source": [
    "spectral_7 = SpectralClustering(n_clusters=7, random_state=0)\n",
    "spectral_7.fit(scaled_values)\n",
    "df['Spectral_7'] = spectral_7.labels_"
   ]
  },
  {
   "cell_type": "markdown",
   "metadata": {},
   "source": [
    "## DBSCAN"
   ]
  },
  {
   "cell_type": "code",
   "execution_count": 23,
   "metadata": {
    "ExecuteTime": {
     "end_time": "2020-03-16T13:21:47.258302Z",
     "start_time": "2020-03-16T13:21:47.245264Z"
    }
   },
   "outputs": [],
   "source": [
    "dbscan = DBSCAN()\n",
    "dbscan.fit(scaled_values)\n",
    "df['dbscan'] = dbscan.labels_"
   ]
  },
  {
   "cell_type": "markdown",
   "metadata": {},
   "source": [
    "# PCA"
   ]
  },
  {
   "cell_type": "code",
   "execution_count": 28,
   "metadata": {
    "ExecuteTime": {
     "end_time": "2020-03-16T13:24:36.946743Z",
     "start_time": "2020-03-16T13:24:36.941743Z"
    }
   },
   "outputs": [],
   "source": [
    "pca = PCA(n_components=2, random_state=0)\n",
    "pca_comps = pca.fit_transform(scaled_values)\n"
   ]
  },
  {
   "cell_type": "code",
   "execution_count": 33,
   "metadata": {
    "ExecuteTime": {
     "end_time": "2020-03-16T13:25:57.102415Z",
     "start_time": "2020-03-16T13:25:57.088419Z"
    }
   },
   "outputs": [],
   "source": [
    "df = df.merge(pd.DataFrame(pca_comps, columns=['PC1', 'PC2']), left_index=True, right_index=True)"
   ]
  },
  {
   "cell_type": "code",
   "execution_count": 38,
   "metadata": {
    "ExecuteTime": {
     "end_time": "2020-03-16T13:48:09.681102Z",
     "start_time": "2020-03-16T13:48:09.668056Z"
    }
   },
   "outputs": [
    {
     "data": {
      "text/plain": [
       "Index(['country', 'beer_servings', 'spirit_servings', 'wine_servings',\n",
       "       'total_litres_of_pure_alcohol', 'Code', 'Three_Letter_Country_Code',\n",
       "       'Continent_Name', 'Continent_Code', 'pop_1998', 'pop_2018',\n",
       "       'Population_diff', 'gdp_1998', 'gdp_2018', 'GDP_diff', 'sub-region',\n",
       "       'Religion', 'latitude', 'longitude', 'Kmeans_5', 'Kmeans_7',\n",
       "       'Spectral_5', 'Spectral_7', 'dbscan', 'PC1', 'PC2'],\n",
       "      dtype='object')"
      ]
     },
     "execution_count": 38,
     "metadata": {},
     "output_type": "execute_result"
    }
   ],
   "source": [
    "df.columns"
   ]
  },
  {
   "cell_type": "code",
   "execution_count": 42,
   "metadata": {
    "ExecuteTime": {
     "end_time": "2020-03-16T13:49:19.204026Z",
     "start_time": "2020-03-16T13:49:19.191233Z"
    }
   },
   "outputs": [],
   "source": [
    "df = df.drop(columns=['beer_servings', 'spirit_servings', 'wine_servings', 'total_litres_of_pure_alcohol']).merge(\n",
    "    pd.DataFrame(scaled_values, columns=[\n",
    "                 'beer_servings', 'spirit_servings', 'wine_servings', 'total_litres_of_pure_alcohol']),\n",
    "    left_index=True, right_index=True)"
   ]
  },
  {
   "cell_type": "code",
   "execution_count": 44,
   "metadata": {
    "ExecuteTime": {
     "end_time": "2020-03-16T13:49:29.899256Z",
     "start_time": "2020-03-16T13:49:29.885255Z"
    }
   },
   "outputs": [],
   "source": [
    "df.to_csv('to_shiny.csv')"
   ]
  }
 ],
 "metadata": {
  "kernelspec": {
   "display_name": "Python 3",
   "language": "python",
   "name": "python3"
  },
  "language_info": {
   "codemirror_mode": {
    "name": "ipython",
    "version": 3
   },
   "file_extension": ".py",
   "mimetype": "text/x-python",
   "name": "python",
   "nbconvert_exporter": "python",
   "pygments_lexer": "ipython3",
   "version": "3.7.4"
  },
  "toc": {
   "base_numbering": 1,
   "nav_menu": {},
   "number_sections": true,
   "sideBar": true,
   "skip_h1_title": false,
   "title_cell": "Table of Contents",
   "title_sidebar": "Contents",
   "toc_cell": false,
   "toc_position": {},
   "toc_section_display": true,
   "toc_window_display": false
  },
  "varInspector": {
   "cols": {
    "lenName": 16,
    "lenType": 16,
    "lenVar": 40
   },
   "kernels_config": {
    "python": {
     "delete_cmd_postfix": "",
     "delete_cmd_prefix": "del ",
     "library": "var_list.py",
     "varRefreshCmd": "print(var_dic_list())"
    },
    "r": {
     "delete_cmd_postfix": ") ",
     "delete_cmd_prefix": "rm(",
     "library": "var_list.r",
     "varRefreshCmd": "cat(var_dic_list()) "
    }
   },
   "types_to_exclude": [
    "module",
    "function",
    "builtin_function_or_method",
    "instance",
    "_Feature"
   ],
   "window_display": false
  }
 },
 "nbformat": 4,
 "nbformat_minor": 2
}

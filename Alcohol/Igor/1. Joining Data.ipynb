{
 "cells": [
  {
   "cell_type": "code",
   "execution_count": 1,
   "metadata": {
    "ExecuteTime": {
     "end_time": "2020-03-15T16:24:46.588760Z",
     "start_time": "2020-03-15T16:24:46.085278Z"
    }
   },
   "outputs": [],
   "source": [
    "import numpy as np\n",
    "import pandas as pd"
   ]
  },
  {
   "cell_type": "markdown",
   "metadata": {},
   "source": [
    "# Import alcohol dataset"
   ]
  },
  {
   "cell_type": "code",
   "execution_count": 2,
   "metadata": {
    "ExecuteTime": {
     "end_time": "2020-03-15T16:24:47.032161Z",
     "start_time": "2020-03-15T16:24:46.589759Z"
    }
   },
   "outputs": [],
   "source": [
    "df = pd.read_csv('https://raw.githubusercontent.com/rfordatascience/tidytuesday/master/data/2018/2018-06-26/week13_alcohol_global.csv')"
   ]
  },
  {
   "cell_type": "code",
   "execution_count": 3,
   "metadata": {
    "ExecuteTime": {
     "end_time": "2020-03-15T16:24:47.059150Z",
     "start_time": "2020-03-15T16:24:47.035166Z"
    }
   },
   "outputs": [
    {
     "data": {
      "text/html": [
       "<div>\n",
       "<style scoped>\n",
       "    .dataframe tbody tr th:only-of-type {\n",
       "        vertical-align: middle;\n",
       "    }\n",
       "\n",
       "    .dataframe tbody tr th {\n",
       "        vertical-align: top;\n",
       "    }\n",
       "\n",
       "    .dataframe thead th {\n",
       "        text-align: right;\n",
       "    }\n",
       "</style>\n",
       "<table border=\"1\" class=\"dataframe\">\n",
       "  <thead>\n",
       "    <tr style=\"text-align: right;\">\n",
       "      <th></th>\n",
       "      <th>country</th>\n",
       "      <th>beer_servings</th>\n",
       "      <th>spirit_servings</th>\n",
       "      <th>wine_servings</th>\n",
       "      <th>total_litres_of_pure_alcohol</th>\n",
       "    </tr>\n",
       "  </thead>\n",
       "  <tbody>\n",
       "    <tr>\n",
       "      <td>0</td>\n",
       "      <td>Afghanistan</td>\n",
       "      <td>0</td>\n",
       "      <td>0</td>\n",
       "      <td>0</td>\n",
       "      <td>0.0</td>\n",
       "    </tr>\n",
       "    <tr>\n",
       "      <td>1</td>\n",
       "      <td>Albania</td>\n",
       "      <td>89</td>\n",
       "      <td>132</td>\n",
       "      <td>54</td>\n",
       "      <td>4.9</td>\n",
       "    </tr>\n",
       "    <tr>\n",
       "      <td>2</td>\n",
       "      <td>Algeria</td>\n",
       "      <td>25</td>\n",
       "      <td>0</td>\n",
       "      <td>14</td>\n",
       "      <td>0.7</td>\n",
       "    </tr>\n",
       "    <tr>\n",
       "      <td>3</td>\n",
       "      <td>Andorra</td>\n",
       "      <td>245</td>\n",
       "      <td>138</td>\n",
       "      <td>312</td>\n",
       "      <td>12.4</td>\n",
       "    </tr>\n",
       "    <tr>\n",
       "      <td>4</td>\n",
       "      <td>Angola</td>\n",
       "      <td>217</td>\n",
       "      <td>57</td>\n",
       "      <td>45</td>\n",
       "      <td>5.9</td>\n",
       "    </tr>\n",
       "  </tbody>\n",
       "</table>\n",
       "</div>"
      ],
      "text/plain": [
       "       country  beer_servings  spirit_servings  wine_servings  \\\n",
       "0  Afghanistan              0                0              0   \n",
       "1      Albania             89              132             54   \n",
       "2      Algeria             25                0             14   \n",
       "3      Andorra            245              138            312   \n",
       "4       Angola            217               57             45   \n",
       "\n",
       "   total_litres_of_pure_alcohol  \n",
       "0                           0.0  \n",
       "1                           4.9  \n",
       "2                           0.7  \n",
       "3                          12.4  \n",
       "4                           5.9  "
      ]
     },
     "execution_count": 3,
     "metadata": {},
     "output_type": "execute_result"
    }
   ],
   "source": [
    "df.head()"
   ]
  },
  {
   "cell_type": "code",
   "execution_count": 4,
   "metadata": {
    "ExecuteTime": {
     "end_time": "2020-03-15T16:24:47.074152Z",
     "start_time": "2020-03-15T16:24:47.061134Z"
    }
   },
   "outputs": [
    {
     "name": "stdout",
     "output_type": "stream",
     "text": [
      "<class 'pandas.core.frame.DataFrame'>\n",
      "RangeIndex: 193 entries, 0 to 192\n",
      "Data columns (total 5 columns):\n",
      "country                         193 non-null object\n",
      "beer_servings                   193 non-null int64\n",
      "spirit_servings                 193 non-null int64\n",
      "wine_servings                   193 non-null int64\n",
      "total_litres_of_pure_alcohol    193 non-null float64\n",
      "dtypes: float64(1), int64(3), object(1)\n",
      "memory usage: 7.7+ KB\n"
     ]
    }
   ],
   "source": [
    "df.info()"
   ]
  },
  {
   "cell_type": "markdown",
   "metadata": {},
   "source": [
    "# Join dataset with two letters code for each country"
   ]
  },
  {
   "cell_type": "code",
   "execution_count": 5,
   "metadata": {
    "ExecuteTime": {
     "end_time": "2020-03-15T16:24:47.086139Z",
     "start_time": "2020-03-15T16:24:47.076116Z"
    }
   },
   "outputs": [],
   "source": [
    "country_short = pd.read_csv('country_short.csv')"
   ]
  },
  {
   "cell_type": "code",
   "execution_count": 6,
   "metadata": {
    "ExecuteTime": {
     "end_time": "2020-03-15T16:24:47.100092Z",
     "start_time": "2020-03-15T16:24:47.087099Z"
    }
   },
   "outputs": [
    {
     "data": {
      "text/html": [
       "<div>\n",
       "<style scoped>\n",
       "    .dataframe tbody tr th:only-of-type {\n",
       "        vertical-align: middle;\n",
       "    }\n",
       "\n",
       "    .dataframe tbody tr th {\n",
       "        vertical-align: top;\n",
       "    }\n",
       "\n",
       "    .dataframe thead th {\n",
       "        text-align: right;\n",
       "    }\n",
       "</style>\n",
       "<table border=\"1\" class=\"dataframe\">\n",
       "  <thead>\n",
       "    <tr style=\"text-align: right;\">\n",
       "      <th></th>\n",
       "      <th>Name</th>\n",
       "      <th>Code</th>\n",
       "    </tr>\n",
       "  </thead>\n",
       "  <tbody>\n",
       "    <tr>\n",
       "      <td>0</td>\n",
       "      <td>Afghanistan</td>\n",
       "      <td>AF</td>\n",
       "    </tr>\n",
       "    <tr>\n",
       "      <td>1</td>\n",
       "      <td>Åland Islands</td>\n",
       "      <td>AX</td>\n",
       "    </tr>\n",
       "    <tr>\n",
       "      <td>2</td>\n",
       "      <td>Albania</td>\n",
       "      <td>AL</td>\n",
       "    </tr>\n",
       "    <tr>\n",
       "      <td>3</td>\n",
       "      <td>Algeria</td>\n",
       "      <td>DZ</td>\n",
       "    </tr>\n",
       "    <tr>\n",
       "      <td>4</td>\n",
       "      <td>American Samoa</td>\n",
       "      <td>AS</td>\n",
       "    </tr>\n",
       "  </tbody>\n",
       "</table>\n",
       "</div>"
      ],
      "text/plain": [
       "             Name Code\n",
       "0     Afghanistan   AF\n",
       "1   Åland Islands   AX\n",
       "2         Albania   AL\n",
       "3         Algeria   DZ\n",
       "4  American Samoa   AS"
      ]
     },
     "execution_count": 6,
     "metadata": {},
     "output_type": "execute_result"
    }
   ],
   "source": [
    "country_short.head()"
   ]
  },
  {
   "cell_type": "code",
   "execution_count": 7,
   "metadata": {
    "ExecuteTime": {
     "end_time": "2020-03-15T16:24:47.115099Z",
     "start_time": "2020-03-15T16:24:47.102089Z"
    }
   },
   "outputs": [
    {
     "data": {
      "text/html": [
       "<div>\n",
       "<style scoped>\n",
       "    .dataframe tbody tr th:only-of-type {\n",
       "        vertical-align: middle;\n",
       "    }\n",
       "\n",
       "    .dataframe tbody tr th {\n",
       "        vertical-align: top;\n",
       "    }\n",
       "\n",
       "    .dataframe thead th {\n",
       "        text-align: right;\n",
       "    }\n",
       "</style>\n",
       "<table border=\"1\" class=\"dataframe\">\n",
       "  <thead>\n",
       "    <tr style=\"text-align: right;\">\n",
       "      <th></th>\n",
       "      <th>Name</th>\n",
       "      <th>Code</th>\n",
       "    </tr>\n",
       "  </thead>\n",
       "  <tbody>\n",
       "    <tr>\n",
       "      <td>0</td>\n",
       "      <td>Afghanistan</td>\n",
       "      <td>AF</td>\n",
       "    </tr>\n",
       "    <tr>\n",
       "      <td>1</td>\n",
       "      <td>Åland Islands</td>\n",
       "      <td>AX</td>\n",
       "    </tr>\n",
       "    <tr>\n",
       "      <td>2</td>\n",
       "      <td>Albania</td>\n",
       "      <td>AL</td>\n",
       "    </tr>\n",
       "    <tr>\n",
       "      <td>3</td>\n",
       "      <td>Algeria</td>\n",
       "      <td>DZ</td>\n",
       "    </tr>\n",
       "    <tr>\n",
       "      <td>4</td>\n",
       "      <td>American Samoa</td>\n",
       "      <td>AS</td>\n",
       "    </tr>\n",
       "    <tr>\n",
       "      <td>...</td>\n",
       "      <td>...</td>\n",
       "      <td>...</td>\n",
       "    </tr>\n",
       "    <tr>\n",
       "      <td>244</td>\n",
       "      <td>Wallis and Futuna</td>\n",
       "      <td>WF</td>\n",
       "    </tr>\n",
       "    <tr>\n",
       "      <td>245</td>\n",
       "      <td>Western Sahara</td>\n",
       "      <td>EH</td>\n",
       "    </tr>\n",
       "    <tr>\n",
       "      <td>246</td>\n",
       "      <td>Yemen</td>\n",
       "      <td>YE</td>\n",
       "    </tr>\n",
       "    <tr>\n",
       "      <td>247</td>\n",
       "      <td>Zambia</td>\n",
       "      <td>ZM</td>\n",
       "    </tr>\n",
       "    <tr>\n",
       "      <td>248</td>\n",
       "      <td>Zimbabwe</td>\n",
       "      <td>ZW</td>\n",
       "    </tr>\n",
       "  </tbody>\n",
       "</table>\n",
       "<p>249 rows × 2 columns</p>\n",
       "</div>"
      ],
      "text/plain": [
       "                  Name Code\n",
       "0          Afghanistan   AF\n",
       "1        Åland Islands   AX\n",
       "2              Albania   AL\n",
       "3              Algeria   DZ\n",
       "4       American Samoa   AS\n",
       "..                 ...  ...\n",
       "244  Wallis and Futuna   WF\n",
       "245     Western Sahara   EH\n",
       "246              Yemen   YE\n",
       "247             Zambia   ZM\n",
       "248           Zimbabwe   ZW\n",
       "\n",
       "[249 rows x 2 columns]"
      ]
     },
     "execution_count": 7,
     "metadata": {},
     "output_type": "execute_result"
    }
   ],
   "source": [
    "country_short"
   ]
  },
  {
   "cell_type": "code",
   "execution_count": 8,
   "metadata": {
    "ExecuteTime": {
     "end_time": "2020-03-15T16:24:47.124063Z",
     "start_time": "2020-03-15T16:24:47.117072Z"
    }
   },
   "outputs": [],
   "source": [
    "df['country'] = df['country'].str.replace('&', 'and')"
   ]
  },
  {
   "cell_type": "code",
   "execution_count": 9,
   "metadata": {
    "ExecuteTime": {
     "end_time": "2020-03-15T16:24:47.137091Z",
     "start_time": "2020-03-15T16:24:47.126063Z"
    }
   },
   "outputs": [],
   "source": [
    "df_2 = df.merge(country_short,\n",
    "        how = 'left',\n",
    "        left_on='country',\n",
    "        right_on='Name').drop(columns='Name')"
   ]
  },
  {
   "cell_type": "code",
   "execution_count": 10,
   "metadata": {
    "ExecuteTime": {
     "end_time": "2020-03-15T16:24:47.149041Z",
     "start_time": "2020-03-15T16:24:47.138049Z"
    }
   },
   "outputs": [],
   "source": [
    "df_2.set_index('country', inplace=True)"
   ]
  },
  {
   "cell_type": "markdown",
   "metadata": {},
   "source": [
    "### For countries with NAs in code, I manually imputed country codes."
   ]
  },
  {
   "cell_type": "code",
   "execution_count": 11,
   "metadata": {
    "ExecuteTime": {
     "end_time": "2020-03-15T16:27:56.754767Z",
     "start_time": "2020-03-15T16:24:47.152072Z"
    },
    "scrolled": false
   },
   "outputs": [
    {
     "name": "stdout",
     "output_type": "stream",
     "text": [
      "Bolivia: BO\n",
      "Bosnia-Herzegovina: BA\n",
      "Brunei: BN\n",
      "Cote d'Ivoire: CI\n",
      "Cabo Verde: CV\n",
      "North Korea: KP\n",
      "DR Congo: CD\n",
      "Iran: IR\n",
      "Laos: LA\n",
      "Micronesia: FM\n",
      "Namibia: NA\n",
      "South Korea: KR\n",
      "Moldova: MD\n",
      "St. Kitts and Nevis: KN\n",
      "St. Lucia: LC\n",
      "St. Vincent and the Grenadines: VC\n",
      "Syria: SY\n",
      "Macedonia: MK\n",
      "Tanzania: TZ\n",
      "USA: US\n",
      "Venezuela: VE\n",
      "Vietnam: VN\n"
     ]
    }
   ],
   "source": [
    "for country in df_2[df_2['Code'].isna()].index:\n",
    "    name = input(country +': ')\n",
    "    df_2.at[country, 'Code'] = name"
   ]
  },
  {
   "cell_type": "markdown",
   "metadata": {},
   "source": [
    "# Join continent dataset"
   ]
  },
  {
   "cell_type": "code",
   "execution_count": 47,
   "metadata": {
    "ExecuteTime": {
     "end_time": "2020-03-15T16:31:40.797411Z",
     "start_time": "2020-03-15T16:31:40.781782Z"
    }
   },
   "outputs": [],
   "source": [
    "continents = pd.read_csv('continents.csv')\n",
    "continents = continents[['Two_Letter_Country_Code', 'Three_Letter_Country_Code', 'Continent_Name', 'Continent_Code']]"
   ]
  },
  {
   "cell_type": "code",
   "execution_count": 48,
   "metadata": {
    "ExecuteTime": {
     "end_time": "2020-03-15T16:31:40.803376Z",
     "start_time": "2020-03-15T16:31:40.799394Z"
    }
   },
   "outputs": [],
   "source": [
    "continents.at[152, 'Two_Letter_Country_Code'] = 'NA'"
   ]
  },
  {
   "cell_type": "code",
   "execution_count": 49,
   "metadata": {
    "ExecuteTime": {
     "end_time": "2020-03-15T16:31:40.814377Z",
     "start_time": "2020-03-15T16:31:40.806379Z"
    }
   },
   "outputs": [],
   "source": [
    "df_3 = df_2.reset_index().merge(continents, \n",
    "          how = 'left',\n",
    "          left_on='Code',\n",
    "          right_on='Two_Letter_Country_Code').drop(columns='Two_Letter_Country_Code')"
   ]
  },
  {
   "cell_type": "code",
   "execution_count": 50,
   "metadata": {
    "ExecuteTime": {
     "end_time": "2020-03-15T16:31:40.824387Z",
     "start_time": "2020-03-15T16:31:40.816380Z"
    }
   },
   "outputs": [
    {
     "data": {
      "text/html": [
       "<div>\n",
       "<style scoped>\n",
       "    .dataframe tbody tr th:only-of-type {\n",
       "        vertical-align: middle;\n",
       "    }\n",
       "\n",
       "    .dataframe tbody tr th {\n",
       "        vertical-align: top;\n",
       "    }\n",
       "\n",
       "    .dataframe thead th {\n",
       "        text-align: right;\n",
       "    }\n",
       "</style>\n",
       "<table border=\"1\" class=\"dataframe\">\n",
       "  <thead>\n",
       "    <tr style=\"text-align: right;\">\n",
       "      <th></th>\n",
       "      <th>country</th>\n",
       "      <th>beer_servings</th>\n",
       "      <th>spirit_servings</th>\n",
       "      <th>wine_servings</th>\n",
       "      <th>total_litres_of_pure_alcohol</th>\n",
       "      <th>Code</th>\n",
       "      <th>Three_Letter_Country_Code</th>\n",
       "      <th>Continent_Name</th>\n",
       "      <th>Continent_Code</th>\n",
       "    </tr>\n",
       "  </thead>\n",
       "  <tbody>\n",
       "  </tbody>\n",
       "</table>\n",
       "</div>"
      ],
      "text/plain": [
       "Empty DataFrame\n",
       "Columns: [country, beer_servings, spirit_servings, wine_servings, total_litres_of_pure_alcohol, Code, Three_Letter_Country_Code, Continent_Name, Continent_Code]\n",
       "Index: []"
      ]
     },
     "execution_count": 50,
     "metadata": {},
     "output_type": "execute_result"
    }
   ],
   "source": [
    "df_3[df_3['Continent_Name'].isna()]"
   ]
  },
  {
   "cell_type": "code",
   "execution_count": 51,
   "metadata": {
    "ExecuteTime": {
     "end_time": "2020-03-15T16:31:40.841376Z",
     "start_time": "2020-03-15T16:31:40.826377Z"
    }
   },
   "outputs": [
    {
     "data": {
      "text/html": [
       "<div>\n",
       "<style scoped>\n",
       "    .dataframe tbody tr th:only-of-type {\n",
       "        vertical-align: middle;\n",
       "    }\n",
       "\n",
       "    .dataframe tbody tr th {\n",
       "        vertical-align: top;\n",
       "    }\n",
       "\n",
       "    .dataframe thead th {\n",
       "        text-align: right;\n",
       "    }\n",
       "</style>\n",
       "<table border=\"1\" class=\"dataframe\">\n",
       "  <thead>\n",
       "    <tr style=\"text-align: right;\">\n",
       "      <th></th>\n",
       "      <th>country</th>\n",
       "      <th>beer_servings</th>\n",
       "      <th>spirit_servings</th>\n",
       "      <th>wine_servings</th>\n",
       "      <th>total_litres_of_pure_alcohol</th>\n",
       "      <th>Code</th>\n",
       "      <th>Three_Letter_Country_Code</th>\n",
       "      <th>Continent_Name</th>\n",
       "      <th>Continent_Code</th>\n",
       "    </tr>\n",
       "  </thead>\n",
       "  <tbody>\n",
       "    <tr>\n",
       "      <td>0</td>\n",
       "      <td>Afghanistan</td>\n",
       "      <td>0</td>\n",
       "      <td>0</td>\n",
       "      <td>0</td>\n",
       "      <td>0.0</td>\n",
       "      <td>AF</td>\n",
       "      <td>AFG</td>\n",
       "      <td>Asia</td>\n",
       "      <td>AS</td>\n",
       "    </tr>\n",
       "    <tr>\n",
       "      <td>1</td>\n",
       "      <td>Albania</td>\n",
       "      <td>89</td>\n",
       "      <td>132</td>\n",
       "      <td>54</td>\n",
       "      <td>4.9</td>\n",
       "      <td>AL</td>\n",
       "      <td>ALB</td>\n",
       "      <td>Europe</td>\n",
       "      <td>EU</td>\n",
       "    </tr>\n",
       "    <tr>\n",
       "      <td>2</td>\n",
       "      <td>Algeria</td>\n",
       "      <td>25</td>\n",
       "      <td>0</td>\n",
       "      <td>14</td>\n",
       "      <td>0.7</td>\n",
       "      <td>DZ</td>\n",
       "      <td>DZA</td>\n",
       "      <td>Africa</td>\n",
       "      <td>AF</td>\n",
       "    </tr>\n",
       "    <tr>\n",
       "      <td>3</td>\n",
       "      <td>Andorra</td>\n",
       "      <td>245</td>\n",
       "      <td>138</td>\n",
       "      <td>312</td>\n",
       "      <td>12.4</td>\n",
       "      <td>AD</td>\n",
       "      <td>AND</td>\n",
       "      <td>Europe</td>\n",
       "      <td>EU</td>\n",
       "    </tr>\n",
       "    <tr>\n",
       "      <td>4</td>\n",
       "      <td>Angola</td>\n",
       "      <td>217</td>\n",
       "      <td>57</td>\n",
       "      <td>45</td>\n",
       "      <td>5.9</td>\n",
       "      <td>AO</td>\n",
       "      <td>AGO</td>\n",
       "      <td>Africa</td>\n",
       "      <td>AF</td>\n",
       "    </tr>\n",
       "    <tr>\n",
       "      <td>...</td>\n",
       "      <td>...</td>\n",
       "      <td>...</td>\n",
       "      <td>...</td>\n",
       "      <td>...</td>\n",
       "      <td>...</td>\n",
       "      <td>...</td>\n",
       "      <td>...</td>\n",
       "      <td>...</td>\n",
       "      <td>...</td>\n",
       "    </tr>\n",
       "    <tr>\n",
       "      <td>195</td>\n",
       "      <td>Venezuela</td>\n",
       "      <td>333</td>\n",
       "      <td>100</td>\n",
       "      <td>3</td>\n",
       "      <td>7.7</td>\n",
       "      <td>VE</td>\n",
       "      <td>VEN</td>\n",
       "      <td>South America</td>\n",
       "      <td>SA</td>\n",
       "    </tr>\n",
       "    <tr>\n",
       "      <td>196</td>\n",
       "      <td>Vietnam</td>\n",
       "      <td>111</td>\n",
       "      <td>2</td>\n",
       "      <td>1</td>\n",
       "      <td>2.0</td>\n",
       "      <td>VN</td>\n",
       "      <td>VNM</td>\n",
       "      <td>Asia</td>\n",
       "      <td>AS</td>\n",
       "    </tr>\n",
       "    <tr>\n",
       "      <td>197</td>\n",
       "      <td>Yemen</td>\n",
       "      <td>6</td>\n",
       "      <td>0</td>\n",
       "      <td>0</td>\n",
       "      <td>0.1</td>\n",
       "      <td>YE</td>\n",
       "      <td>YEM</td>\n",
       "      <td>Asia</td>\n",
       "      <td>AS</td>\n",
       "    </tr>\n",
       "    <tr>\n",
       "      <td>198</td>\n",
       "      <td>Zambia</td>\n",
       "      <td>32</td>\n",
       "      <td>19</td>\n",
       "      <td>4</td>\n",
       "      <td>2.5</td>\n",
       "      <td>ZM</td>\n",
       "      <td>ZMB</td>\n",
       "      <td>Africa</td>\n",
       "      <td>AF</td>\n",
       "    </tr>\n",
       "    <tr>\n",
       "      <td>199</td>\n",
       "      <td>Zimbabwe</td>\n",
       "      <td>64</td>\n",
       "      <td>18</td>\n",
       "      <td>4</td>\n",
       "      <td>4.7</td>\n",
       "      <td>ZW</td>\n",
       "      <td>ZWE</td>\n",
       "      <td>Africa</td>\n",
       "      <td>AF</td>\n",
       "    </tr>\n",
       "  </tbody>\n",
       "</table>\n",
       "<p>200 rows × 9 columns</p>\n",
       "</div>"
      ],
      "text/plain": [
       "         country  beer_servings  spirit_servings  wine_servings  \\\n",
       "0    Afghanistan              0                0              0   \n",
       "1        Albania             89              132             54   \n",
       "2        Algeria             25                0             14   \n",
       "3        Andorra            245              138            312   \n",
       "4         Angola            217               57             45   \n",
       "..           ...            ...              ...            ...   \n",
       "195    Venezuela            333              100              3   \n",
       "196      Vietnam            111                2              1   \n",
       "197        Yemen              6                0              0   \n",
       "198       Zambia             32               19              4   \n",
       "199     Zimbabwe             64               18              4   \n",
       "\n",
       "     total_litres_of_pure_alcohol Code Three_Letter_Country_Code  \\\n",
       "0                             0.0   AF                       AFG   \n",
       "1                             4.9   AL                       ALB   \n",
       "2                             0.7   DZ                       DZA   \n",
       "3                            12.4   AD                       AND   \n",
       "4                             5.9   AO                       AGO   \n",
       "..                            ...  ...                       ...   \n",
       "195                           7.7   VE                       VEN   \n",
       "196                           2.0   VN                       VNM   \n",
       "197                           0.1   YE                       YEM   \n",
       "198                           2.5   ZM                       ZMB   \n",
       "199                           4.7   ZW                       ZWE   \n",
       "\n",
       "    Continent_Name Continent_Code  \n",
       "0             Asia             AS  \n",
       "1           Europe             EU  \n",
       "2           Africa             AF  \n",
       "3           Europe             EU  \n",
       "4           Africa             AF  \n",
       "..             ...            ...  \n",
       "195  South America             SA  \n",
       "196           Asia             AS  \n",
       "197           Asia             AS  \n",
       "198         Africa             AF  \n",
       "199         Africa             AF  \n",
       "\n",
       "[200 rows x 9 columns]"
      ]
     },
     "execution_count": 51,
     "metadata": {},
     "output_type": "execute_result"
    }
   ],
   "source": [
    "df_3"
   ]
  },
  {
   "cell_type": "markdown",
   "metadata": {},
   "source": [
    "# Join population dataset"
   ]
  },
  {
   "cell_type": "markdown",
   "metadata": {},
   "source": [
    "I added 3 new columns:\n",
    "* Population in 1998,\n",
    "* Population in 2018,\n",
    "* Percentage difference in population between 1998 and 2018."
   ]
  },
  {
   "cell_type": "code",
   "execution_count": 52,
   "metadata": {
    "ExecuteTime": {
     "end_time": "2020-03-15T16:31:40.851376Z",
     "start_time": "2020-03-15T16:31:40.842376Z"
    }
   },
   "outputs": [],
   "source": [
    "pop = pd.read_csv('pop.csv', delimiter=';').drop(columns='Country Name')\n",
    "pop.rename(columns={'2018': 'pop_2018', '1998': 'pop_1998'}, inplace=True)"
   ]
  },
  {
   "cell_type": "code",
   "execution_count": 53,
   "metadata": {
    "ExecuteTime": {
     "end_time": "2020-03-15T16:31:40.857376Z",
     "start_time": "2020-03-15T16:31:40.853380Z"
    }
   },
   "outputs": [],
   "source": [
    "pop['Population_diff'] = (pop['pop_2018'] - pop['pop_1998'])/ pop['pop_1998']"
   ]
  },
  {
   "cell_type": "code",
   "execution_count": 54,
   "metadata": {
    "ExecuteTime": {
     "end_time": "2020-03-15T16:31:40.867411Z",
     "start_time": "2020-03-15T16:31:40.859377Z"
    }
   },
   "outputs": [],
   "source": [
    "df_4 = df_3.merge(pop,\n",
    "          how='left',\n",
    "          left_on='Three_Letter_Country_Code',\n",
    "          right_on='Country Code').drop(columns='Country Code')"
   ]
  },
  {
   "cell_type": "markdown",
   "metadata": {},
   "source": [
    "# Join GDP dataset"
   ]
  },
  {
   "cell_type": "markdown",
   "metadata": {},
   "source": [
    "I added 3 new columns:\n",
    "* GDP in 1998,\n",
    "* GDO in 2018,\n",
    "* Percentage difference in GDP between 1998 and 2018."
   ]
  },
  {
   "cell_type": "code",
   "execution_count": 55,
   "metadata": {
    "ExecuteTime": {
     "end_time": "2020-03-15T16:31:40.875376Z",
     "start_time": "2020-03-15T16:31:40.869378Z"
    }
   },
   "outputs": [],
   "source": [
    "gdp = pd.read_csv('gdp.csv', delimiter=';').drop(columns='Country Name')\n",
    "gdp.rename(columns={'2018': 'gdp_2018', '1998': 'gdp_1998'}, inplace=True)"
   ]
  },
  {
   "cell_type": "code",
   "execution_count": 56,
   "metadata": {
    "ExecuteTime": {
     "end_time": "2020-03-15T16:31:40.887384Z",
     "start_time": "2020-03-15T16:31:40.876376Z"
    }
   },
   "outputs": [
    {
     "data": {
      "text/html": [
       "<div>\n",
       "<style scoped>\n",
       "    .dataframe tbody tr th:only-of-type {\n",
       "        vertical-align: middle;\n",
       "    }\n",
       "\n",
       "    .dataframe tbody tr th {\n",
       "        vertical-align: top;\n",
       "    }\n",
       "\n",
       "    .dataframe thead th {\n",
       "        text-align: right;\n",
       "    }\n",
       "</style>\n",
       "<table border=\"1\" class=\"dataframe\">\n",
       "  <thead>\n",
       "    <tr style=\"text-align: right;\">\n",
       "      <th></th>\n",
       "      <th>Country Code</th>\n",
       "      <th>gdp_1998</th>\n",
       "      <th>gdp_2018</th>\n",
       "    </tr>\n",
       "  </thead>\n",
       "  <tbody>\n",
       "    <tr>\n",
       "      <td>0</td>\n",
       "      <td>ABW</td>\n",
       "      <td>1.665101e+09</td>\n",
       "      <td>NaN</td>\n",
       "    </tr>\n",
       "    <tr>\n",
       "      <td>1</td>\n",
       "      <td>AFG</td>\n",
       "      <td>NaN</td>\n",
       "      <td>1.936297e+10</td>\n",
       "    </tr>\n",
       "    <tr>\n",
       "      <td>2</td>\n",
       "      <td>AGO</td>\n",
       "      <td>6.506230e+09</td>\n",
       "      <td>1.057510e+11</td>\n",
       "    </tr>\n",
       "    <tr>\n",
       "      <td>3</td>\n",
       "      <td>ALB</td>\n",
       "      <td>2.545967e+09</td>\n",
       "      <td>1.510250e+10</td>\n",
       "    </tr>\n",
       "    <tr>\n",
       "      <td>4</td>\n",
       "      <td>AND</td>\n",
       "      <td>1.211932e+09</td>\n",
       "      <td>3.236544e+09</td>\n",
       "    </tr>\n",
       "    <tr>\n",
       "      <td>...</td>\n",
       "      <td>...</td>\n",
       "      <td>...</td>\n",
       "      <td>...</td>\n",
       "    </tr>\n",
       "    <tr>\n",
       "      <td>259</td>\n",
       "      <td>XKX</td>\n",
       "      <td>NaN</td>\n",
       "      <td>7.938991e+09</td>\n",
       "    </tr>\n",
       "    <tr>\n",
       "      <td>260</td>\n",
       "      <td>Rep.</td>\n",
       "      <td>6.838557e+09</td>\n",
       "      <td>2.681870e+10</td>\n",
       "    </tr>\n",
       "    <tr>\n",
       "      <td>261</td>\n",
       "      <td>ZAF</td>\n",
       "      <td>1.377748e+11</td>\n",
       "      <td>3.682889e+11</td>\n",
       "    </tr>\n",
       "    <tr>\n",
       "      <td>262</td>\n",
       "      <td>ZMB</td>\n",
       "      <td>3.537683e+09</td>\n",
       "      <td>2.672007e+10</td>\n",
       "    </tr>\n",
       "    <tr>\n",
       "      <td>263</td>\n",
       "      <td>ZWE</td>\n",
       "      <td>6.401968e+09</td>\n",
       "      <td>3.100052e+10</td>\n",
       "    </tr>\n",
       "  </tbody>\n",
       "</table>\n",
       "<p>264 rows × 3 columns</p>\n",
       "</div>"
      ],
      "text/plain": [
       "    Country Code      gdp_1998      gdp_2018\n",
       "0            ABW  1.665101e+09           NaN\n",
       "1            AFG           NaN  1.936297e+10\n",
       "2            AGO  6.506230e+09  1.057510e+11\n",
       "3            ALB  2.545967e+09  1.510250e+10\n",
       "4            AND  1.211932e+09  3.236544e+09\n",
       "..           ...           ...           ...\n",
       "259          XKX           NaN  7.938991e+09\n",
       "260         Rep.  6.838557e+09  2.681870e+10\n",
       "261          ZAF  1.377748e+11  3.682889e+11\n",
       "262          ZMB  3.537683e+09  2.672007e+10\n",
       "263          ZWE  6.401968e+09  3.100052e+10\n",
       "\n",
       "[264 rows x 3 columns]"
      ]
     },
     "execution_count": 56,
     "metadata": {},
     "output_type": "execute_result"
    }
   ],
   "source": [
    "gdp"
   ]
  },
  {
   "cell_type": "code",
   "execution_count": 57,
   "metadata": {
    "ExecuteTime": {
     "end_time": "2020-03-15T16:31:40.898378Z",
     "start_time": "2020-03-15T16:31:40.889386Z"
    }
   },
   "outputs": [
    {
     "data": {
      "text/plain": [
       "0      1.665101e+09\n",
       "1               NaN\n",
       "2      6.506230e+09\n",
       "3      2.545967e+09\n",
       "4      1.211932e+09\n",
       "           ...     \n",
       "259             NaN\n",
       "260    6.838557e+09\n",
       "261    1.377748e+11\n",
       "262    3.537683e+09\n",
       "263    6.401968e+09\n",
       "Name: gdp_1998, Length: 264, dtype: float64"
      ]
     },
     "execution_count": 57,
     "metadata": {},
     "output_type": "execute_result"
    }
   ],
   "source": [
    "gdp['gdp_1998']"
   ]
  },
  {
   "cell_type": "code",
   "execution_count": 58,
   "metadata": {
    "ExecuteTime": {
     "end_time": "2020-03-15T16:31:40.905375Z",
     "start_time": "2020-03-15T16:31:40.900377Z"
    }
   },
   "outputs": [],
   "source": [
    "gdp['GDP_diff'] = (gdp['gdp_2018'] - gdp['gdp_1998'])/ gdp['gdp_1998']"
   ]
  },
  {
   "cell_type": "code",
   "execution_count": 59,
   "metadata": {
    "ExecuteTime": {
     "end_time": "2020-03-15T16:31:40.914408Z",
     "start_time": "2020-03-15T16:31:40.906377Z"
    }
   },
   "outputs": [],
   "source": [
    "df_5 = df_4.merge(gdp,\n",
    "          how='left',\n",
    "          left_on='Three_Letter_Country_Code',\n",
    "          right_on='Country Code').drop(columns='Country Code')"
   ]
  },
  {
   "cell_type": "markdown",
   "metadata": {},
   "source": [
    "# Join sub-region dataset"
   ]
  },
  {
   "cell_type": "code",
   "execution_count": 60,
   "metadata": {
    "ExecuteTime": {
     "end_time": "2020-03-15T16:31:41.162276Z",
     "start_time": "2020-03-15T16:31:40.915377Z"
    }
   },
   "outputs": [],
   "source": [
    "region = pd.read_csv('https://raw.githubusercontent.com/lukes/ISO-3166-Countries-with-Regional-Codes/master/all/all.csv')\n",
    "region = region[['alpha-3', 'sub-region']]"
   ]
  },
  {
   "cell_type": "code",
   "execution_count": 61,
   "metadata": {
    "ExecuteTime": {
     "end_time": "2020-03-15T16:31:41.173217Z",
     "start_time": "2020-03-15T16:31:41.163270Z"
    }
   },
   "outputs": [],
   "source": [
    "df_6 = df_5.merge(region,\n",
    "          how='left',\n",
    "          left_on='Three_Letter_Country_Code',\n",
    "          right_on='alpha-3').drop(columns='alpha-3')"
   ]
  },
  {
   "cell_type": "markdown",
   "metadata": {},
   "source": [
    "# Join religion dataset"
   ]
  },
  {
   "cell_type": "markdown",
   "metadata": {},
   "source": [
    "As religion I have chosen the most popular religion in the country."
   ]
  },
  {
   "cell_type": "code",
   "execution_count": 62,
   "metadata": {
    "ExecuteTime": {
     "end_time": "2020-03-15T16:31:41.551400Z",
     "start_time": "2020-03-15T16:31:41.174232Z"
    }
   },
   "outputs": [],
   "source": [
    "religion = pd.read_excel('religion.xlsx')\n",
    "religion = religion[religion['Year']==2010]"
   ]
  },
  {
   "cell_type": "code",
   "execution_count": 63,
   "metadata": {
    "ExecuteTime": {
     "end_time": "2020-03-15T16:31:41.566233Z",
     "start_time": "2020-03-15T16:31:41.553268Z"
    },
    "scrolled": true
   },
   "outputs": [
    {
     "data": {
      "text/html": [
       "<div>\n",
       "<style scoped>\n",
       "    .dataframe tbody tr th:only-of-type {\n",
       "        vertical-align: middle;\n",
       "    }\n",
       "\n",
       "    .dataframe tbody tr th {\n",
       "        vertical-align: top;\n",
       "    }\n",
       "\n",
       "    .dataframe thead th {\n",
       "        text-align: right;\n",
       "    }\n",
       "</style>\n",
       "<table border=\"1\" class=\"dataframe\">\n",
       "  <thead>\n",
       "    <tr style=\"text-align: right;\">\n",
       "      <th></th>\n",
       "      <th>Country</th>\n",
       "      <th>Christians</th>\n",
       "      <th>Muslims</th>\n",
       "      <th>Unaffiliated</th>\n",
       "      <th>Hindus</th>\n",
       "      <th>Buddhists</th>\n",
       "      <th>Folk Religions</th>\n",
       "      <th>Other Religions</th>\n",
       "      <th>Jews</th>\n",
       "    </tr>\n",
       "  </thead>\n",
       "  <tbody>\n",
       "    <tr>\n",
       "      <td>0</td>\n",
       "      <td>All Countries</td>\n",
       "      <td>2,168,330,000</td>\n",
       "      <td>1,599,700,000</td>\n",
       "      <td>1,131,150,000</td>\n",
       "      <td>1,032,210,000</td>\n",
       "      <td>487,760,000</td>\n",
       "      <td>404,690,000</td>\n",
       "      <td>58,150,000</td>\n",
       "      <td>13,860,000</td>\n",
       "    </tr>\n",
       "    <tr>\n",
       "      <td>1</td>\n",
       "      <td>All Countries</td>\n",
       "      <td>266,630,000</td>\n",
       "      <td>3,480,000</td>\n",
       "      <td>59,040,000</td>\n",
       "      <td>2,250,000</td>\n",
       "      <td>3,860,000</td>\n",
       "      <td>1,020,000</td>\n",
       "      <td>2,200,000</td>\n",
       "      <td>6,040,000</td>\n",
       "    </tr>\n",
       "    <tr>\n",
       "      <td>2</td>\n",
       "      <td>All Countries</td>\n",
       "      <td>531,280,000</td>\n",
       "      <td>840,000</td>\n",
       "      <td>45,390,000</td>\n",
       "      <td>660,000</td>\n",
       "      <td>410,000</td>\n",
       "      <td>10,040,000</td>\n",
       "      <td>990,000</td>\n",
       "      <td>470,000</td>\n",
       "    </tr>\n",
       "    <tr>\n",
       "      <td>3</td>\n",
       "      <td>All Countries</td>\n",
       "      <td>553,280,000</td>\n",
       "      <td>43,470,000</td>\n",
       "      <td>139,890,000</td>\n",
       "      <td>1,380,000</td>\n",
       "      <td>1,350,000</td>\n",
       "      <td>870,000</td>\n",
       "      <td>890,000</td>\n",
       "      <td>1,420,000</td>\n",
       "    </tr>\n",
       "    <tr>\n",
       "      <td>4</td>\n",
       "      <td>All Countries</td>\n",
       "      <td>12,710,000</td>\n",
       "      <td>317,070,000</td>\n",
       "      <td>2,100,000</td>\n",
       "      <td>1,720,000</td>\n",
       "      <td>500,000</td>\n",
       "      <td>1,060,000</td>\n",
       "      <td>230,000</td>\n",
       "      <td>5,630,000</td>\n",
       "    </tr>\n",
       "    <tr>\n",
       "      <td>...</td>\n",
       "      <td>...</td>\n",
       "      <td>...</td>\n",
       "      <td>...</td>\n",
       "      <td>...</td>\n",
       "      <td>...</td>\n",
       "      <td>...</td>\n",
       "      <td>...</td>\n",
       "      <td>...</td>\n",
       "      <td>...</td>\n",
       "    </tr>\n",
       "    <tr>\n",
       "      <td>236</td>\n",
       "      <td>Zimbabwe</td>\n",
       "      <td>10,930,000</td>\n",
       "      <td>110,000</td>\n",
       "      <td>990,000</td>\n",
       "      <td>&lt;10,000</td>\n",
       "      <td>&lt;10,000</td>\n",
       "      <td>480,000</td>\n",
       "      <td>40,000</td>\n",
       "      <td>10,000</td>\n",
       "    </tr>\n",
       "    <tr>\n",
       "      <td>237</td>\n",
       "      <td>South Sudan</td>\n",
       "      <td>6,010,000</td>\n",
       "      <td>610,000</td>\n",
       "      <td>50,000</td>\n",
       "      <td>&lt;10,000</td>\n",
       "      <td>&lt;10,000</td>\n",
       "      <td>3,270,000</td>\n",
       "      <td>&lt;10,000</td>\n",
       "      <td>&lt;10,000</td>\n",
       "    </tr>\n",
       "    <tr>\n",
       "      <td>238</td>\n",
       "      <td>Curacao</td>\n",
       "      <td>140,000</td>\n",
       "      <td>&lt;10,000</td>\n",
       "      <td>&lt;10,000</td>\n",
       "      <td>&lt;10,000</td>\n",
       "      <td>&lt;10,000</td>\n",
       "      <td>&lt;10,000</td>\n",
       "      <td>&lt;10,000</td>\n",
       "      <td>&lt;10,000</td>\n",
       "    </tr>\n",
       "    <tr>\n",
       "      <td>239</td>\n",
       "      <td>Sint Maarten</td>\n",
       "      <td>40,000</td>\n",
       "      <td>&lt;10,000</td>\n",
       "      <td>&lt;10,000</td>\n",
       "      <td>&lt;10,000</td>\n",
       "      <td>&lt;10,000</td>\n",
       "      <td>&lt;10,000</td>\n",
       "      <td>&lt;10,000</td>\n",
       "      <td>&lt;10,000</td>\n",
       "    </tr>\n",
       "    <tr>\n",
       "      <td>240</td>\n",
       "      <td>Caribbean Netherlands</td>\n",
       "      <td>20,000</td>\n",
       "      <td>&lt;10,000</td>\n",
       "      <td>&lt;10,000</td>\n",
       "      <td>&lt;10,000</td>\n",
       "      <td>&lt;10,000</td>\n",
       "      <td>&lt;10,000</td>\n",
       "      <td>&lt;10,000</td>\n",
       "      <td>&lt;10,000</td>\n",
       "    </tr>\n",
       "  </tbody>\n",
       "</table>\n",
       "<p>241 rows × 9 columns</p>\n",
       "</div>"
      ],
      "text/plain": [
       "                   Country        Christians           Muslims  \\\n",
       "0            All Countries     2,168,330,000     1,599,700,000   \n",
       "1            All Countries       266,630,000         3,480,000   \n",
       "2            All Countries       531,280,000           840,000   \n",
       "3            All Countries       553,280,000        43,470,000   \n",
       "4            All Countries        12,710,000       317,070,000   \n",
       "..                     ...               ...               ...   \n",
       "236               Zimbabwe        10,930,000           110,000   \n",
       "237            South Sudan         6,010,000           610,000   \n",
       "238                Curacao           140,000           <10,000   \n",
       "239           Sint Maarten            40,000           <10,000   \n",
       "240  Caribbean Netherlands            20,000           <10,000   \n",
       "\n",
       "         Unaffiliated            Hindus         Buddhists    Folk Religions  \\\n",
       "0       1,131,150,000     1,032,210,000       487,760,000       404,690,000   \n",
       "1          59,040,000         2,250,000         3,860,000         1,020,000   \n",
       "2          45,390,000           660,000           410,000        10,040,000   \n",
       "3         139,890,000         1,380,000         1,350,000           870,000   \n",
       "4           2,100,000         1,720,000           500,000         1,060,000   \n",
       "..                ...               ...               ...               ...   \n",
       "236           990,000           <10,000           <10,000           480,000   \n",
       "237            50,000           <10,000           <10,000         3,270,000   \n",
       "238           <10,000           <10,000           <10,000           <10,000   \n",
       "239           <10,000           <10,000           <10,000           <10,000   \n",
       "240           <10,000           <10,000           <10,000           <10,000   \n",
       "\n",
       "      Other Religions              Jews  \n",
       "0          58,150,000        13,860,000  \n",
       "1           2,200,000         6,040,000  \n",
       "2             990,000           470,000  \n",
       "3             890,000         1,420,000  \n",
       "4             230,000         5,630,000  \n",
       "..                ...               ...  \n",
       "236            40,000            10,000  \n",
       "237           <10,000           <10,000  \n",
       "238           <10,000           <10,000  \n",
       "239           <10,000           <10,000  \n",
       "240           <10,000           <10,000  \n",
       "\n",
       "[241 rows x 9 columns]"
      ]
     },
     "execution_count": 63,
     "metadata": {},
     "output_type": "execute_result"
    }
   ],
   "source": [
    "religion.drop(columns=['row_number', 'level', 'Nation_fk', 'Year', 'Region', 'All Religions'])"
   ]
  },
  {
   "cell_type": "code",
   "execution_count": 64,
   "metadata": {
    "ExecuteTime": {
     "end_time": "2020-03-15T16:31:41.581233Z",
     "start_time": "2020-03-15T16:31:41.567239Z"
    }
   },
   "outputs": [],
   "source": [
    "religion = religion.melt(id_vars = ['Country'], value_vars=['Christians', 'Muslims',\n",
    "                                                'Unaffiliated', 'Hindus',\n",
    "                                                'Buddhists', 'Folk Religions',\n",
    "                                                'Other Religions', 'Jews'],\n",
    "             var_name='Religion')"
   ]
  },
  {
   "cell_type": "code",
   "execution_count": 65,
   "metadata": {
    "ExecuteTime": {
     "end_time": "2020-03-15T16:31:41.589233Z",
     "start_time": "2020-03-15T16:31:41.583233Z"
    },
    "scrolled": true
   },
   "outputs": [],
   "source": [
    "religion['value'] = religion['value'].str.replace('<', '').str.replace(',', '').astype(float)"
   ]
  },
  {
   "cell_type": "code",
   "execution_count": 66,
   "metadata": {
    "ExecuteTime": {
     "end_time": "2020-03-15T16:31:41.858415Z",
     "start_time": "2020-03-15T16:31:41.590234Z"
    }
   },
   "outputs": [],
   "source": [
    "religion = religion.groupby('Country').apply(lambda country: country.nlargest(1, columns='value')).reset_index(drop=True)"
   ]
  },
  {
   "cell_type": "code",
   "execution_count": 67,
   "metadata": {
    "ExecuteTime": {
     "end_time": "2020-03-15T16:31:41.872184Z",
     "start_time": "2020-03-15T16:31:41.860234Z"
    }
   },
   "outputs": [],
   "source": [
    "df_7 = df_6.merge(religion,\n",
    "          how='left',\n",
    "          left_on='country',\n",
    "          right_on='Country').drop(columns=['Country', 'value'])"
   ]
  },
  {
   "cell_type": "markdown",
   "metadata": {},
   "source": [
    "For countries without religion I have manually imputed informations."
   ]
  },
  {
   "cell_type": "code",
   "execution_count": 68,
   "metadata": {
    "ExecuteTime": {
     "end_time": "2020-03-15T16:32:11.527754Z",
     "start_time": "2020-03-15T16:31:41.874278Z"
    },
    "scrolled": true
   },
   "outputs": [
    {
     "name": "stdout",
     "output_type": "stream",
     "text": [
      "Cote d'Ivoire: Christians\n",
      "Cabo Verde: Christians\n",
      "Congo: Christians\n",
      "DR Congo: Christians\n",
      "Micronesia: Christians\n",
      "Myanmar: Buddhists\n",
      "Russian Federation: Christians\n",
      "Russian Federation: Christians\n",
      "Macedonia: Christians\n",
      "USA: Christians\n"
     ]
    }
   ],
   "source": [
    "df_7.set_index('country', inplace=True)\n",
    "for country in df_7[df_7['Religion'].isna()].index:\n",
    "    name = input(country +': ')\n",
    "    df_7.at[country, 'Religion'] = name"
   ]
  },
  {
   "cell_type": "code",
   "execution_count": 69,
   "metadata": {
    "ExecuteTime": {
     "end_time": "2020-03-15T16:32:11.546777Z",
     "start_time": "2020-03-15T16:32:11.532757Z"
    }
   },
   "outputs": [],
   "source": [
    "df_7.drop_duplicates(inplace=True)"
   ]
  },
  {
   "cell_type": "code",
   "execution_count": 70,
   "metadata": {
    "ExecuteTime": {
     "end_time": "2020-03-15T16:32:11.556764Z",
     "start_time": "2020-03-15T16:32:11.550757Z"
    }
   },
   "outputs": [],
   "source": [
    "df_7.reset_index(inplace=True)"
   ]
  },
  {
   "cell_type": "code",
   "execution_count": 71,
   "metadata": {
    "ExecuteTime": {
     "end_time": "2020-03-15T16:32:11.569758Z",
     "start_time": "2020-03-15T16:32:11.560758Z"
    },
    "scrolled": false
   },
   "outputs": [
    {
     "data": {
      "text/plain": [
       "Cyprus                   2\n",
       "Azerbaijan               2\n",
       "Russian Federation       2\n",
       "Turkey                   2\n",
       "Kazakhstan               2\n",
       "                        ..\n",
       "Sao Tome and Principe    1\n",
       "Luxembourg               1\n",
       "Tajikistan               1\n",
       "Turkmenistan             1\n",
       "Cabo Verde               1\n",
       "Name: country, Length: 193, dtype: int64"
      ]
     },
     "execution_count": 71,
     "metadata": {},
     "output_type": "execute_result"
    }
   ],
   "source": [
    "df_7.country.value_counts()"
   ]
  },
  {
   "cell_type": "code",
   "execution_count": 73,
   "metadata": {
    "ExecuteTime": {
     "end_time": "2020-03-15T16:32:21.661007Z",
     "start_time": "2020-03-15T16:32:21.307827Z"
    }
   },
   "outputs": [],
   "source": [
    "df_final = df_7.groupby('country').apply(lambda x: x.nlargest(1, columns = 'Population_diff'))"
   ]
  },
  {
   "cell_type": "markdown",
   "metadata": {},
   "source": [
    "# Join geo localization dataset"
   ]
  },
  {
   "cell_type": "code",
   "execution_count": 74,
   "metadata": {
    "ExecuteTime": {
     "end_time": "2020-03-15T16:32:24.353423Z",
     "start_time": "2020-03-15T16:32:23.825642Z"
    }
   },
   "outputs": [],
   "source": [
    "geo_loc = pd.read_html('https://developers.google.com/public-data/docs/canonical/countries_csv')[0]"
   ]
  },
  {
   "cell_type": "code",
   "execution_count": 75,
   "metadata": {
    "ExecuteTime": {
     "end_time": "2020-03-15T16:32:25.028045Z",
     "start_time": "2020-03-15T16:32:25.012078Z"
    }
   },
   "outputs": [
    {
     "data": {
      "text/html": [
       "<div>\n",
       "<style scoped>\n",
       "    .dataframe tbody tr th:only-of-type {\n",
       "        vertical-align: middle;\n",
       "    }\n",
       "\n",
       "    .dataframe tbody tr th {\n",
       "        vertical-align: top;\n",
       "    }\n",
       "\n",
       "    .dataframe thead th {\n",
       "        text-align: right;\n",
       "    }\n",
       "</style>\n",
       "<table border=\"1\" class=\"dataframe\">\n",
       "  <thead>\n",
       "    <tr style=\"text-align: right;\">\n",
       "      <th></th>\n",
       "      <th>country</th>\n",
       "      <th>latitude</th>\n",
       "      <th>longitude</th>\n",
       "      <th>name</th>\n",
       "    </tr>\n",
       "  </thead>\n",
       "  <tbody>\n",
       "    <tr>\n",
       "      <td>0</td>\n",
       "      <td>AD</td>\n",
       "      <td>42.546245</td>\n",
       "      <td>1.601554</td>\n",
       "      <td>Andorra</td>\n",
       "    </tr>\n",
       "    <tr>\n",
       "      <td>1</td>\n",
       "      <td>AE</td>\n",
       "      <td>23.424076</td>\n",
       "      <td>53.847818</td>\n",
       "      <td>United Arab Emirates</td>\n",
       "    </tr>\n",
       "    <tr>\n",
       "      <td>2</td>\n",
       "      <td>AF</td>\n",
       "      <td>33.939110</td>\n",
       "      <td>67.709953</td>\n",
       "      <td>Afghanistan</td>\n",
       "    </tr>\n",
       "    <tr>\n",
       "      <td>3</td>\n",
       "      <td>AG</td>\n",
       "      <td>17.060816</td>\n",
       "      <td>-61.796428</td>\n",
       "      <td>Antigua and Barbuda</td>\n",
       "    </tr>\n",
       "    <tr>\n",
       "      <td>4</td>\n",
       "      <td>AI</td>\n",
       "      <td>18.220554</td>\n",
       "      <td>-63.068615</td>\n",
       "      <td>Anguilla</td>\n",
       "    </tr>\n",
       "    <tr>\n",
       "      <td>...</td>\n",
       "      <td>...</td>\n",
       "      <td>...</td>\n",
       "      <td>...</td>\n",
       "      <td>...</td>\n",
       "    </tr>\n",
       "    <tr>\n",
       "      <td>240</td>\n",
       "      <td>YE</td>\n",
       "      <td>15.552727</td>\n",
       "      <td>48.516388</td>\n",
       "      <td>Yemen</td>\n",
       "    </tr>\n",
       "    <tr>\n",
       "      <td>241</td>\n",
       "      <td>YT</td>\n",
       "      <td>-12.827500</td>\n",
       "      <td>45.166244</td>\n",
       "      <td>Mayotte</td>\n",
       "    </tr>\n",
       "    <tr>\n",
       "      <td>242</td>\n",
       "      <td>ZA</td>\n",
       "      <td>-30.559482</td>\n",
       "      <td>22.937506</td>\n",
       "      <td>South Africa</td>\n",
       "    </tr>\n",
       "    <tr>\n",
       "      <td>243</td>\n",
       "      <td>ZM</td>\n",
       "      <td>-13.133897</td>\n",
       "      <td>27.849332</td>\n",
       "      <td>Zambia</td>\n",
       "    </tr>\n",
       "    <tr>\n",
       "      <td>244</td>\n",
       "      <td>ZW</td>\n",
       "      <td>-19.015438</td>\n",
       "      <td>29.154857</td>\n",
       "      <td>Zimbabwe</td>\n",
       "    </tr>\n",
       "  </tbody>\n",
       "</table>\n",
       "<p>245 rows × 4 columns</p>\n",
       "</div>"
      ],
      "text/plain": [
       "    country   latitude  longitude                  name\n",
       "0        AD  42.546245   1.601554               Andorra\n",
       "1        AE  23.424076  53.847818  United Arab Emirates\n",
       "2        AF  33.939110  67.709953           Afghanistan\n",
       "3        AG  17.060816 -61.796428   Antigua and Barbuda\n",
       "4        AI  18.220554 -63.068615              Anguilla\n",
       "..      ...        ...        ...                   ...\n",
       "240      YE  15.552727  48.516388                 Yemen\n",
       "241      YT -12.827500  45.166244               Mayotte\n",
       "242      ZA -30.559482  22.937506          South Africa\n",
       "243      ZM -13.133897  27.849332                Zambia\n",
       "244      ZW -19.015438  29.154857              Zimbabwe\n",
       "\n",
       "[245 rows x 4 columns]"
      ]
     },
     "execution_count": 75,
     "metadata": {},
     "output_type": "execute_result"
    }
   ],
   "source": [
    "geo_loc"
   ]
  },
  {
   "cell_type": "code",
   "execution_count": 77,
   "metadata": {
    "ExecuteTime": {
     "end_time": "2020-03-15T16:32:38.130132Z",
     "start_time": "2020-03-15T16:32:38.124135Z"
    }
   },
   "outputs": [
    {
     "data": {
      "text/plain": [
       "Index(['country', 'beer_servings', 'spirit_servings', 'wine_servings',\n",
       "       'total_litres_of_pure_alcohol', 'Code', 'Three_Letter_Country_Code',\n",
       "       'Continent_Name', 'Continent_Code', 'pop_1998', 'pop_2018',\n",
       "       'Population_diff', 'gdp_1998', 'gdp_2018', 'GDP_diff', 'sub-region',\n",
       "       'Religion'],\n",
       "      dtype='object')"
      ]
     },
     "execution_count": 77,
     "metadata": {},
     "output_type": "execute_result"
    }
   ],
   "source": [
    "df_final.columns"
   ]
  },
  {
   "cell_type": "code",
   "execution_count": 79,
   "metadata": {
    "ExecuteTime": {
     "end_time": "2020-03-15T16:33:35.566986Z",
     "start_time": "2020-03-15T16:33:35.553988Z"
    },
    "scrolled": true
   },
   "outputs": [],
   "source": [
    "df_final = df_final.merge(geo_loc,\n",
    "              how='left',\n",
    "              left_on='Code',\n",
    "              right_on='country').drop(columns=['name', 'country_y']).rename(columns={'country_x':'country'})"
   ]
  },
  {
   "cell_type": "markdown",
   "metadata": {},
   "source": [
    "# Save to csv"
   ]
  },
  {
   "cell_type": "code",
   "execution_count": 80,
   "metadata": {
    "ExecuteTime": {
     "end_time": "2020-03-15T16:33:40.362861Z",
     "start_time": "2020-03-15T16:33:40.355810Z"
    }
   },
   "outputs": [],
   "source": [
    "df_final.to_csv('final_data.csv')"
   ]
  }
 ],
 "metadata": {
  "kernelspec": {
   "display_name": "Python 3",
   "language": "python",
   "name": "python3"
  },
  "language_info": {
   "codemirror_mode": {
    "name": "ipython",
    "version": 3
   },
   "file_extension": ".py",
   "mimetype": "text/x-python",
   "name": "python",
   "nbconvert_exporter": "python",
   "pygments_lexer": "ipython3",
   "version": "3.7.4"
  },
  "toc": {
   "base_numbering": 1,
   "nav_menu": {},
   "number_sections": true,
   "sideBar": true,
   "skip_h1_title": false,
   "title_cell": "Table of Contents",
   "title_sidebar": "Contents",
   "toc_cell": false,
   "toc_position": {},
   "toc_section_display": true,
   "toc_window_display": false
  },
  "varInspector": {
   "cols": {
    "lenName": 16,
    "lenType": 16,
    "lenVar": 40
   },
   "kernels_config": {
    "python": {
     "delete_cmd_postfix": "",
     "delete_cmd_prefix": "del ",
     "library": "var_list.py",
     "varRefreshCmd": "print(var_dic_list())"
    },
    "r": {
     "delete_cmd_postfix": ") ",
     "delete_cmd_prefix": "rm(",
     "library": "var_list.r",
     "varRefreshCmd": "cat(var_dic_list()) "
    }
   },
   "types_to_exclude": [
    "module",
    "function",
    "builtin_function_or_method",
    "instance",
    "_Feature"
   ],
   "window_display": false
  }
 },
 "nbformat": 4,
 "nbformat_minor": 2
}

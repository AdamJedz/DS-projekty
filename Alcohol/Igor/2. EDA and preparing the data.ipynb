{
 "cells": [
  {
   "cell_type": "code",
   "execution_count": 18,
   "metadata": {
    "ExecuteTime": {
     "end_time": "2020-03-15T16:45:49.864754Z",
     "start_time": "2020-03-15T16:45:49.860752Z"
    }
   },
   "outputs": [],
   "source": [
    "import numpy as np\n",
    "import pandas as pd\n",
    "import seaborn as sns"
   ]
  },
  {
   "cell_type": "code",
   "execution_count": 19,
   "metadata": {
    "ExecuteTime": {
     "end_time": "2020-03-15T16:45:49.883773Z",
     "start_time": "2020-03-15T16:45:49.871752Z"
    }
   },
   "outputs": [],
   "source": [
    "df = pd.read_csv('final_data.csv').drop(columns='Unnamed: 0').set_index('country')"
   ]
  },
  {
   "cell_type": "code",
   "execution_count": 20,
   "metadata": {
    "ExecuteTime": {
     "end_time": "2020-03-15T16:45:49.899751Z",
     "start_time": "2020-03-15T16:45:49.884749Z"
    }
   },
   "outputs": [
    {
     "data": {
      "text/html": [
       "<div>\n",
       "<style scoped>\n",
       "    .dataframe tbody tr th:only-of-type {\n",
       "        vertical-align: middle;\n",
       "    }\n",
       "\n",
       "    .dataframe tbody tr th {\n",
       "        vertical-align: top;\n",
       "    }\n",
       "\n",
       "    .dataframe thead th {\n",
       "        text-align: right;\n",
       "    }\n",
       "</style>\n",
       "<table border=\"1\" class=\"dataframe\">\n",
       "  <thead>\n",
       "    <tr style=\"text-align: right;\">\n",
       "      <th></th>\n",
       "      <th>beer_servings</th>\n",
       "      <th>spirit_servings</th>\n",
       "      <th>wine_servings</th>\n",
       "      <th>total_litres_of_pure_alcohol</th>\n",
       "      <th>Code</th>\n",
       "      <th>Three_Letter_Country_Code</th>\n",
       "      <th>Continent_Name</th>\n",
       "      <th>Continent_Code</th>\n",
       "      <th>pop_1998</th>\n",
       "      <th>pop_2018</th>\n",
       "      <th>Population_diff</th>\n",
       "      <th>gdp_1998</th>\n",
       "      <th>gdp_2018</th>\n",
       "      <th>GDP_diff</th>\n",
       "      <th>sub-region</th>\n",
       "      <th>Religion</th>\n",
       "      <th>latitude</th>\n",
       "      <th>longitude</th>\n",
       "    </tr>\n",
       "    <tr>\n",
       "      <th>country</th>\n",
       "      <th></th>\n",
       "      <th></th>\n",
       "      <th></th>\n",
       "      <th></th>\n",
       "      <th></th>\n",
       "      <th></th>\n",
       "      <th></th>\n",
       "      <th></th>\n",
       "      <th></th>\n",
       "      <th></th>\n",
       "      <th></th>\n",
       "      <th></th>\n",
       "      <th></th>\n",
       "      <th></th>\n",
       "      <th></th>\n",
       "      <th></th>\n",
       "      <th></th>\n",
       "      <th></th>\n",
       "    </tr>\n",
       "  </thead>\n",
       "  <tbody>\n",
       "    <tr>\n",
       "      <td>Afghanistan</td>\n",
       "      <td>0</td>\n",
       "      <td>0</td>\n",
       "      <td>0</td>\n",
       "      <td>0.0</td>\n",
       "      <td>AF</td>\n",
       "      <td>AFG</td>\n",
       "      <td>Asia</td>\n",
       "      <td>AS</td>\n",
       "      <td>19737765.0</td>\n",
       "      <td>37172386.0</td>\n",
       "      <td>0.883313</td>\n",
       "      <td>NaN</td>\n",
       "      <td>1.936297e+10</td>\n",
       "      <td>NaN</td>\n",
       "      <td>Southern Asia</td>\n",
       "      <td>Muslims</td>\n",
       "      <td>33.939110</td>\n",
       "      <td>67.709953</td>\n",
       "    </tr>\n",
       "    <tr>\n",
       "      <td>Albania</td>\n",
       "      <td>89</td>\n",
       "      <td>132</td>\n",
       "      <td>54</td>\n",
       "      <td>4.9</td>\n",
       "      <td>AL</td>\n",
       "      <td>ALB</td>\n",
       "      <td>Europe</td>\n",
       "      <td>EU</td>\n",
       "      <td>3128530.0</td>\n",
       "      <td>2866376.0</td>\n",
       "      <td>-0.083795</td>\n",
       "      <td>2.545967e+09</td>\n",
       "      <td>1.510250e+10</td>\n",
       "      <td>4.931931</td>\n",
       "      <td>Southern Europe</td>\n",
       "      <td>Muslims</td>\n",
       "      <td>41.153332</td>\n",
       "      <td>20.168331</td>\n",
       "    </tr>\n",
       "    <tr>\n",
       "      <td>Algeria</td>\n",
       "      <td>25</td>\n",
       "      <td>0</td>\n",
       "      <td>14</td>\n",
       "      <td>0.7</td>\n",
       "      <td>DZ</td>\n",
       "      <td>DZA</td>\n",
       "      <td>Africa</td>\n",
       "      <td>AF</td>\n",
       "      <td>30192754.0</td>\n",
       "      <td>42228429.0</td>\n",
       "      <td>0.398628</td>\n",
       "      <td>4.818775e+10</td>\n",
       "      <td>1.737580e+11</td>\n",
       "      <td>2.605853</td>\n",
       "      <td>Northern Africa</td>\n",
       "      <td>Muslims</td>\n",
       "      <td>28.033886</td>\n",
       "      <td>1.659626</td>\n",
       "    </tr>\n",
       "    <tr>\n",
       "      <td>Andorra</td>\n",
       "      <td>245</td>\n",
       "      <td>138</td>\n",
       "      <td>312</td>\n",
       "      <td>12.4</td>\n",
       "      <td>AD</td>\n",
       "      <td>AND</td>\n",
       "      <td>Europe</td>\n",
       "      <td>EU</td>\n",
       "      <td>64142.0</td>\n",
       "      <td>77006.0</td>\n",
       "      <td>0.200555</td>\n",
       "      <td>1.211932e+09</td>\n",
       "      <td>3.236544e+09</td>\n",
       "      <td>1.670565</td>\n",
       "      <td>Southern Europe</td>\n",
       "      <td>Christians</td>\n",
       "      <td>42.546245</td>\n",
       "      <td>1.601554</td>\n",
       "    </tr>\n",
       "    <tr>\n",
       "      <td>Angola</td>\n",
       "      <td>217</td>\n",
       "      <td>57</td>\n",
       "      <td>45</td>\n",
       "      <td>5.9</td>\n",
       "      <td>AO</td>\n",
       "      <td>AGO</td>\n",
       "      <td>Africa</td>\n",
       "      <td>AF</td>\n",
       "      <td>15359601.0</td>\n",
       "      <td>30809762.0</td>\n",
       "      <td>1.005896</td>\n",
       "      <td>6.506230e+09</td>\n",
       "      <td>1.057510e+11</td>\n",
       "      <td>15.253805</td>\n",
       "      <td>Sub-Saharan Africa</td>\n",
       "      <td>Christians</td>\n",
       "      <td>-11.202692</td>\n",
       "      <td>17.873887</td>\n",
       "    </tr>\n",
       "  </tbody>\n",
       "</table>\n",
       "</div>"
      ],
      "text/plain": [
       "             beer_servings  spirit_servings  wine_servings  \\\n",
       "country                                                      \n",
       "Afghanistan              0                0              0   \n",
       "Albania                 89              132             54   \n",
       "Algeria                 25                0             14   \n",
       "Andorra                245              138            312   \n",
       "Angola                 217               57             45   \n",
       "\n",
       "             total_litres_of_pure_alcohol Code Three_Letter_Country_Code  \\\n",
       "country                                                                    \n",
       "Afghanistan                           0.0   AF                       AFG   \n",
       "Albania                               4.9   AL                       ALB   \n",
       "Algeria                               0.7   DZ                       DZA   \n",
       "Andorra                              12.4   AD                       AND   \n",
       "Angola                                5.9   AO                       AGO   \n",
       "\n",
       "            Continent_Name Continent_Code    pop_1998    pop_2018  \\\n",
       "country                                                             \n",
       "Afghanistan           Asia             AS  19737765.0  37172386.0   \n",
       "Albania             Europe             EU   3128530.0   2866376.0   \n",
       "Algeria             Africa             AF  30192754.0  42228429.0   \n",
       "Andorra             Europe             EU     64142.0     77006.0   \n",
       "Angola              Africa             AF  15359601.0  30809762.0   \n",
       "\n",
       "             Population_diff      gdp_1998      gdp_2018   GDP_diff  \\\n",
       "country                                                               \n",
       "Afghanistan         0.883313           NaN  1.936297e+10        NaN   \n",
       "Albania            -0.083795  2.545967e+09  1.510250e+10   4.931931   \n",
       "Algeria             0.398628  4.818775e+10  1.737580e+11   2.605853   \n",
       "Andorra             0.200555  1.211932e+09  3.236544e+09   1.670565   \n",
       "Angola              1.005896  6.506230e+09  1.057510e+11  15.253805   \n",
       "\n",
       "                     sub-region    Religion   latitude  longitude  \n",
       "country                                                            \n",
       "Afghanistan       Southern Asia     Muslims  33.939110  67.709953  \n",
       "Albania         Southern Europe     Muslims  41.153332  20.168331  \n",
       "Algeria         Northern Africa     Muslims  28.033886   1.659626  \n",
       "Andorra         Southern Europe  Christians  42.546245   1.601554  \n",
       "Angola       Sub-Saharan Africa  Christians -11.202692  17.873887  "
      ]
     },
     "execution_count": 20,
     "metadata": {},
     "output_type": "execute_result"
    }
   ],
   "source": [
    "df.head()"
   ]
  },
  {
   "cell_type": "markdown",
   "metadata": {},
   "source": [
    "# Analyze missing data"
   ]
  },
  {
   "cell_type": "code",
   "execution_count": 21,
   "metadata": {
    "ExecuteTime": {
     "end_time": "2020-03-15T16:45:49.910752Z",
     "start_time": "2020-03-15T16:45:49.901751Z"
    }
   },
   "outputs": [
    {
     "name": "stdout",
     "output_type": "stream",
     "text": [
      "<class 'pandas.core.frame.DataFrame'>\n",
      "Index: 179 entries, Afghanistan to Zimbabwe\n",
      "Data columns (total 18 columns):\n",
      "beer_servings                   179 non-null int64\n",
      "spirit_servings                 179 non-null int64\n",
      "wine_servings                   179 non-null int64\n",
      "total_litres_of_pure_alcohol    179 non-null float64\n",
      "Code                            178 non-null object\n",
      "Three_Letter_Country_Code       179 non-null object\n",
      "Continent_Name                  179 non-null object\n",
      "Continent_Code                  157 non-null object\n",
      "pop_1998                        179 non-null float64\n",
      "pop_2018                        179 non-null float64\n",
      "Population_diff                 179 non-null float64\n",
      "gdp_1998                        168 non-null float64\n",
      "gdp_2018                        177 non-null float64\n",
      "GDP_diff                        167 non-null float64\n",
      "sub-region                      179 non-null object\n",
      "Religion                        179 non-null object\n",
      "latitude                        178 non-null float64\n",
      "longitude                       178 non-null float64\n",
      "dtypes: float64(9), int64(3), object(6)\n",
      "memory usage: 26.6+ KB\n"
     ]
    }
   ],
   "source": [
    "df.info()"
   ]
  },
  {
   "cell_type": "markdown",
   "metadata": {},
   "source": [
    "## Continent code"
   ]
  },
  {
   "cell_type": "code",
   "execution_count": 22,
   "metadata": {
    "ExecuteTime": {
     "end_time": "2020-03-15T16:45:49.920752Z",
     "start_time": "2020-03-15T16:45:49.913750Z"
    }
   },
   "outputs": [
    {
     "data": {
      "text/plain": [
       "North America    22\n",
       "Name: Continent_Name, dtype: int64"
      ]
     },
     "execution_count": 22,
     "metadata": {},
     "output_type": "execute_result"
    }
   ],
   "source": [
    "df[df['Continent_Code'].isna()]['Continent_Name'].value_counts()"
   ]
  },
  {
   "cell_type": "markdown",
   "metadata": {},
   "source": [
    "NAs in Continen code is because of the fact that 'NA' is an acronym of North America"
   ]
  },
  {
   "cell_type": "code",
   "execution_count": 27,
   "metadata": {
    "ExecuteTime": {
     "end_time": "2020-03-15T16:46:39.925834Z",
     "start_time": "2020-03-15T16:46:39.917834Z"
    }
   },
   "outputs": [
    {
     "data": {
      "text/plain": [
       "Index(['Antigua and Barbuda', 'Barbados', 'Belize', 'Canada', 'Costa Rica',\n",
       "       'Cuba', 'Dominica', 'Dominican Republic', 'El Salvador', 'Grenada',\n",
       "       'Guatemala', 'Haiti', 'Honduras', 'Jamaica', 'Mexico', 'Nicaragua',\n",
       "       'Panama', 'St. Kitts and Nevis', 'St. Lucia',\n",
       "       'St. Vincent and the Grenadines', 'Trinidad and Tobago', 'USA'],\n",
       "      dtype='object', name='country')"
      ]
     },
     "execution_count": 27,
     "metadata": {},
     "output_type": "execute_result"
    }
   ],
   "source": [
    "df[df['Continent_Code'].isna()].index"
   ]
  },
  {
   "cell_type": "code",
   "execution_count": 28,
   "metadata": {
    "ExecuteTime": {
     "end_time": "2020-03-15T16:47:16.377825Z",
     "start_time": "2020-03-15T16:47:16.368251Z"
    }
   },
   "outputs": [],
   "source": [
    "for country in df[df['Continent_Code'].isna()].index:\n",
    "    df.at[country, 'Continent_Code'] = 'NA'"
   ]
  },
  {
   "cell_type": "markdown",
   "metadata": {},
   "source": [
    "## Country code"
   ]
  },
  {
   "cell_type": "markdown",
   "metadata": {},
   "source": [
    "Case is similar to continent code. NA country is Namibia"
   ]
  },
  {
   "cell_type": "code",
   "execution_count": 30,
   "metadata": {
    "ExecuteTime": {
     "end_time": "2020-03-15T16:48:30.422058Z",
     "start_time": "2020-03-15T16:48:30.410066Z"
    }
   },
   "outputs": [
    {
     "data": {
      "text/plain": [
       "Index(['Namibia'], dtype='object', name='country')"
      ]
     },
     "execution_count": 30,
     "metadata": {},
     "output_type": "execute_result"
    }
   ],
   "source": [
    "df[df['Code'].isna()].index"
   ]
  },
  {
   "cell_type": "code",
   "execution_count": 31,
   "metadata": {
    "ExecuteTime": {
     "end_time": "2020-03-15T16:49:02.574632Z",
     "start_time": "2020-03-15T16:49:02.570596Z"
    }
   },
   "outputs": [],
   "source": [
    "df.at['Namibia', 'Code'] = 'NA'"
   ]
  },
  {
   "cell_type": "markdown",
   "metadata": {},
   "source": [
    "## Geo loc"
   ]
  },
  {
   "cell_type": "code",
   "execution_count": 33,
   "metadata": {
    "ExecuteTime": {
     "end_time": "2020-03-15T16:49:36.998030Z",
     "start_time": "2020-03-15T16:49:36.976029Z"
    }
   },
   "outputs": [
    {
     "data": {
      "text/html": [
       "<div>\n",
       "<style scoped>\n",
       "    .dataframe tbody tr th:only-of-type {\n",
       "        vertical-align: middle;\n",
       "    }\n",
       "\n",
       "    .dataframe tbody tr th {\n",
       "        vertical-align: top;\n",
       "    }\n",
       "\n",
       "    .dataframe thead th {\n",
       "        text-align: right;\n",
       "    }\n",
       "</style>\n",
       "<table border=\"1\" class=\"dataframe\">\n",
       "  <thead>\n",
       "    <tr style=\"text-align: right;\">\n",
       "      <th></th>\n",
       "      <th>beer_servings</th>\n",
       "      <th>spirit_servings</th>\n",
       "      <th>wine_servings</th>\n",
       "      <th>total_litres_of_pure_alcohol</th>\n",
       "      <th>Code</th>\n",
       "      <th>Three_Letter_Country_Code</th>\n",
       "      <th>Continent_Name</th>\n",
       "      <th>Continent_Code</th>\n",
       "      <th>pop_1998</th>\n",
       "      <th>pop_2018</th>\n",
       "      <th>Population_diff</th>\n",
       "      <th>gdp_1998</th>\n",
       "      <th>gdp_2018</th>\n",
       "      <th>GDP_diff</th>\n",
       "      <th>sub-region</th>\n",
       "      <th>Religion</th>\n",
       "      <th>latitude</th>\n",
       "      <th>longitude</th>\n",
       "    </tr>\n",
       "    <tr>\n",
       "      <th>country</th>\n",
       "      <th></th>\n",
       "      <th></th>\n",
       "      <th></th>\n",
       "      <th></th>\n",
       "      <th></th>\n",
       "      <th></th>\n",
       "      <th></th>\n",
       "      <th></th>\n",
       "      <th></th>\n",
       "      <th></th>\n",
       "      <th></th>\n",
       "      <th></th>\n",
       "      <th></th>\n",
       "      <th></th>\n",
       "      <th></th>\n",
       "      <th></th>\n",
       "      <th></th>\n",
       "      <th></th>\n",
       "    </tr>\n",
       "  </thead>\n",
       "  <tbody>\n",
       "    <tr>\n",
       "      <td>Namibia</td>\n",
       "      <td>376</td>\n",
       "      <td>3</td>\n",
       "      <td>1</td>\n",
       "      <td>6.8</td>\n",
       "      <td>NA</td>\n",
       "      <td>NAM</td>\n",
       "      <td>Africa</td>\n",
       "      <td>AF</td>\n",
       "      <td>1731639.0</td>\n",
       "      <td>2448255.0</td>\n",
       "      <td>0.413837</td>\n",
       "      <td>3.826528e+09</td>\n",
       "      <td>1.452171e+10</td>\n",
       "      <td>2.79501</td>\n",
       "      <td>Sub-Saharan Africa</td>\n",
       "      <td>Christians</td>\n",
       "      <td>NaN</td>\n",
       "      <td>NaN</td>\n",
       "    </tr>\n",
       "  </tbody>\n",
       "</table>\n",
       "</div>"
      ],
      "text/plain": [
       "         beer_servings  spirit_servings  wine_servings  \\\n",
       "country                                                  \n",
       "Namibia            376                3              1   \n",
       "\n",
       "         total_litres_of_pure_alcohol Code Three_Letter_Country_Code  \\\n",
       "country                                                                \n",
       "Namibia                           6.8   NA                       NAM   \n",
       "\n",
       "        Continent_Name Continent_Code   pop_1998   pop_2018  Population_diff  \\\n",
       "country                                                                        \n",
       "Namibia         Africa             AF  1731639.0  2448255.0         0.413837   \n",
       "\n",
       "             gdp_1998      gdp_2018  GDP_diff          sub-region    Religion  \\\n",
       "country                                                                         \n",
       "Namibia  3.826528e+09  1.452171e+10   2.79501  Sub-Saharan Africa  Christians   \n",
       "\n",
       "         latitude  longitude  \n",
       "country                       \n",
       "Namibia       NaN        NaN  "
      ]
     },
     "execution_count": 33,
     "metadata": {},
     "output_type": "execute_result"
    }
   ],
   "source": [
    "df[df['latitude'].isna()]"
   ]
  },
  {
   "cell_type": "code",
   "execution_count": 34,
   "metadata": {
    "ExecuteTime": {
     "end_time": "2020-03-15T16:51:01.897671Z",
     "start_time": "2020-03-15T16:51:01.887672Z"
    }
   },
   "outputs": [],
   "source": [
    "df.at['Namibia', 'latitude'] = -22.95764\n",
    "df.at['Namibia', 'longitude'] = 18.49041"
   ]
  },
  {
   "cell_type": "markdown",
   "metadata": {},
   "source": [
    "## GDP"
   ]
  },
  {
   "cell_type": "code",
   "execution_count": 37,
   "metadata": {
    "ExecuteTime": {
     "end_time": "2020-03-15T16:52:18.613783Z",
     "start_time": "2020-03-15T16:52:18.589779Z"
    },
    "scrolled": true
   },
   "outputs": [
    {
     "data": {
      "text/html": [
       "<div>\n",
       "<style scoped>\n",
       "    .dataframe tbody tr th:only-of-type {\n",
       "        vertical-align: middle;\n",
       "    }\n",
       "\n",
       "    .dataframe tbody tr th {\n",
       "        vertical-align: top;\n",
       "    }\n",
       "\n",
       "    .dataframe thead th {\n",
       "        text-align: right;\n",
       "    }\n",
       "</style>\n",
       "<table border=\"1\" class=\"dataframe\">\n",
       "  <thead>\n",
       "    <tr style=\"text-align: right;\">\n",
       "      <th></th>\n",
       "      <th>beer_servings</th>\n",
       "      <th>spirit_servings</th>\n",
       "      <th>wine_servings</th>\n",
       "      <th>total_litres_of_pure_alcohol</th>\n",
       "      <th>Code</th>\n",
       "      <th>Three_Letter_Country_Code</th>\n",
       "      <th>Continent_Name</th>\n",
       "      <th>Continent_Code</th>\n",
       "      <th>pop_1998</th>\n",
       "      <th>pop_2018</th>\n",
       "      <th>Population_diff</th>\n",
       "      <th>gdp_1998</th>\n",
       "      <th>gdp_2018</th>\n",
       "      <th>GDP_diff</th>\n",
       "      <th>sub-region</th>\n",
       "      <th>Religion</th>\n",
       "      <th>latitude</th>\n",
       "      <th>longitude</th>\n",
       "    </tr>\n",
       "    <tr>\n",
       "      <th>country</th>\n",
       "      <th></th>\n",
       "      <th></th>\n",
       "      <th></th>\n",
       "      <th></th>\n",
       "      <th></th>\n",
       "      <th></th>\n",
       "      <th></th>\n",
       "      <th></th>\n",
       "      <th></th>\n",
       "      <th></th>\n",
       "      <th></th>\n",
       "      <th></th>\n",
       "      <th></th>\n",
       "      <th></th>\n",
       "      <th></th>\n",
       "      <th></th>\n",
       "      <th></th>\n",
       "      <th></th>\n",
       "    </tr>\n",
       "  </thead>\n",
       "  <tbody>\n",
       "    <tr>\n",
       "      <td>San Marino</td>\n",
       "      <td>0</td>\n",
       "      <td>0</td>\n",
       "      <td>0</td>\n",
       "      <td>0.0</td>\n",
       "      <td>SM</td>\n",
       "      <td>SMR</td>\n",
       "      <td>Europe</td>\n",
       "      <td>EU</td>\n",
       "      <td>26840.0</td>\n",
       "      <td>33785.0</td>\n",
       "      <td>0.258756</td>\n",
       "      <td>NaN</td>\n",
       "      <td>NaN</td>\n",
       "      <td>NaN</td>\n",
       "      <td>Southern Europe</td>\n",
       "      <td>Christians</td>\n",
       "      <td>43.942360</td>\n",
       "      <td>12.457777</td>\n",
       "    </tr>\n",
       "    <tr>\n",
       "      <td>Syria</td>\n",
       "      <td>5</td>\n",
       "      <td>35</td>\n",
       "      <td>16</td>\n",
       "      <td>1.0</td>\n",
       "      <td>SY</td>\n",
       "      <td>SYR</td>\n",
       "      <td>Asia</td>\n",
       "      <td>AS</td>\n",
       "      <td>15599591.0</td>\n",
       "      <td>16906283.0</td>\n",
       "      <td>0.083765</td>\n",
       "      <td>1.520085e+10</td>\n",
       "      <td>NaN</td>\n",
       "      <td>NaN</td>\n",
       "      <td>Western Asia</td>\n",
       "      <td>Muslims</td>\n",
       "      <td>34.802075</td>\n",
       "      <td>38.996815</td>\n",
       "    </tr>\n",
       "  </tbody>\n",
       "</table>\n",
       "</div>"
      ],
      "text/plain": [
       "            beer_servings  spirit_servings  wine_servings  \\\n",
       "country                                                     \n",
       "San Marino              0                0              0   \n",
       "Syria                   5               35             16   \n",
       "\n",
       "            total_litres_of_pure_alcohol Code Three_Letter_Country_Code  \\\n",
       "country                                                                   \n",
       "San Marino                           0.0   SM                       SMR   \n",
       "Syria                                1.0   SY                       SYR   \n",
       "\n",
       "           Continent_Name Continent_Code    pop_1998    pop_2018  \\\n",
       "country                                                            \n",
       "San Marino         Europe             EU     26840.0     33785.0   \n",
       "Syria                Asia             AS  15599591.0  16906283.0   \n",
       "\n",
       "            Population_diff      gdp_1998  gdp_2018  GDP_diff  \\\n",
       "country                                                         \n",
       "San Marino         0.258756           NaN       NaN       NaN   \n",
       "Syria              0.083765  1.520085e+10       NaN       NaN   \n",
       "\n",
       "                 sub-region    Religion   latitude  longitude  \n",
       "country                                                        \n",
       "San Marino  Southern Europe  Christians  43.942360  12.457777  \n",
       "Syria          Western Asia     Muslims  34.802075  38.996815  "
      ]
     },
     "execution_count": 37,
     "metadata": {},
     "output_type": "execute_result"
    }
   ],
   "source": [
    "df[df['gdp_2018'].isna()]"
   ]
  },
  {
   "cell_type": "markdown",
   "metadata": {},
   "source": [
    "Missing values in GDP data are because of politiccal context."
   ]
  },
  {
   "cell_type": "code",
   "execution_count": 38,
   "metadata": {
    "ExecuteTime": {
     "end_time": "2020-03-15T16:53:02.987263Z",
     "start_time": "2020-03-15T16:53:02.977399Z"
    },
    "scrolled": true
   },
   "outputs": [
    {
     "name": "stdout",
     "output_type": "stream",
     "text": [
      "<class 'pandas.core.frame.DataFrame'>\n",
      "Index: 179 entries, Afghanistan to Zimbabwe\n",
      "Data columns (total 18 columns):\n",
      "beer_servings                   179 non-null int64\n",
      "spirit_servings                 179 non-null int64\n",
      "wine_servings                   179 non-null int64\n",
      "total_litres_of_pure_alcohol    179 non-null float64\n",
      "Code                            179 non-null object\n",
      "Three_Letter_Country_Code       179 non-null object\n",
      "Continent_Name                  179 non-null object\n",
      "Continent_Code                  179 non-null object\n",
      "pop_1998                        179 non-null float64\n",
      "pop_2018                        179 non-null float64\n",
      "Population_diff                 179 non-null float64\n",
      "gdp_1998                        168 non-null float64\n",
      "gdp_2018                        177 non-null float64\n",
      "GDP_diff                        167 non-null float64\n",
      "sub-region                      179 non-null object\n",
      "Religion                        179 non-null object\n",
      "latitude                        179 non-null float64\n",
      "longitude                       179 non-null float64\n",
      "dtypes: float64(9), int64(3), object(6)\n",
      "memory usage: 31.6+ KB\n"
     ]
    }
   ],
   "source": [
    "df.info()"
   ]
  },
  {
   "cell_type": "markdown",
   "metadata": {},
   "source": [
    "# Analysis"
   ]
  },
  {
   "cell_type": "code",
   "execution_count": 39,
   "metadata": {
    "ExecuteTime": {
     "end_time": "2020-03-15T16:53:19.123415Z",
     "start_time": "2020-03-15T16:53:19.074381Z"
    }
   },
   "outputs": [
    {
     "data": {
      "text/html": [
       "<div>\n",
       "<style scoped>\n",
       "    .dataframe tbody tr th:only-of-type {\n",
       "        vertical-align: middle;\n",
       "    }\n",
       "\n",
       "    .dataframe tbody tr th {\n",
       "        vertical-align: top;\n",
       "    }\n",
       "\n",
       "    .dataframe thead th {\n",
       "        text-align: right;\n",
       "    }\n",
       "</style>\n",
       "<table border=\"1\" class=\"dataframe\">\n",
       "  <thead>\n",
       "    <tr style=\"text-align: right;\">\n",
       "      <th></th>\n",
       "      <th>beer_servings</th>\n",
       "      <th>spirit_servings</th>\n",
       "      <th>wine_servings</th>\n",
       "      <th>total_litres_of_pure_alcohol</th>\n",
       "      <th>pop_1998</th>\n",
       "      <th>pop_2018</th>\n",
       "      <th>Population_diff</th>\n",
       "      <th>gdp_1998</th>\n",
       "      <th>gdp_2018</th>\n",
       "      <th>GDP_diff</th>\n",
       "      <th>latitude</th>\n",
       "      <th>longitude</th>\n",
       "    </tr>\n",
       "  </thead>\n",
       "  <tbody>\n",
       "    <tr>\n",
       "      <td>count</td>\n",
       "      <td>179.000000</td>\n",
       "      <td>179.000000</td>\n",
       "      <td>179.000000</td>\n",
       "      <td>179.000000</td>\n",
       "      <td>1.790000e+02</td>\n",
       "      <td>1.790000e+02</td>\n",
       "      <td>179.000000</td>\n",
       "      <td>1.680000e+02</td>\n",
       "      <td>1.770000e+02</td>\n",
       "      <td>167.000000</td>\n",
       "      <td>179.000000</td>\n",
       "      <td>179.000000</td>\n",
       "    </tr>\n",
       "    <tr>\n",
       "      <td>mean</td>\n",
       "      <td>108.927374</td>\n",
       "      <td>82.837989</td>\n",
       "      <td>52.346369</td>\n",
       "      <td>4.827933</td>\n",
       "      <td>3.139574e+07</td>\n",
       "      <td>3.983123e+07</td>\n",
       "      <td>0.384138</td>\n",
       "      <td>1.790499e+11</td>\n",
       "      <td>4.609502e+11</td>\n",
       "      <td>3.607248</td>\n",
       "      <td>18.755313</td>\n",
       "      <td>18.860415</td>\n",
       "    </tr>\n",
       "    <tr>\n",
       "      <td>std</td>\n",
       "      <td>101.216867</td>\n",
       "      <td>88.240806</td>\n",
       "      <td>81.845858</td>\n",
       "      <td>3.790467</td>\n",
       "      <td>1.235135e+08</td>\n",
       "      <td>1.496519e+08</td>\n",
       "      <td>0.453888</td>\n",
       "      <td>8.072698e+11</td>\n",
       "      <td>1.936857e+12</td>\n",
       "      <td>3.716951</td>\n",
       "      <td>24.563423</td>\n",
       "      <td>67.133986</td>\n",
       "    </tr>\n",
       "    <tr>\n",
       "      <td>min</td>\n",
       "      <td>0.000000</td>\n",
       "      <td>0.000000</td>\n",
       "      <td>0.000000</td>\n",
       "      <td>0.000000</td>\n",
       "      <td>9.332000e+03</td>\n",
       "      <td>1.150800e+04</td>\n",
       "      <td>-0.214068</td>\n",
       "      <td>1.275763e+07</td>\n",
       "      <td>4.258778e+07</td>\n",
       "      <td>0.232811</td>\n",
       "      <td>-40.900557</td>\n",
       "      <td>-175.198242</td>\n",
       "    </tr>\n",
       "    <tr>\n",
       "      <td>25%</td>\n",
       "      <td>21.000000</td>\n",
       "      <td>6.000000</td>\n",
       "      <td>1.000000</td>\n",
       "      <td>1.300000</td>\n",
       "      <td>1.323926e+06</td>\n",
       "      <td>1.996957e+06</td>\n",
       "      <td>0.108275</td>\n",
       "      <td>2.054889e+09</td>\n",
       "      <td>9.290938e+09</td>\n",
       "      <td>1.671844</td>\n",
       "      <td>3.561042</td>\n",
       "      <td>-8.234172</td>\n",
       "    </tr>\n",
       "    <tr>\n",
       "      <td>50%</td>\n",
       "      <td>77.000000</td>\n",
       "      <td>61.000000</td>\n",
       "      <td>9.000000</td>\n",
       "      <td>4.400000</td>\n",
       "      <td>5.971000e+06</td>\n",
       "      <td>8.606316e+06</td>\n",
       "      <td>0.301077</td>\n",
       "      <td>9.011851e+09</td>\n",
       "      <td>3.987113e+10</td>\n",
       "      <td>2.688141</td>\n",
       "      <td>17.189877</td>\n",
       "      <td>19.699024</td>\n",
       "    </tr>\n",
       "    <tr>\n",
       "      <td>75%</td>\n",
       "      <td>193.000000</td>\n",
       "      <td>129.500000</td>\n",
       "      <td>72.000000</td>\n",
       "      <td>7.250000</td>\n",
       "      <td>1.758555e+07</td>\n",
       "      <td>2.573930e+07</td>\n",
       "      <td>0.593032</td>\n",
       "      <td>5.568289e+10</td>\n",
       "      <td>2.242280e+11</td>\n",
       "      <td>4.382131</td>\n",
       "      <td>40.303386</td>\n",
       "      <td>47.529347</td>\n",
       "    </tr>\n",
       "    <tr>\n",
       "      <td>max</td>\n",
       "      <td>376.000000</td>\n",
       "      <td>438.000000</td>\n",
       "      <td>370.000000</td>\n",
       "      <td>14.400000</td>\n",
       "      <td>1.241935e+09</td>\n",
       "      <td>1.392730e+09</td>\n",
       "      <td>4.043272</td>\n",
       "      <td>9.062820e+12</td>\n",
       "      <td>2.054434e+13</td>\n",
       "      <td>35.236379</td>\n",
       "      <td>64.963051</td>\n",
       "      <td>179.414413</td>\n",
       "    </tr>\n",
       "  </tbody>\n",
       "</table>\n",
       "</div>"
      ],
      "text/plain": [
       "       beer_servings  spirit_servings  wine_servings  \\\n",
       "count     179.000000       179.000000     179.000000   \n",
       "mean      108.927374        82.837989      52.346369   \n",
       "std       101.216867        88.240806      81.845858   \n",
       "min         0.000000         0.000000       0.000000   \n",
       "25%        21.000000         6.000000       1.000000   \n",
       "50%        77.000000        61.000000       9.000000   \n",
       "75%       193.000000       129.500000      72.000000   \n",
       "max       376.000000       438.000000     370.000000   \n",
       "\n",
       "       total_litres_of_pure_alcohol      pop_1998      pop_2018  \\\n",
       "count                    179.000000  1.790000e+02  1.790000e+02   \n",
       "mean                       4.827933  3.139574e+07  3.983123e+07   \n",
       "std                        3.790467  1.235135e+08  1.496519e+08   \n",
       "min                        0.000000  9.332000e+03  1.150800e+04   \n",
       "25%                        1.300000  1.323926e+06  1.996957e+06   \n",
       "50%                        4.400000  5.971000e+06  8.606316e+06   \n",
       "75%                        7.250000  1.758555e+07  2.573930e+07   \n",
       "max                       14.400000  1.241935e+09  1.392730e+09   \n",
       "\n",
       "       Population_diff      gdp_1998      gdp_2018    GDP_diff    latitude  \\\n",
       "count       179.000000  1.680000e+02  1.770000e+02  167.000000  179.000000   \n",
       "mean          0.384138  1.790499e+11  4.609502e+11    3.607248   18.755313   \n",
       "std           0.453888  8.072698e+11  1.936857e+12    3.716951   24.563423   \n",
       "min          -0.214068  1.275763e+07  4.258778e+07    0.232811  -40.900557   \n",
       "25%           0.108275  2.054889e+09  9.290938e+09    1.671844    3.561042   \n",
       "50%           0.301077  9.011851e+09  3.987113e+10    2.688141   17.189877   \n",
       "75%           0.593032  5.568289e+10  2.242280e+11    4.382131   40.303386   \n",
       "max           4.043272  9.062820e+12  2.054434e+13   35.236379   64.963051   \n",
       "\n",
       "        longitude  \n",
       "count  179.000000  \n",
       "mean    18.860415  \n",
       "std     67.133986  \n",
       "min   -175.198242  \n",
       "25%     -8.234172  \n",
       "50%     19.699024  \n",
       "75%     47.529347  \n",
       "max    179.414413  "
      ]
     },
     "execution_count": 39,
     "metadata": {},
     "output_type": "execute_result"
    }
   ],
   "source": [
    "df.describe()"
   ]
  },
  {
   "cell_type": "code",
   "execution_count": 41,
   "metadata": {
    "ExecuteTime": {
     "end_time": "2020-03-15T16:56:15.661645Z",
     "start_time": "2020-03-15T16:56:15.646684Z"
    }
   },
   "outputs": [],
   "source": [
    "df.to_csv('prepared_to_analysis.csv')"
   ]
  }
 ],
 "metadata": {
  "kernelspec": {
   "display_name": "Python 3",
   "language": "python",
   "name": "python3"
  },
  "language_info": {
   "codemirror_mode": {
    "name": "ipython",
    "version": 3
   },
   "file_extension": ".py",
   "mimetype": "text/x-python",
   "name": "python",
   "nbconvert_exporter": "python",
   "pygments_lexer": "ipython3",
   "version": "3.7.4"
  },
  "toc": {
   "base_numbering": 1,
   "nav_menu": {},
   "number_sections": true,
   "sideBar": true,
   "skip_h1_title": false,
   "title_cell": "Table of Contents",
   "title_sidebar": "Contents",
   "toc_cell": false,
   "toc_position": {},
   "toc_section_display": true,
   "toc_window_display": false
  },
  "varInspector": {
   "cols": {
    "lenName": 16,
    "lenType": 16,
    "lenVar": 40
   },
   "kernels_config": {
    "python": {
     "delete_cmd_postfix": "",
     "delete_cmd_prefix": "del ",
     "library": "var_list.py",
     "varRefreshCmd": "print(var_dic_list())"
    },
    "r": {
     "delete_cmd_postfix": ") ",
     "delete_cmd_prefix": "rm(",
     "library": "var_list.r",
     "varRefreshCmd": "cat(var_dic_list()) "
    }
   },
   "types_to_exclude": [
    "module",
    "function",
    "builtin_function_or_method",
    "instance",
    "_Feature"
   ],
   "window_display": false
  }
 },
 "nbformat": 4,
 "nbformat_minor": 2
}

{
 "cells": [
  {
   "cell_type": "markdown",
   "metadata": {},
   "source": [
    "# Podsumowanie"
   ]
  },
  {
   "cell_type": "markdown",
   "metadata": {},
   "source": [
    "Łącznie zrobiliśmy 89 commitów na Githubie - super wynik."
   ]
  },
  {
   "cell_type": "markdown",
   "metadata": {},
   "source": [
    "# Analiza wstępna"
   ]
  },
  {
   "cell_type": "markdown",
   "metadata": {
    "ExecuteTime": {
     "end_time": "2020-03-13T16:11:50.031888Z",
     "start_time": "2020-03-13T16:11:50.021888Z"
    }
   },
   "source": [
    "Każdy zrobił bardzo dobrą analizę eksploracyjną. Fajnie, że odkrywacie nowe biblioteki do wizualizacji i wyglądu tabel. Bardzo podoba mi się przedstawienie rozkładu z pionową linią oznaczającą średnią."
   ]
  },
  {
   "cell_type": "markdown",
   "metadata": {},
   "source": [
    "# Modele"
   ]
  },
  {
   "cell_type": "markdown",
   "metadata": {},
   "source": [
    "## Bartek"
   ]
  },
  {
   "cell_type": "markdown",
   "metadata": {
    "ExecuteTime": {
     "end_time": "2020-03-13T16:17:23.929663Z",
     "start_time": "2020-03-13T16:17:23.918622Z"
    }
   },
   "source": [
    "* Fajnie, że używasz modeli boostingowych, ale przydałoby się, żebyś na samym końcu zrobił jeden podsumowujący plik. XGBoosta masz w trzech różnych plikach i bez dokłądnej analizy nie wiedziałbym czym one się różnią.\n",
    "* Gratuluję za najlepszy wynik - prawie 57%. Jednak jakbym podstawił ci nowe dane do zbioru testowego to wynik mógłby być dużo gorszy. Dlatego właśnie robi się cross walidację - w prawdziwym świecie chodzi o to, żeby jak najlepiej przystosować model do nowych danych, których nie znamy, a nie tych, które już mamy."
   ]
  },
  {
   "cell_type": "markdown",
   "metadata": {},
   "source": [
    "## Paweł"
   ]
  },
  {
   "cell_type": "markdown",
   "metadata": {
    "ExecuteTime": {
     "end_time": "2020-03-13T16:19:51.726602Z",
     "start_time": "2020-03-13T16:19:51.719601Z"
    }
   },
   "source": [
    "* Fajnie, że starasz się używać RMarkdown. Zobacz jak to robi Bartek, żeby wyświetlało się na Gicie. \n",
    "* Postaraj się poczytać książkę, którą podlinkowałem na Slacku (R for data science). Wtedy twój kod stanie się bardzo przejrzysty.\n",
    "* Bardzo podobała mi się wizualizacja accuracy dla każdego K w KNN."
   ]
  },
  {
   "cell_type": "markdown",
   "metadata": {},
   "source": [
    "## Krzysiek"
   ]
  },
  {
   "cell_type": "markdown",
   "metadata": {},
   "source": [
    "* Bardzo spoko analiza wstępna - postaraj się dodać więcej kolorków,\n",
    "* Przy kolejnym projekcie spróbuj poświęcić choć trochę czasu na jakiś model,\n",
    "* Tak jak Paweł - obczaj jak Bartek robi by RMarkdown wyświetlał się dobrze na Githubie i poczytaj sobie książkę, o której wspomniałem."
   ]
  },
  {
   "cell_type": "markdown",
   "metadata": {},
   "source": [
    "# Podsumowanie podsumowania"
   ]
  },
  {
   "cell_type": "markdown",
   "metadata": {},
   "source": [
    "Dzięki za bardzo intensywne 2 albo 3 tygodnie. Nie spodziewałem się, że każdy coś wrzuci. Bardzo mi miło z tego powodu. Jeżeli macie jakieś uwagi lub chcielibyście żebym coś zmienił w kolejnych projektach, to piszcie na Slacku lub FB."
   ]
  }
 ],
 "metadata": {
  "kernelspec": {
   "display_name": "Python 3",
   "language": "python",
   "name": "python3"
  },
  "language_info": {
   "codemirror_mode": {
    "name": "ipython",
    "version": 3
   },
   "file_extension": ".py",
   "mimetype": "text/x-python",
   "name": "python",
   "nbconvert_exporter": "python",
   "pygments_lexer": "ipython3",
   "version": "3.7.4"
  },
  "toc": {
   "base_numbering": 1,
   "nav_menu": {},
   "number_sections": true,
   "sideBar": true,
   "skip_h1_title": false,
   "title_cell": "Table of Contents",
   "title_sidebar": "Contents",
   "toc_cell": false,
   "toc_position": {},
   "toc_section_display": true,
   "toc_window_display": false
  },
  "varInspector": {
   "cols": {
    "lenName": 16,
    "lenType": 16,
    "lenVar": 40
   },
   "kernels_config": {
    "python": {
     "delete_cmd_postfix": "",
     "delete_cmd_prefix": "del ",
     "library": "var_list.py",
     "varRefreshCmd": "print(var_dic_list())"
    },
    "r": {
     "delete_cmd_postfix": ") ",
     "delete_cmd_prefix": "rm(",
     "library": "var_list.r",
     "varRefreshCmd": "cat(var_dic_list()) "
    }
   },
   "types_to_exclude": [
    "module",
    "function",
    "builtin_function_or_method",
    "instance",
    "_Feature"
   ],
   "window_display": false
  }
 },
 "nbformat": 4,
 "nbformat_minor": 2
}

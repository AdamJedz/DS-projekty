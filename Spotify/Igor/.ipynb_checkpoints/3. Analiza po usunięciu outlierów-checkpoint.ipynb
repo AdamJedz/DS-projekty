{
 "cells": [
  {
   "cell_type": "code",
   "execution_count": 1,
   "metadata": {},
   "outputs": [
    {
     "data": {
      "application/javascript": [
       "\n",
       "        if (window._pyforest_update_imports_cell) { window._pyforest_update_imports_cell('import pandas as pd'); }\n",
       "    "
      ],
      "text/plain": [
       "<IPython.core.display.Javascript object>"
      ]
     },
     "metadata": {},
     "output_type": "display_data"
    }
   ],
   "source": [
    "import pandas as pd\n",
    "import matplotlib.pyplot as plt\n",
    "from sklearn.model_selection import train_test_split\n",
    "import seaborn as sns\n",
    "# ^^^ pyforest auto-imports - don't write above this line\n",
    "df = pd.read_csv('../train_set.csv')\n",
    "df = df.rename(columns={\"Unnamed: 0\": \"index\"}).set_index(\"index\")\n",
    "df.drop(['track_id', 'track_album_id', 'playlist_id'], axis = 1, inplace=True)"
   ]
  },
  {
   "cell_type": "code",
   "execution_count": 2,
   "metadata": {},
   "outputs": [],
   "source": [
    "sliced_df = df.loc[:, ['playlist_genre', 'track_popularity', 'danceability', 'energy', 'loudness', 'mode', 'speechiness', 'acousticness', 'instrumentalness',\n",
    "          'liveness', 'valence', 'tempo']]"
   ]
  },
  {
   "cell_type": "markdown",
   "metadata": {},
   "source": [
    "## Usunięcie wartości odstających"
   ]
  },
  {
   "cell_type": "markdown",
   "metadata": {},
   "source": [
    "Metodą usuwania wartości odstających będzie Interquartile Range (IQR).  \n",
    "Dla każdej zmiennej wyliczymy wartości 1 i 3 kwartyla.  \n",
    "Potem wyliczymy IQR (Q3 - Q1). \n",
    "Ze zbioru wyrzucimy te, które będą mniejsze niż Q1 - 1.5 * IQR i większe niż Q3 + 1,5 * IQR."
   ]
  },
  {
   "cell_type": "markdown",
   "metadata": {},
   "source": [
    "IQR"
   ]
  },
  {
   "cell_type": "code",
   "execution_count": 13,
   "metadata": {},
   "outputs": [
    {
     "data": {
      "text/plain": [
       "track_popularity    38.00000\n",
       "danceability         0.19800\n",
       "energy               0.26000\n",
       "loudness             3.54700\n",
       "mode                 1.00000\n",
       "speechiness          0.09100\n",
       "acousticness         0.24000\n",
       "instrumentalness     0.00502\n",
       "liveness             0.15440\n",
       "valence              0.36200\n",
       "tempo               33.94350\n",
       "dtype: float64"
      ]
     },
     "execution_count": 13,
     "metadata": {},
     "output_type": "execute_result"
    }
   ],
   "source": [
    "iqr = sliced_df.quantile(.75) - sliced_df.quantile(.25)\n",
    "iqr"
   ]
  },
  {
   "cell_type": "markdown",
   "metadata": {},
   "source": [
    "Dolna granica"
   ]
  },
  {
   "cell_type": "code",
   "execution_count": 18,
   "metadata": {},
   "outputs": [
    {
     "data": {
      "text/plain": [
       "track_popularity   -33.00000\n",
       "danceability         0.26600\n",
       "energy               0.19000\n",
       "loudness           -13.51150\n",
       "mode                -1.50000\n",
       "speechiness         -0.09550\n",
       "acousticness        -0.34500\n",
       "instrumentalness    -0.00753\n",
       "liveness            -0.13900\n",
       "valence             -0.21300\n",
       "tempo               49.03800\n",
       "dtype: float64"
      ]
     },
     "execution_count": 18,
     "metadata": {},
     "output_type": "execute_result"
    }
   ],
   "source": [
    "lower_bound = sliced_df.quantile(.25) - 1.5 * iqr\n",
    "lower_bound"
   ]
  },
  {
   "cell_type": "markdown",
   "metadata": {},
   "source": [
    "Górna granica"
   ]
  },
  {
   "cell_type": "code",
   "execution_count": 20,
   "metadata": {},
   "outputs": [
    {
     "data": {
      "text/plain": [
       "track_popularity    119.00000\n",
       "danceability          1.05800\n",
       "energy                1.23000\n",
       "loudness              0.67650\n",
       "mode                  2.50000\n",
       "speechiness           0.26850\n",
       "acousticness          0.61500\n",
       "instrumentalness      0.01255\n",
       "liveness              0.47860\n",
       "valence               1.23500\n",
       "tempo               184.81200\n",
       "dtype: float64"
      ]
     },
     "execution_count": 20,
     "metadata": {},
     "output_type": "execute_result"
    }
   ],
   "source": [
    "upper_bound = sliced_df.quantile(.75) + 1.5 * iqr\n",
    "upper_bound"
   ]
  },
  {
   "cell_type": "code",
   "execution_count": 26,
   "metadata": {},
   "outputs": [
    {
     "data": {
      "text/plain": [
       "119.0"
      ]
     },
     "execution_count": 26,
     "metadata": {},
     "output_type": "execute_result"
    }
   ],
   "source": [
    "upper_bound['track_popularity']"
   ]
  },
  {
   "cell_type": "code",
   "execution_count": 51,
   "metadata": {},
   "outputs": [],
   "source": [
    "sliced_df_no_outliers = sliced_df[(sliced_df['track_popularity'] >= lower_bound['track_popularity']) &\n",
    "         (sliced_df['track_popularity'] <= upper_bound['track_popularity']) &\n",
    "         (sliced_df['danceability'] >= lower_bound['danceability']) & \n",
    "         (sliced_df['danceability'] <= upper_bound['danceability']) &\n",
    "         (sliced_df['energy'] >= lower_bound['energy']) &\n",
    "         (sliced_df['energy'] <= upper_bound['energy']) &\n",
    "         (sliced_df['loudness'] >= lower_bound['loudness']) &\n",
    "         (sliced_df['loudness'] <= upper_bound['loudness']) &\n",
    "         (sliced_df['speechiness'] >= lower_bound['speechiness']) &\n",
    "         (sliced_df['speechiness'] <= upper_bound['speechiness']) &\n",
    "         (sliced_df['acousticness'] >= lower_bound['acousticness']) & \n",
    "         (sliced_df['acousticness'] <= upper_bound['acousticness']) &\n",
    "         (sliced_df['instrumentalness'] >= lower_bound['instrumentalness']) &\n",
    "         (sliced_df['instrumentalness'] <= upper_bound['instrumentalness']) &\n",
    "         (sliced_df['liveness'] >= lower_bound['liveness']) &\n",
    "         (sliced_df['liveness'] <= upper_bound['liveness']) &\n",
    "         (sliced_df['valence'] >= lower_bound['valence']) &\n",
    "         (sliced_df['valence'] <= upper_bound['valence']) &\n",
    "         (sliced_df['tempo'] >= lower_bound['tempo']) &\n",
    "         (sliced_df['tempo'] <= upper_bound['tempo'])]"
   ]
  },
  {
   "cell_type": "code",
   "execution_count": 52,
   "metadata": {},
   "outputs": [
    {
     "data": {
      "text/html": [
       "<div>\n",
       "<style scoped>\n",
       "    .dataframe tbody tr th:only-of-type {\n",
       "        vertical-align: middle;\n",
       "    }\n",
       "\n",
       "    .dataframe tbody tr th {\n",
       "        vertical-align: top;\n",
       "    }\n",
       "\n",
       "    .dataframe thead th {\n",
       "        text-align: right;\n",
       "    }\n",
       "</style>\n",
       "<table border=\"1\" class=\"dataframe\">\n",
       "  <thead>\n",
       "    <tr style=\"text-align: right;\">\n",
       "      <th></th>\n",
       "      <th>track_popularity</th>\n",
       "      <th>danceability</th>\n",
       "      <th>energy</th>\n",
       "      <th>loudness</th>\n",
       "      <th>mode</th>\n",
       "      <th>speechiness</th>\n",
       "      <th>acousticness</th>\n",
       "      <th>instrumentalness</th>\n",
       "      <th>liveness</th>\n",
       "      <th>valence</th>\n",
       "      <th>tempo</th>\n",
       "    </tr>\n",
       "  </thead>\n",
       "  <tbody>\n",
       "    <tr>\n",
       "      <td>track_popularity</td>\n",
       "      <td>1.000000</td>\n",
       "      <td>0.086272</td>\n",
       "      <td>-0.083792</td>\n",
       "      <td>0.079702</td>\n",
       "      <td>0.007916</td>\n",
       "      <td>-0.014907</td>\n",
       "      <td>0.065117</td>\n",
       "      <td>-0.072687</td>\n",
       "      <td>-0.025204</td>\n",
       "      <td>0.015271</td>\n",
       "      <td>0.013338</td>\n",
       "    </tr>\n",
       "    <tr>\n",
       "      <td>danceability</td>\n",
       "      <td>0.086272</td>\n",
       "      <td>1.000000</td>\n",
       "      <td>-0.162734</td>\n",
       "      <td>-0.013905</td>\n",
       "      <td>-0.054905</td>\n",
       "      <td>0.252308</td>\n",
       "      <td>0.091288</td>\n",
       "      <td>-0.038102</td>\n",
       "      <td>-0.099374</td>\n",
       "      <td>0.345671</td>\n",
       "      <td>-0.178920</td>\n",
       "    </tr>\n",
       "    <tr>\n",
       "      <td>energy</td>\n",
       "      <td>-0.083792</td>\n",
       "      <td>-0.162734</td>\n",
       "      <td>1.000000</td>\n",
       "      <td>0.607907</td>\n",
       "      <td>0.001272</td>\n",
       "      <td>0.006648</td>\n",
       "      <td>-0.358360</td>\n",
       "      <td>0.044894</td>\n",
       "      <td>0.146542</td>\n",
       "      <td>0.195949</td>\n",
       "      <td>0.127161</td>\n",
       "    </tr>\n",
       "    <tr>\n",
       "      <td>loudness</td>\n",
       "      <td>0.079702</td>\n",
       "      <td>-0.013905</td>\n",
       "      <td>0.607907</td>\n",
       "      <td>1.000000</td>\n",
       "      <td>-0.024772</td>\n",
       "      <td>0.036501</td>\n",
       "      <td>-0.182647</td>\n",
       "      <td>-0.090535</td>\n",
       "      <td>0.069517</td>\n",
       "      <td>0.027755</td>\n",
       "      <td>0.071056</td>\n",
       "    </tr>\n",
       "    <tr>\n",
       "      <td>mode</td>\n",
       "      <td>0.007916</td>\n",
       "      <td>-0.054905</td>\n",
       "      <td>0.001272</td>\n",
       "      <td>-0.024772</td>\n",
       "      <td>1.000000</td>\n",
       "      <td>-0.069048</td>\n",
       "      <td>-0.005648</td>\n",
       "      <td>-0.005026</td>\n",
       "      <td>-0.014577</td>\n",
       "      <td>0.019476</td>\n",
       "      <td>0.007155</td>\n",
       "    </tr>\n",
       "    <tr>\n",
       "      <td>speechiness</td>\n",
       "      <td>-0.014907</td>\n",
       "      <td>0.252308</td>\n",
       "      <td>0.006648</td>\n",
       "      <td>0.036501</td>\n",
       "      <td>-0.069048</td>\n",
       "      <td>1.000000</td>\n",
       "      <td>0.036153</td>\n",
       "      <td>-0.066707</td>\n",
       "      <td>0.027450</td>\n",
       "      <td>0.046710</td>\n",
       "      <td>0.015188</td>\n",
       "    </tr>\n",
       "    <tr>\n",
       "      <td>acousticness</td>\n",
       "      <td>0.065117</td>\n",
       "      <td>0.091288</td>\n",
       "      <td>-0.358360</td>\n",
       "      <td>-0.182647</td>\n",
       "      <td>-0.005648</td>\n",
       "      <td>0.036153</td>\n",
       "      <td>1.000000</td>\n",
       "      <td>-0.083659</td>\n",
       "      <td>-0.057211</td>\n",
       "      <td>0.052211</td>\n",
       "      <td>-0.077331</td>\n",
       "    </tr>\n",
       "    <tr>\n",
       "      <td>instrumentalness</td>\n",
       "      <td>-0.072687</td>\n",
       "      <td>-0.038102</td>\n",
       "      <td>0.044894</td>\n",
       "      <td>-0.090535</td>\n",
       "      <td>-0.005026</td>\n",
       "      <td>-0.066707</td>\n",
       "      <td>-0.083659</td>\n",
       "      <td>1.000000</td>\n",
       "      <td>0.005729</td>\n",
       "      <td>-0.046355</td>\n",
       "      <td>0.010331</td>\n",
       "    </tr>\n",
       "    <tr>\n",
       "      <td>liveness</td>\n",
       "      <td>-0.025204</td>\n",
       "      <td>-0.099374</td>\n",
       "      <td>0.146542</td>\n",
       "      <td>0.069517</td>\n",
       "      <td>-0.014577</td>\n",
       "      <td>0.027450</td>\n",
       "      <td>-0.057211</td>\n",
       "      <td>0.005729</td>\n",
       "      <td>1.000000</td>\n",
       "      <td>-0.011596</td>\n",
       "      <td>0.018469</td>\n",
       "    </tr>\n",
       "    <tr>\n",
       "      <td>valence</td>\n",
       "      <td>0.015271</td>\n",
       "      <td>0.345671</td>\n",
       "      <td>0.195949</td>\n",
       "      <td>0.027755</td>\n",
       "      <td>0.019476</td>\n",
       "      <td>0.046710</td>\n",
       "      <td>0.052211</td>\n",
       "      <td>-0.046355</td>\n",
       "      <td>-0.011596</td>\n",
       "      <td>1.000000</td>\n",
       "      <td>-0.033436</td>\n",
       "    </tr>\n",
       "    <tr>\n",
       "      <td>tempo</td>\n",
       "      <td>0.013338</td>\n",
       "      <td>-0.178920</td>\n",
       "      <td>0.127161</td>\n",
       "      <td>0.071056</td>\n",
       "      <td>0.007155</td>\n",
       "      <td>0.015188</td>\n",
       "      <td>-0.077331</td>\n",
       "      <td>0.010331</td>\n",
       "      <td>0.018469</td>\n",
       "      <td>-0.033436</td>\n",
       "      <td>1.000000</td>\n",
       "    </tr>\n",
       "  </tbody>\n",
       "</table>\n",
       "</div>"
      ],
      "text/plain": [
       "                  track_popularity  danceability    energy  loudness  \\\n",
       "track_popularity          1.000000      0.086272 -0.083792  0.079702   \n",
       "danceability              0.086272      1.000000 -0.162734 -0.013905   \n",
       "energy                   -0.083792     -0.162734  1.000000  0.607907   \n",
       "loudness                  0.079702     -0.013905  0.607907  1.000000   \n",
       "mode                      0.007916     -0.054905  0.001272 -0.024772   \n",
       "speechiness              -0.014907      0.252308  0.006648  0.036501   \n",
       "acousticness              0.065117      0.091288 -0.358360 -0.182647   \n",
       "instrumentalness         -0.072687     -0.038102  0.044894 -0.090535   \n",
       "liveness                 -0.025204     -0.099374  0.146542  0.069517   \n",
       "valence                   0.015271      0.345671  0.195949  0.027755   \n",
       "tempo                     0.013338     -0.178920  0.127161  0.071056   \n",
       "\n",
       "                      mode  speechiness  acousticness  instrumentalness  \\\n",
       "track_popularity  0.007916    -0.014907      0.065117         -0.072687   \n",
       "danceability     -0.054905     0.252308      0.091288         -0.038102   \n",
       "energy            0.001272     0.006648     -0.358360          0.044894   \n",
       "loudness         -0.024772     0.036501     -0.182647         -0.090535   \n",
       "mode              1.000000    -0.069048     -0.005648         -0.005026   \n",
       "speechiness      -0.069048     1.000000      0.036153         -0.066707   \n",
       "acousticness     -0.005648     0.036153      1.000000         -0.083659   \n",
       "instrumentalness -0.005026    -0.066707     -0.083659          1.000000   \n",
       "liveness         -0.014577     0.027450     -0.057211          0.005729   \n",
       "valence           0.019476     0.046710      0.052211         -0.046355   \n",
       "tempo             0.007155     0.015188     -0.077331          0.010331   \n",
       "\n",
       "                  liveness   valence     tempo  \n",
       "track_popularity -0.025204  0.015271  0.013338  \n",
       "danceability     -0.099374  0.345671 -0.178920  \n",
       "energy            0.146542  0.195949  0.127161  \n",
       "loudness          0.069517  0.027755  0.071056  \n",
       "mode             -0.014577  0.019476  0.007155  \n",
       "speechiness       0.027450  0.046710  0.015188  \n",
       "acousticness     -0.057211  0.052211 -0.077331  \n",
       "instrumentalness  0.005729 -0.046355  0.010331  \n",
       "liveness          1.000000 -0.011596  0.018469  \n",
       "valence          -0.011596  1.000000 -0.033436  \n",
       "tempo             0.018469 -0.033436  1.000000  "
      ]
     },
     "execution_count": 52,
     "metadata": {},
     "output_type": "execute_result"
    }
   ],
   "source": [
    "sliced_df_no_outliers.corr()"
   ]
  },
  {
   "cell_type": "code",
   "execution_count": 54,
   "metadata": {},
   "outputs": [],
   "source": [
    "#matplotlib inline"
   ]
  },
  {
   "cell_type": "code",
   "execution_count": 55,
   "metadata": {},
   "outputs": [
    {
     "data": {
      "application/javascript": [
       "\n",
       "        if (window._pyforest_update_imports_cell) { window._pyforest_update_imports_cell('import pandas as pd\\nimport matplotlib.pyplot as plt\\nfrom sklearn.model_selection import train_test_split\\nimport seaborn as sns'); }\n",
       "    "
      ],
      "text/plain": [
       "<IPython.core.display.Javascript object>"
      ]
     },
     "metadata": {},
     "output_type": "display_data"
    },
    {
     "data": {
      "application/javascript": [
       "\n",
       "        if (window._pyforest_update_imports_cell) { window._pyforest_update_imports_cell('import pandas as pd\\nimport matplotlib.pyplot as plt\\nfrom sklearn.model_selection import train_test_split\\nimport seaborn as sns'); }\n",
       "    "
      ],
      "text/plain": [
       "<IPython.core.display.Javascript object>"
      ]
     },
     "metadata": {},
     "output_type": "display_data"
    },
    {
     "data": {
      "text/plain": [
       "<matplotlib.axes._subplots.AxesSubplot at 0x28686a9f348>"
      ]
     },
     "execution_count": 55,
     "metadata": {},
     "output_type": "execute_result"
    },
    {
     "data": {
      "image/png": "[encoded data removed]",
      "text/plain": [
       "<Figure size 1080x720 with 2 Axes>"
      ]
     },
     "metadata": {
      "needs_background": "light"
     },
     "output_type": "display_data"
    }
   ],
   "source": [
    "plt.figure(figsize = (15,10))\n",
    "sns.heatmap(sliced_df_no_outliers.corr())"
   ]
  },
  {
   "cell_type": "markdown",
   "metadata": {},
   "source": [
    "Nie widać żadnej różnicy w korelacjach po usinięciu wartości odstających. Dodatkowo zbiór danych został bardzo mocno okrojony (wynosi ok. 60% oryginalnego). Najprawdopodobniej sposób usunięcia outlierów mocno zaburzył zbiór danych jezeli chodzi o gatunki muzyczne (duże *emd* zostało wycięte przez zmienną *instrumentalness*."
   ]
  },
  {
   "cell_type": "code",
   "execution_count": 57,
   "metadata": {},
   "outputs": [
    {
     "data": {
      "text/plain": [
       "0.6003959491357649"
      ]
     },
     "execution_count": 57,
     "metadata": {},
     "output_type": "execute_result"
    }
   ],
   "source": [
    "sliced_df_no_outliers.shape[0]/sliced_df.shape[0]"
   ]
  },
  {
   "cell_type": "code",
   "execution_count": 61,
   "metadata": {
    "scrolled": false
   },
   "outputs": [
    {
     "data": {
      "text/plain": [
       "edm     -2563\n",
       "latin   -1254\n",
       "pop     -1334\n",
       "r&b     -1680\n",
       "rap     -2178\n",
       "rock    -1487\n",
       "Name: playlist_genre, dtype: int64"
      ]
     },
     "execution_count": 61,
     "metadata": {},
     "output_type": "execute_result"
    }
   ],
   "source": [
    "sliced_df_no_outliers['playlist_genre'].value_counts() - sliced_df['playlist_genre'].value_counts()"
   ]
  },
  {
   "cell_type": "markdown",
   "metadata": {},
   "source": [
    "### Usunięcie wartości odstających 2.0"
   ]
  },
  {
   "cell_type": "markdown",
   "metadata": {},
   "source": [
    "wydaje się, że można usunąć wszystkie utworzy, które trwają poniżej 0,5 minuty (tylko dwie obserwacje)."
   ]
  },
  {
   "cell_type": "code",
   "execution_count": 63,
   "metadata": {},
   "outputs": [
    {
     "data": {
      "text/html": [
       "<div>\n",
       "<style scoped>\n",
       "    .dataframe tbody tr th:only-of-type {\n",
       "        vertical-align: middle;\n",
       "    }\n",
       "\n",
       "    .dataframe tbody tr th {\n",
       "        vertical-align: top;\n",
       "    }\n",
       "\n",
       "    .dataframe thead th {\n",
       "        text-align: right;\n",
       "    }\n",
       "</style>\n",
       "<table border=\"1\" class=\"dataframe\">\n",
       "  <thead>\n",
       "    <tr style=\"text-align: right;\">\n",
       "      <th></th>\n",
       "      <th>track_name</th>\n",
       "      <th>track_artist</th>\n",
       "      <th>track_popularity</th>\n",
       "      <th>track_album_name</th>\n",
       "      <th>track_album_release_date</th>\n",
       "      <th>playlist_name</th>\n",
       "      <th>playlist_genre</th>\n",
       "      <th>playlist_subgenre</th>\n",
       "      <th>danceability</th>\n",
       "      <th>energy</th>\n",
       "      <th>key</th>\n",
       "      <th>loudness</th>\n",
       "      <th>mode</th>\n",
       "      <th>speechiness</th>\n",
       "      <th>acousticness</th>\n",
       "      <th>instrumentalness</th>\n",
       "      <th>liveness</th>\n",
       "      <th>valence</th>\n",
       "      <th>tempo</th>\n",
       "      <th>duration_ms</th>\n",
       "    </tr>\n",
       "    <tr>\n",
       "      <th>index</th>\n",
       "      <th></th>\n",
       "      <th></th>\n",
       "      <th></th>\n",
       "      <th></th>\n",
       "      <th></th>\n",
       "      <th></th>\n",
       "      <th></th>\n",
       "      <th></th>\n",
       "      <th></th>\n",
       "      <th></th>\n",
       "      <th></th>\n",
       "      <th></th>\n",
       "      <th></th>\n",
       "      <th></th>\n",
       "      <th></th>\n",
       "      <th></th>\n",
       "      <th></th>\n",
       "      <th></th>\n",
       "      <th></th>\n",
       "      <th></th>\n",
       "    </tr>\n",
       "  </thead>\n",
       "  <tbody>\n",
       "    <tr>\n",
       "      <td>11363</td>\n",
       "      <td>Hi, How're You Doin'?</td>\n",
       "      <td>DREAMS COME TRUE</td>\n",
       "      <td>0</td>\n",
       "      <td>Dreams Come True</td>\n",
       "      <td>1989-03-21</td>\n",
       "      <td>City Pop 1985 シティーポップ</td>\n",
       "      <td>rock</td>\n",
       "      <td>album rock</td>\n",
       "      <td>0.000</td>\n",
       "      <td>0.315</td>\n",
       "      <td>1</td>\n",
       "      <td>-26.087</td>\n",
       "      <td>1</td>\n",
       "      <td>0.000</td>\n",
       "      <td>0.000</td>\n",
       "      <td>0.0000</td>\n",
       "      <td>0.00</td>\n",
       "      <td>0.000</td>\n",
       "      <td>0.000</td>\n",
       "      <td>4000</td>\n",
       "    </tr>\n",
       "    <tr>\n",
       "      <td>8339</td>\n",
       "      <td>The Screwed Up Click</td>\n",
       "      <td>DJ Screw &amp; The Screwed Up Click</td>\n",
       "      <td>0</td>\n",
       "      <td>Fallen Soldiers</td>\n",
       "      <td>2008-02-12</td>\n",
       "      <td>3rd Coast Classics</td>\n",
       "      <td>rap</td>\n",
       "      <td>southern hip hop</td>\n",
       "      <td>0.514</td>\n",
       "      <td>0.720</td>\n",
       "      <td>1</td>\n",
       "      <td>-8.507</td>\n",
       "      <td>1</td>\n",
       "      <td>0.206</td>\n",
       "      <td>0.976</td>\n",
       "      <td>0.0727</td>\n",
       "      <td>0.91</td>\n",
       "      <td>0.977</td>\n",
       "      <td>85.811</td>\n",
       "      <td>29493</td>\n",
       "    </tr>\n",
       "  </tbody>\n",
       "</table>\n",
       "</div>"
      ],
      "text/plain": [
       "                  track_name                     track_artist  \\\n",
       "index                                                           \n",
       "11363  Hi, How're You Doin'?                 DREAMS COME TRUE   \n",
       "8339    The Screwed Up Click  DJ Screw & The Screwed Up Click   \n",
       "\n",
       "       track_popularity  track_album_name track_album_release_date  \\\n",
       "index                                                                \n",
       "11363                 0  Dreams Come True               1989-03-21   \n",
       "8339                  0   Fallen Soldiers               2008-02-12   \n",
       "\n",
       "               playlist_name playlist_genre playlist_subgenre  danceability  \\\n",
       "index                                                                         \n",
       "11363  City Pop 1985 シティーポップ           rock        album rock         0.000   \n",
       "8339      3rd Coast Classics            rap  southern hip hop         0.514   \n",
       "\n",
       "       energy  key  loudness  mode  speechiness  acousticness  \\\n",
       "index                                                           \n",
       "11363   0.315    1   -26.087     1        0.000         0.000   \n",
       "8339    0.720    1    -8.507     1        0.206         0.976   \n",
       "\n",
       "       instrumentalness  liveness  valence   tempo  duration_ms  \n",
       "index                                                            \n",
       "11363            0.0000      0.00    0.000   0.000         4000  \n",
       "8339             0.0727      0.91    0.977  85.811        29493  "
      ]
     },
     "execution_count": 63,
     "metadata": {},
     "output_type": "execute_result"
    }
   ],
   "source": [
    "df[df['duration_ms'] < 30000]"
   ]
  }
 ],
 "metadata": {
  "kernelspec": {
   "display_name": "Python 3",
   "language": "python",
   "name": "python3"
  },
  "language_info": {
   "codemirror_mode": {
    "name": "ipython",
    "version": 3
   },
   "file_extension": ".py",
   "mimetype": "text/x-python",
   "name": "python",
   "nbconvert_exporter": "python",
   "pygments_lexer": "ipython3",
   "version": "3.7.4"
  }
 },
 "nbformat": 4,
 "nbformat_minor": 2
}

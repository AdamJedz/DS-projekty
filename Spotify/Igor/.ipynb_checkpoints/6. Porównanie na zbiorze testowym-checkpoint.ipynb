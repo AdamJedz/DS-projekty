{
 "cells": [
  {
   "cell_type": "code",
   "execution_count": 49,
   "metadata": {},
   "outputs": [],
   "source": [
    "import numpy as np\n",
    "import pandas as pd\n",
    "from sklearn.preprocessing import StandardScaler, PolynomialFeatures, LabelEncoder\n",
    "from sklearn.ensemble import RandomForestClassifier, BaggingClassifier\n",
    "from sklearn.linear_model import LogisticRegression\n",
    "from xgboost import XGBClassifier\n",
    "from catboost import CatBoostClassifier\n"
   ]
  },
  {
   "cell_type": "markdown",
   "metadata": {},
   "source": [
    "Najlepsze wyniki na zbiorach walidacyjnych dały:\n",
    "* Random Forest,\n",
    "* Bagging,\n",
    "* Regresja Logistyczna 3 stopnia,\n",
    "* XGBoost,\n",
    "* Catboost"
   ]
  },
  {
   "cell_type": "code",
   "execution_count": 50,
   "metadata": {},
   "outputs": [],
   "source": [
    "test_set = pd.read_csv('../test_set.csv')\n",
    "test_set = test_set.rename(columns={\"Unnamed: 0\": \"index\"}).set_index(\"index\")\n",
    "test_set.drop(['track_id', 'track_album_id', 'playlist_id'], axis = 1, inplace=True)\n",
    "train_set = pd.read_csv('../train_set.csv')\n",
    "train_set = train_set.rename(columns={\"Unnamed: 0\": \"index\"}).set_index(\"index\")\n",
    "train_set.drop(['track_id', 'track_album_id', 'playlist_id'], axis = 1, inplace=True)\n",
    "train_set = train_set[train_set['duration_ms'] >= 30000]"
   ]
  },
  {
   "cell_type": "code",
   "execution_count": 51,
   "metadata": {},
   "outputs": [],
   "source": [
    "y_train, y_test = train_set['playlist_genre'], test_set['playlist_genre']\n",
    "X_train, X_test = train_set.loc[:, ['track_popularity', 'danceability', 'energy', 'loudness', 'mode', 'speechiness', 'acousticness', 'instrumentalness',\n",
    "          'liveness', 'valence', 'tempo']], test_set.loc[:, ['track_popularity', 'danceability', 'energy', 'loudness', 'mode', 'speechiness', 'acousticness', 'instrumentalness',\n",
    "          'liveness', 'valence', 'tempo']]"
   ]
  },
  {
   "cell_type": "code",
   "execution_count": 52,
   "metadata": {},
   "outputs": [],
   "source": [
    "le = LabelEncoder()\n",
    "y_train = le.fit_transform(y_train)\n",
    "y_test = le.transform(y_test)"
   ]
  },
  {
   "cell_type": "markdown",
   "metadata": {},
   "source": [
    "## Regresja Logistyczna"
   ]
  },
  {
   "cell_type": "code",
   "execution_count": 53,
   "metadata": {},
   "outputs": [],
   "source": [
    "scaler = StandardScaler()\n",
    "X_train_scaled = scaler.fit_transform(X_train)\n",
    "X_test_scaled = scaler.transform(X_test)"
   ]
  },
  {
   "cell_type": "code",
   "execution_count": 54,
   "metadata": {},
   "outputs": [],
   "source": [
    "poly = PolynomialFeatures(3)\n",
    "X_train_scaled_poly = poly.fit_transform(X_train_scaled)\n",
    "X_test_scaled_poly = poly.transform(X_test_scaled)"
   ]
  },
  {
   "cell_type": "code",
   "execution_count": 55,
   "metadata": {},
   "outputs": [
    {
     "name": "stderr",
     "output_type": "stream",
     "text": [
      "C:\\ProgramData\\Anaconda3\\lib\\site-packages\\sklearn\\linear_model\\logistic.py:432: FutureWarning: Default solver will be changed to 'lbfgs' in 0.22. Specify a solver to silence this warning.\n",
      "  FutureWarning)\n",
      "C:\\ProgramData\\Anaconda3\\lib\\site-packages\\sklearn\\linear_model\\logistic.py:469: FutureWarning: Default multi_class will be changed to 'auto' in 0.22. Specify the multi_class option to silence this warning.\n",
      "  \"this warning.\", FutureWarning)\n"
     ]
    },
    {
     "data": {
      "text/plain": [
       "LogisticRegression(C=0.1, class_weight=None, dual=False, fit_intercept=True,\n",
       "                   intercept_scaling=1, l1_ratio=None, max_iter=100,\n",
       "                   multi_class='warn', n_jobs=None, penalty='l2',\n",
       "                   random_state=1, solver='warn', tol=0.0001, verbose=0,\n",
       "                   warm_start=False)"
      ]
     },
     "execution_count": 55,
     "metadata": {},
     "output_type": "execute_result"
    }
   ],
   "source": [
    "log_reg = LogisticRegression(random_state=1, C = .1)\n",
    "log_reg.fit(X_train_scaled_poly, y_train)"
   ]
  },
  {
   "cell_type": "code",
   "execution_count": 56,
   "metadata": {},
   "outputs": [],
   "source": [
    "y_log_reg = log_reg.predict(X_test_scaled_poly)"
   ]
  },
  {
   "cell_type": "code",
   "execution_count": 57,
   "metadata": {},
   "outputs": [
    {
     "data": {
      "text/plain": [
       "0.5191107050403533"
      ]
     },
     "execution_count": 57,
     "metadata": {},
     "output_type": "execute_result"
    }
   ],
   "source": [
    "np.mean(y_test == y_log_reg)"
   ]
  },
  {
   "cell_type": "markdown",
   "metadata": {},
   "source": [
    "## RandomForest"
   ]
  },
  {
   "cell_type": "code",
   "execution_count": 58,
   "metadata": {},
   "outputs": [
    {
     "data": {
      "text/plain": [
       "RandomForestClassifier(bootstrap=True, class_weight=None, criterion='gini',\n",
       "                       max_depth=None, max_features='auto', max_leaf_nodes=None,\n",
       "                       min_impurity_decrease=0.0, min_impurity_split=None,\n",
       "                       min_samples_leaf=10, min_samples_split=2,\n",
       "                       min_weight_fraction_leaf=0.0, n_estimators=500,\n",
       "                       n_jobs=None, oob_score=False, random_state=1, verbose=0,\n",
       "                       warm_start=False)"
      ]
     },
     "execution_count": 58,
     "metadata": {},
     "output_type": "execute_result"
    }
   ],
   "source": [
    "rf = RandomForestClassifier(random_state=1,\n",
    "                           max_features='auto',\n",
    "                           max_depth=None,\n",
    "                           min_samples_leaf=10,\n",
    "                           min_samples_split=2,\n",
    "                           n_estimators=500)\n",
    "rf.fit(X_train, y_train)"
   ]
  },
  {
   "cell_type": "code",
   "execution_count": 59,
   "metadata": {},
   "outputs": [],
   "source": [
    "y_rf = rf.predict(X_test)"
   ]
  },
  {
   "cell_type": "code",
   "execution_count": 60,
   "metadata": {},
   "outputs": [
    {
     "data": {
      "text/plain": [
       "0.5497182884117557"
      ]
     },
     "execution_count": 60,
     "metadata": {},
     "output_type": "execute_result"
    }
   ],
   "source": [
    "np.mean(y_test == y_rf)"
   ]
  },
  {
   "cell_type": "markdown",
   "metadata": {},
   "source": [
    "## Bagging"
   ]
  },
  {
   "cell_type": "code",
   "execution_count": 61,
   "metadata": {},
   "outputs": [
    {
     "data": {
      "text/plain": [
       "BaggingClassifier(base_estimator=None, bootstrap=True, bootstrap_features=False,\n",
       "                  max_features=10, max_samples=0.25, n_estimators=1000,\n",
       "                  n_jobs=None, oob_score=False, random_state=1, verbose=0,\n",
       "                  warm_start=False)"
      ]
     },
     "execution_count": 61,
     "metadata": {},
     "output_type": "execute_result"
    }
   ],
   "source": [
    "bag = BaggingClassifier(random_state=1, \n",
    "                       bootstrap=True,\n",
    "                       bootstrap_features=False,\n",
    "                       max_features=10,\n",
    "                       max_samples=.25,\n",
    "                       n_estimators=1000)\n",
    "bag.fit(X_train, y_train)"
   ]
  },
  {
   "cell_type": "code",
   "execution_count": 62,
   "metadata": {},
   "outputs": [],
   "source": [
    "y_bag = bag.predict(X_test)"
   ]
  },
  {
   "cell_type": "code",
   "execution_count": 63,
   "metadata": {},
   "outputs": [
    {
     "data": {
      "text/plain": [
       "0.5509365006852444"
      ]
     },
     "execution_count": 63,
     "metadata": {},
     "output_type": "execute_result"
    }
   ],
   "source": [
    "np.mean(y_test == y_bag)"
   ]
  },
  {
   "cell_type": "markdown",
   "metadata": {},
   "source": [
    "## XGBoost"
   ]
  },
  {
   "cell_type": "code",
   "execution_count": 64,
   "metadata": {},
   "outputs": [
    {
     "data": {
      "text/plain": [
       "XGBClassifier(base_score=0.5, booster='gbtree', colsample_bylevel=1,\n",
       "              colsample_bynode=1, colsample_bytree=1, gamma=0,\n",
       "              learning_rate=0.1, max_delta_step=0, max_depth=6,\n",
       "              min_child_weight=1, missing=None, n_estimators=250, n_jobs=1,\n",
       "              nthread=None, objective='multi:softprob', random_state=1,\n",
       "              reg_alpha=0, reg_lambda=1, scale_pos_weight=1, seed=None,\n",
       "              silent=None, subsample=1, verbosity=1)"
      ]
     },
     "execution_count": 64,
     "metadata": {},
     "output_type": "execute_result"
    }
   ],
   "source": [
    "xgb = XGBClassifier(random_state=1,\n",
    "                   booster='gbtree',\n",
    "                   max_depth=6,\n",
    "                   n_estimators=250)\n",
    "xgb.fit(X_train, y_train)"
   ]
  },
  {
   "cell_type": "code",
   "execution_count": 65,
   "metadata": {},
   "outputs": [],
   "source": [
    "y_xgb= xgb.predict(X_test)"
   ]
  },
  {
   "cell_type": "code",
   "execution_count": 66,
   "metadata": {},
   "outputs": [
    {
     "data": {
      "text/plain": [
       "0.5516978833561749"
      ]
     },
     "execution_count": 66,
     "metadata": {},
     "output_type": "execute_result"
    }
   ],
   "source": [
    "np.mean(y_test == y_xgb)"
   ]
  },
  {
   "cell_type": "markdown",
   "metadata": {},
   "source": [
    "## Catboost "
   ]
  },
  {
   "cell_type": "code",
   "execution_count": 67,
   "metadata": {},
   "outputs": [
    {
     "name": "stdout",
     "output_type": "stream",
     "text": [
      "0:\tlearn: 1.7154656\ttotal: 239ms\tremaining: 59.6s\n",
      "1:\tlearn: 1.6568377\ttotal: 486ms\tremaining: 1m\n",
      "2:\tlearn: 1.6074909\ttotal: 738ms\tremaining: 1m\n",
      "3:\tlearn: 1.5657359\ttotal: 974ms\tremaining: 59.9s\n",
      "4:\tlearn: 1.5285490\ttotal: 1.22s\tremaining: 59.6s\n",
      "5:\tlearn: 1.4980072\ttotal: 1.45s\tremaining: 58.9s\n",
      "6:\tlearn: 1.4733143\ttotal: 1.68s\tremaining: 58.3s\n",
      "7:\tlearn: 1.4482319\ttotal: 1.94s\tremaining: 58.5s\n",
      "8:\tlearn: 1.4254276\ttotal: 2.17s\tremaining: 58.1s\n",
      "9:\tlearn: 1.4074307\ttotal: 2.42s\tremaining: 58s\n",
      "10:\tlearn: 1.3897752\ttotal: 2.65s\tremaining: 57.6s\n",
      "11:\tlearn: 1.3736768\ttotal: 2.87s\tremaining: 57s\n",
      "12:\tlearn: 1.3593591\ttotal: 3.1s\tremaining: 56.5s\n",
      "13:\tlearn: 1.3460419\ttotal: 3.34s\tremaining: 56.2s\n",
      "14:\tlearn: 1.3317671\ttotal: 3.58s\tremaining: 56.1s\n",
      "15:\tlearn: 1.3200614\ttotal: 3.81s\tremaining: 55.7s\n",
      "16:\tlearn: 1.3098434\ttotal: 4.04s\tremaining: 55.4s\n",
      "17:\tlearn: 1.2991941\ttotal: 4.29s\tremaining: 55.4s\n",
      "18:\tlearn: 1.2893221\ttotal: 4.54s\tremaining: 55.2s\n",
      "19:\tlearn: 1.2806877\ttotal: 4.77s\tremaining: 54.9s\n",
      "20:\tlearn: 1.2724538\ttotal: 5.02s\tremaining: 54.8s\n",
      "21:\tlearn: 1.2638893\ttotal: 5.26s\tremaining: 54.5s\n",
      "22:\tlearn: 1.2569090\ttotal: 5.49s\tremaining: 54.2s\n",
      "23:\tlearn: 1.2493176\ttotal: 5.75s\tremaining: 54.1s\n",
      "24:\tlearn: 1.2425424\ttotal: 5.99s\tremaining: 53.9s\n",
      "25:\tlearn: 1.2351230\ttotal: 6.22s\tremaining: 53.6s\n",
      "26:\tlearn: 1.2287471\ttotal: 6.45s\tremaining: 53.2s\n",
      "27:\tlearn: 1.2229844\ttotal: 6.69s\tremaining: 53s\n",
      "28:\tlearn: 1.2160881\ttotal: 6.93s\tremaining: 52.8s\n",
      "29:\tlearn: 1.2095328\ttotal: 7.18s\tremaining: 52.7s\n",
      "30:\tlearn: 1.2041432\ttotal: 7.41s\tremaining: 52.4s\n",
      "31:\tlearn: 1.1993381\ttotal: 7.66s\tremaining: 52.2s\n",
      "32:\tlearn: 1.1946074\ttotal: 7.9s\tremaining: 51.9s\n",
      "33:\tlearn: 1.1912305\ttotal: 8.15s\tremaining: 51.8s\n",
      "34:\tlearn: 1.1877847\ttotal: 8.39s\tremaining: 51.5s\n",
      "35:\tlearn: 1.1834274\ttotal: 8.63s\tremaining: 51.3s\n",
      "36:\tlearn: 1.1787800\ttotal: 8.87s\tremaining: 51.1s\n",
      "37:\tlearn: 1.1745222\ttotal: 9.1s\tremaining: 50.8s\n",
      "38:\tlearn: 1.1711145\ttotal: 9.32s\tremaining: 50.5s\n",
      "39:\tlearn: 1.1679214\ttotal: 9.57s\tremaining: 50.2s\n",
      "40:\tlearn: 1.1648132\ttotal: 9.8s\tremaining: 50s\n",
      "41:\tlearn: 1.1599504\ttotal: 10s\tremaining: 49.7s\n",
      "42:\tlearn: 1.1568614\ttotal: 10.3s\tremaining: 49.5s\n",
      "43:\tlearn: 1.1536619\ttotal: 10.5s\tremaining: 49.4s\n",
      "44:\tlearn: 1.1502625\ttotal: 10.8s\tremaining: 49.2s\n",
      "45:\tlearn: 1.1467485\ttotal: 11s\tremaining: 48.9s\n",
      "46:\tlearn: 1.1435161\ttotal: 11.3s\tremaining: 48.7s\n",
      "47:\tlearn: 1.1402959\ttotal: 11.5s\tremaining: 48.4s\n",
      "48:\tlearn: 1.1371378\ttotal: 11.7s\tremaining: 48.1s\n",
      "49:\tlearn: 1.1342745\ttotal: 12s\tremaining: 47.8s\n",
      "50:\tlearn: 1.1318937\ttotal: 12.2s\tremaining: 47.6s\n",
      "51:\tlearn: 1.1284564\ttotal: 12.4s\tremaining: 47.3s\n",
      "52:\tlearn: 1.1252287\ttotal: 12.7s\tremaining: 47.1s\n",
      "53:\tlearn: 1.1230770\ttotal: 12.9s\tremaining: 46.8s\n",
      "54:\tlearn: 1.1194319\ttotal: 13.1s\tremaining: 46.5s\n",
      "55:\tlearn: 1.1166009\ttotal: 13.3s\tremaining: 46.2s\n",
      "56:\tlearn: 1.1148177\ttotal: 13.6s\tremaining: 45.9s\n",
      "57:\tlearn: 1.1125600\ttotal: 13.8s\tremaining: 45.7s\n",
      "58:\tlearn: 1.1106876\ttotal: 14s\tremaining: 45.4s\n",
      "59:\tlearn: 1.1083838\ttotal: 14.2s\tremaining: 45.1s\n",
      "60:\tlearn: 1.1061115\ttotal: 14.5s\tremaining: 44.8s\n",
      "61:\tlearn: 1.1029547\ttotal: 14.7s\tremaining: 44.6s\n",
      "62:\tlearn: 1.1001953\ttotal: 14.9s\tremaining: 44.3s\n",
      "63:\tlearn: 1.0975180\ttotal: 15.2s\tremaining: 44.1s\n",
      "64:\tlearn: 1.0946141\ttotal: 15.4s\tremaining: 43.8s\n",
      "65:\tlearn: 1.0932412\ttotal: 15.6s\tremaining: 43.6s\n",
      "66:\tlearn: 1.0901153\ttotal: 15.9s\tremaining: 43.3s\n",
      "67:\tlearn: 1.0879901\ttotal: 16.1s\tremaining: 43.1s\n",
      "68:\tlearn: 1.0859834\ttotal: 16.3s\tremaining: 42.8s\n",
      "69:\tlearn: 1.0834208\ttotal: 16.5s\tremaining: 42.5s\n",
      "70:\tlearn: 1.0810427\ttotal: 16.7s\tremaining: 42.2s\n",
      "71:\tlearn: 1.0787640\ttotal: 16.9s\tremaining: 41.8s\n",
      "72:\tlearn: 1.0773314\ttotal: 17s\tremaining: 41.3s\n",
      "73:\tlearn: 1.0748784\ttotal: 17.2s\tremaining: 41s\n",
      "74:\tlearn: 1.0721777\ttotal: 17.4s\tremaining: 40.7s\n",
      "75:\tlearn: 1.0694602\ttotal: 17.7s\tremaining: 40.5s\n",
      "76:\tlearn: 1.0672570\ttotal: 17.9s\tremaining: 40.2s\n",
      "77:\tlearn: 1.0651145\ttotal: 18.1s\tremaining: 40s\n",
      "78:\tlearn: 1.0628058\ttotal: 18.4s\tremaining: 39.7s\n",
      "79:\tlearn: 1.0612655\ttotal: 18.6s\tremaining: 39.5s\n",
      "80:\tlearn: 1.0589589\ttotal: 18.8s\tremaining: 39.3s\n",
      "81:\tlearn: 1.0570475\ttotal: 19.1s\tremaining: 39.1s\n",
      "82:\tlearn: 1.0552379\ttotal: 19.3s\tremaining: 38.8s\n",
      "83:\tlearn: 1.0532314\ttotal: 19.5s\tremaining: 38.6s\n",
      "84:\tlearn: 1.0507836\ttotal: 19.7s\tremaining: 38.3s\n",
      "85:\tlearn: 1.0488365\ttotal: 20s\tremaining: 38.1s\n",
      "86:\tlearn: 1.0471875\ttotal: 20.2s\tremaining: 37.9s\n",
      "87:\tlearn: 1.0444449\ttotal: 20.4s\tremaining: 37.6s\n",
      "88:\tlearn: 1.0429255\ttotal: 20.7s\tremaining: 37.4s\n",
      "89:\tlearn: 1.0410145\ttotal: 20.9s\tremaining: 37.1s\n",
      "90:\tlearn: 1.0387894\ttotal: 21.1s\tremaining: 36.9s\n",
      "91:\tlearn: 1.0368723\ttotal: 21.3s\tremaining: 36.6s\n",
      "92:\tlearn: 1.0347035\ttotal: 21.6s\tremaining: 36.4s\n",
      "93:\tlearn: 1.0327820\ttotal: 21.8s\tremaining: 36.1s\n",
      "94:\tlearn: 1.0301273\ttotal: 22s\tremaining: 35.9s\n",
      "95:\tlearn: 1.0281678\ttotal: 22.2s\tremaining: 35.7s\n",
      "96:\tlearn: 1.0267650\ttotal: 22.5s\tremaining: 35.4s\n",
      "97:\tlearn: 1.0253247\ttotal: 22.7s\tremaining: 35.2s\n",
      "98:\tlearn: 1.0241444\ttotal: 22.9s\tremaining: 35s\n",
      "99:\tlearn: 1.0224064\ttotal: 23.1s\tremaining: 34.7s\n",
      "100:\tlearn: 1.0207701\ttotal: 23.4s\tremaining: 34.5s\n",
      "101:\tlearn: 1.0188134\ttotal: 23.6s\tremaining: 34.2s\n",
      "102:\tlearn: 1.0169982\ttotal: 23.8s\tremaining: 34s\n",
      "103:\tlearn: 1.0151379\ttotal: 24s\tremaining: 33.7s\n",
      "104:\tlearn: 1.0131204\ttotal: 24.3s\tremaining: 33.5s\n",
      "105:\tlearn: 1.0118026\ttotal: 24.5s\tremaining: 33.3s\n",
      "106:\tlearn: 1.0103181\ttotal: 24.7s\tremaining: 33s\n",
      "107:\tlearn: 1.0084138\ttotal: 24.9s\tremaining: 32.8s\n",
      "108:\tlearn: 1.0067159\ttotal: 25.2s\tremaining: 32.5s\n",
      "109:\tlearn: 1.0054119\ttotal: 25.4s\tremaining: 32.3s\n",
      "110:\tlearn: 1.0043152\ttotal: 25.6s\tremaining: 32.1s\n",
      "111:\tlearn: 1.0032497\ttotal: 25.8s\tremaining: 31.8s\n",
      "112:\tlearn: 1.0020312\ttotal: 26.1s\tremaining: 31.6s\n",
      "113:\tlearn: 1.0002308\ttotal: 26.3s\tremaining: 31.4s\n",
      "114:\tlearn: 0.9982210\ttotal: 26.5s\tremaining: 31.1s\n",
      "115:\tlearn: 0.9964394\ttotal: 26.7s\tremaining: 30.9s\n",
      "116:\tlearn: 0.9944576\ttotal: 27s\tremaining: 30.6s\n",
      "117:\tlearn: 0.9919838\ttotal: 27.2s\tremaining: 30.4s\n",
      "118:\tlearn: 0.9904266\ttotal: 27.3s\tremaining: 30.1s\n",
      "119:\tlearn: 0.9886514\ttotal: 27.5s\tremaining: 29.8s\n",
      "120:\tlearn: 0.9862871\ttotal: 27.7s\tremaining: 29.5s\n",
      "121:\tlearn: 0.9849168\ttotal: 27.9s\tremaining: 29.3s\n",
      "122:\tlearn: 0.9828850\ttotal: 28.1s\tremaining: 29.1s\n",
      "123:\tlearn: 0.9803906\ttotal: 28.4s\tremaining: 28.8s\n",
      "124:\tlearn: 0.9784830\ttotal: 28.6s\tremaining: 28.6s\n",
      "125:\tlearn: 0.9768834\ttotal: 28.8s\tremaining: 28.4s\n",
      "126:\tlearn: 0.9755996\ttotal: 29.1s\tremaining: 28.1s\n",
      "127:\tlearn: 0.9738407\ttotal: 29.3s\tremaining: 27.9s\n",
      "128:\tlearn: 0.9725894\ttotal: 29.5s\tremaining: 27.7s\n",
      "129:\tlearn: 0.9714286\ttotal: 29.7s\tremaining: 27.4s\n",
      "130:\tlearn: 0.9698726\ttotal: 30s\tremaining: 27.2s\n",
      "131:\tlearn: 0.9685078\ttotal: 30.2s\tremaining: 27s\n",
      "132:\tlearn: 0.9670311\ttotal: 30.4s\tremaining: 26.8s\n",
      "133:\tlearn: 0.9648842\ttotal: 30.6s\tremaining: 26.5s\n",
      "134:\tlearn: 0.9629598\ttotal: 30.9s\tremaining: 26.3s\n",
      "135:\tlearn: 0.9618467\ttotal: 31.1s\tremaining: 26.1s\n",
      "136:\tlearn: 0.9604565\ttotal: 31.3s\tremaining: 25.8s\n",
      "137:\tlearn: 0.9583315\ttotal: 31.6s\tremaining: 25.6s\n",
      "138:\tlearn: 0.9566598\ttotal: 31.8s\tremaining: 25.4s\n",
      "139:\tlearn: 0.9554832\ttotal: 32s\tremaining: 25.2s\n",
      "140:\tlearn: 0.9547383\ttotal: 32.3s\tremaining: 24.9s\n",
      "141:\tlearn: 0.9533811\ttotal: 32.5s\tremaining: 24.7s\n",
      "142:\tlearn: 0.9518551\ttotal: 32.7s\tremaining: 24.5s\n",
      "143:\tlearn: 0.9498124\ttotal: 32.9s\tremaining: 24.3s\n",
      "144:\tlearn: 0.9484191\ttotal: 33.2s\tremaining: 24s\n",
      "145:\tlearn: 0.9470494\ttotal: 33.4s\tremaining: 23.8s\n",
      "146:\tlearn: 0.9453325\ttotal: 33.6s\tremaining: 23.5s\n",
      "147:\tlearn: 0.9441035\ttotal: 33.8s\tremaining: 23.3s\n",
      "148:\tlearn: 0.9430106\ttotal: 34s\tremaining: 23.1s\n",
      "149:\tlearn: 0.9410688\ttotal: 34.3s\tremaining: 22.8s\n",
      "150:\tlearn: 0.9398131\ttotal: 34.5s\tremaining: 22.6s\n",
      "151:\tlearn: 0.9384697\ttotal: 34.7s\tremaining: 22.4s\n",
      "152:\tlearn: 0.9367988\ttotal: 34.9s\tremaining: 22.1s\n",
      "153:\tlearn: 0.9353396\ttotal: 35.1s\tremaining: 21.9s\n",
      "154:\tlearn: 0.9338920\ttotal: 35.4s\tremaining: 21.7s\n",
      "155:\tlearn: 0.9321401\ttotal: 35.6s\tremaining: 21.4s\n",
      "156:\tlearn: 0.9309302\ttotal: 35.8s\tremaining: 21.2s\n",
      "157:\tlearn: 0.9297426\ttotal: 36s\tremaining: 21s\n",
      "158:\tlearn: 0.9285051\ttotal: 36.2s\tremaining: 20.7s\n",
      "159:\tlearn: 0.9274826\ttotal: 36.5s\tremaining: 20.5s\n",
      "160:\tlearn: 0.9265042\ttotal: 36.7s\tremaining: 20.3s\n"
     ]
    },
    {
     "name": "stdout",
     "output_type": "stream",
     "text": [
      "161:\tlearn: 0.9251463\ttotal: 36.9s\tremaining: 20s\n",
      "162:\tlearn: 0.9238460\ttotal: 37.1s\tremaining: 19.8s\n",
      "163:\tlearn: 0.9222576\ttotal: 37.3s\tremaining: 19.6s\n",
      "164:\tlearn: 0.9214694\ttotal: 37.6s\tremaining: 19.3s\n",
      "165:\tlearn: 0.9202555\ttotal: 37.7s\tremaining: 19.1s\n",
      "166:\tlearn: 0.9184739\ttotal: 37.9s\tremaining: 18.8s\n",
      "167:\tlearn: 0.9167344\ttotal: 38s\tremaining: 18.6s\n",
      "168:\tlearn: 0.9147980\ttotal: 38.2s\tremaining: 18.3s\n",
      "169:\tlearn: 0.9131168\ttotal: 38.5s\tremaining: 18.1s\n",
      "170:\tlearn: 0.9122598\ttotal: 38.7s\tremaining: 17.9s\n",
      "171:\tlearn: 0.9109879\ttotal: 38.9s\tremaining: 17.6s\n",
      "172:\tlearn: 0.9101002\ttotal: 39.1s\tremaining: 17.4s\n",
      "173:\tlearn: 0.9091679\ttotal: 39.4s\tremaining: 17.2s\n",
      "174:\tlearn: 0.9078162\ttotal: 39.6s\tremaining: 17s\n",
      "175:\tlearn: 0.9066690\ttotal: 39.8s\tremaining: 16.7s\n",
      "176:\tlearn: 0.9057865\ttotal: 40s\tremaining: 16.5s\n",
      "177:\tlearn: 0.9045526\ttotal: 40.3s\tremaining: 16.3s\n",
      "178:\tlearn: 0.9036104\ttotal: 40.5s\tremaining: 16.1s\n",
      "179:\tlearn: 0.9020176\ttotal: 40.7s\tremaining: 15.8s\n",
      "180:\tlearn: 0.9002582\ttotal: 41s\tremaining: 15.6s\n",
      "181:\tlearn: 0.8991436\ttotal: 41.2s\tremaining: 15.4s\n",
      "182:\tlearn: 0.8973955\ttotal: 41.4s\tremaining: 15.2s\n",
      "183:\tlearn: 0.8958188\ttotal: 41.6s\tremaining: 14.9s\n",
      "184:\tlearn: 0.8949429\ttotal: 41.9s\tremaining: 14.7s\n",
      "185:\tlearn: 0.8934463\ttotal: 42.1s\tremaining: 14.5s\n",
      "186:\tlearn: 0.8915967\ttotal: 42.3s\tremaining: 14.3s\n",
      "187:\tlearn: 0.8904105\ttotal: 42.5s\tremaining: 14s\n",
      "188:\tlearn: 0.8893517\ttotal: 42.8s\tremaining: 13.8s\n",
      "189:\tlearn: 0.8880643\ttotal: 43s\tremaining: 13.6s\n",
      "190:\tlearn: 0.8865170\ttotal: 43.2s\tremaining: 13.3s\n",
      "191:\tlearn: 0.8850371\ttotal: 43.4s\tremaining: 13.1s\n",
      "192:\tlearn: 0.8839648\ttotal: 43.7s\tremaining: 12.9s\n",
      "193:\tlearn: 0.8828485\ttotal: 43.9s\tremaining: 12.7s\n",
      "194:\tlearn: 0.8819661\ttotal: 44.1s\tremaining: 12.4s\n",
      "195:\tlearn: 0.8806157\ttotal: 44.3s\tremaining: 12.2s\n",
      "196:\tlearn: 0.8790264\ttotal: 44.6s\tremaining: 12s\n",
      "197:\tlearn: 0.8772323\ttotal: 44.8s\tremaining: 11.8s\n",
      "198:\tlearn: 0.8762848\ttotal: 45s\tremaining: 11.5s\n",
      "199:\tlearn: 0.8751232\ttotal: 45.2s\tremaining: 11.3s\n",
      "200:\tlearn: 0.8742471\ttotal: 45.4s\tremaining: 11.1s\n",
      "201:\tlearn: 0.8730694\ttotal: 45.7s\tremaining: 10.9s\n",
      "202:\tlearn: 0.8719764\ttotal: 45.9s\tremaining: 10.6s\n",
      "203:\tlearn: 0.8711537\ttotal: 46.1s\tremaining: 10.4s\n",
      "204:\tlearn: 0.8691421\ttotal: 46.3s\tremaining: 10.2s\n",
      "205:\tlearn: 0.8681383\ttotal: 46.6s\tremaining: 9.95s\n",
      "206:\tlearn: 0.8673704\ttotal: 46.8s\tremaining: 9.72s\n",
      "207:\tlearn: 0.8661021\ttotal: 47s\tremaining: 9.49s\n",
      "208:\tlearn: 0.8652385\ttotal: 47.2s\tremaining: 9.26s\n",
      "209:\tlearn: 0.8635121\ttotal: 47.5s\tremaining: 9.04s\n",
      "210:\tlearn: 0.8621148\ttotal: 47.7s\tremaining: 8.81s\n",
      "211:\tlearn: 0.8613226\ttotal: 47.9s\tremaining: 8.59s\n",
      "212:\tlearn: 0.8603600\ttotal: 48.1s\tremaining: 8.36s\n",
      "213:\tlearn: 0.8587688\ttotal: 48.3s\tremaining: 8.12s\n",
      "214:\tlearn: 0.8577155\ttotal: 48.4s\tremaining: 7.88s\n",
      "215:\tlearn: 0.8563514\ttotal: 48.6s\tremaining: 7.64s\n",
      "216:\tlearn: 0.8550362\ttotal: 48.8s\tremaining: 7.42s\n",
      "217:\tlearn: 0.8534635\ttotal: 49s\tremaining: 7.2s\n",
      "218:\tlearn: 0.8515139\ttotal: 49.2s\tremaining: 6.97s\n",
      "219:\tlearn: 0.8509021\ttotal: 49.5s\tremaining: 6.75s\n",
      "220:\tlearn: 0.8499356\ttotal: 49.7s\tremaining: 6.52s\n",
      "221:\tlearn: 0.8485517\ttotal: 49.9s\tremaining: 6.3s\n",
      "222:\tlearn: 0.8473301\ttotal: 50.2s\tremaining: 6.07s\n",
      "223:\tlearn: 0.8460169\ttotal: 50.4s\tremaining: 5.85s\n",
      "224:\tlearn: 0.8449909\ttotal: 50.6s\tremaining: 5.62s\n",
      "225:\tlearn: 0.8441643\ttotal: 50.8s\tremaining: 5.4s\n",
      "226:\tlearn: 0.8434219\ttotal: 51s\tremaining: 5.17s\n",
      "227:\tlearn: 0.8416024\ttotal: 51.3s\tremaining: 4.95s\n",
      "228:\tlearn: 0.8403556\ttotal: 51.5s\tremaining: 4.72s\n",
      "229:\tlearn: 0.8394983\ttotal: 51.7s\tremaining: 4.5s\n",
      "230:\tlearn: 0.8381157\ttotal: 51.9s\tremaining: 4.27s\n",
      "231:\tlearn: 0.8368369\ttotal: 52.2s\tremaining: 4.05s\n",
      "232:\tlearn: 0.8356293\ttotal: 52.4s\tremaining: 3.82s\n",
      "233:\tlearn: 0.8346239\ttotal: 52.6s\tremaining: 3.6s\n",
      "234:\tlearn: 0.8329979\ttotal: 52.8s\tremaining: 3.37s\n",
      "235:\tlearn: 0.8323826\ttotal: 53.1s\tremaining: 3.15s\n",
      "236:\tlearn: 0.8312997\ttotal: 53.3s\tremaining: 2.92s\n",
      "237:\tlearn: 0.8300883\ttotal: 53.5s\tremaining: 2.7s\n",
      "238:\tlearn: 0.8291537\ttotal: 53.8s\tremaining: 2.47s\n",
      "239:\tlearn: 0.8281145\ttotal: 54s\tremaining: 2.25s\n",
      "240:\tlearn: 0.8270831\ttotal: 54.2s\tremaining: 2.02s\n",
      "241:\tlearn: 0.8254899\ttotal: 54.5s\tremaining: 1.8s\n",
      "242:\tlearn: 0.8239783\ttotal: 54.7s\tremaining: 1.57s\n",
      "243:\tlearn: 0.8221011\ttotal: 54.9s\tremaining: 1.35s\n",
      "244:\tlearn: 0.8211910\ttotal: 55.1s\tremaining: 1.13s\n",
      "245:\tlearn: 0.8201001\ttotal: 55.4s\tremaining: 900ms\n",
      "246:\tlearn: 0.8190357\ttotal: 55.6s\tremaining: 675ms\n",
      "247:\tlearn: 0.8180338\ttotal: 55.8s\tremaining: 450ms\n",
      "248:\tlearn: 0.8167130\ttotal: 56.1s\tremaining: 225ms\n",
      "249:\tlearn: 0.8150036\ttotal: 56.3s\tremaining: 0us\n"
     ]
    },
    {
     "data": {
      "text/plain": [
       "<catboost.core.CatBoostClassifier at 0x24d1b707848>"
      ]
     },
     "execution_count": 67,
     "metadata": {},
     "output_type": "execute_result"
    }
   ],
   "source": [
    "cat = CatBoostClassifier(random_state=1,\n",
    "                        learning_rate=.1,\n",
    "                        max_depth=9,\n",
    "                        n_estimators=250)\n",
    "cat.fit(X_train, y_train)"
   ]
  },
  {
   "cell_type": "code",
   "execution_count": 68,
   "metadata": {},
   "outputs": [],
   "source": [
    "y_cat = cat.predict(X_test)"
   ]
  },
  {
   "cell_type": "code",
   "execution_count": 69,
   "metadata": {},
   "outputs": [
    {
     "data": {
      "text/plain": [
       "0.1673708557832237"
      ]
     },
     "execution_count": 69,
     "metadata": {},
     "output_type": "execute_result"
    }
   ],
   "source": [
    "np.mean(y_test == y_cat)"
   ]
  },
  {
   "cell_type": "markdown",
   "metadata": {},
   "source": [
    "Najlepsze wyniki daje XGBoost (ale bardzo nieznacznie). Nie wiem czemu CatBoost daje takie słabe rezultaty."
   ]
  }
 ],
 "metadata": {
  "kernelspec": {
   "display_name": "Python 3",
   "language": "python",
   "name": "python3"
  },
  "language_info": {
   "codemirror_mode": {
    "name": "ipython",
    "version": 3
   },
   "file_extension": ".py",
   "mimetype": "text/x-python",
   "name": "python",
   "nbconvert_exporter": "python",
   "pygments_lexer": "ipython3",
   "version": "3.7.4"
  }
 },
 "nbformat": 4,
 "nbformat_minor": 2
}
